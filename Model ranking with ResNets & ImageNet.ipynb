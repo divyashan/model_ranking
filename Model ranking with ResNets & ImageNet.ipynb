{
 "cells": [
  {
   "cell_type": "code",
   "execution_count": 1,
   "metadata": {},
   "outputs": [
    {
     "name": "stdout",
     "output_type": "stream",
     "text": [
      "Using GPU:2,6,7\n"
     ]
    }
   ],
   "source": [
    "import os  # Import the os module for operating system related functionalities\n",
    "\n",
    "import torch  # Import the torch module for deep learning functionalities\n",
    "import torchvision  # Import the torchvision module for computer vision tasks\n",
    "import torchvision.transforms as transforms  # Import the transforms module for data transformations\n",
    "\n",
    "class ImageFolderWithPaths(torchvision.datasets.ImageFolder):\n",
    "    \"\"\"Custom dataset that includes image file paths. Extends\n",
    "    torchvision.datasets.ImageFolder\n",
    "    \"\"\"\n",
    "\n",
    "    # override the __getitem__ method. this is the method that dataloader calls\n",
    "    def __getitem__(self, index):\n",
    "        # this is what ImageFolder normally returns\n",
    "        original_tuple = super(ImageFolderWithPaths, self).__getitem__(index)\n",
    "        # the image file path\n",
    "        path = self.imgs[index][0]\n",
    "        # make a new tuple that includes original and the path\n",
    "        tuple_with_path = (original_tuple + (path,))\n",
    "        return tuple_with_path\n",
    "    \n",
    "\n",
    "def restrict_GPU_pytorch(gpuid, use_cpu=False):\n",
    "    \"\"\"\n",
    "        gpuid: str, comma separated list \"0\" or \"0,1\" or even \"0,1,3\"\n",
    "    \"\"\"\n",
    "    if not use_cpu:\n",
    "        os.environ[\"CUDA_VISIBLE_DEVICES\"] = gpuid\n",
    "\n",
    "        print(\"Using GPU:{}\".format(gpuid))\n",
    "    else:\n",
    "        os.environ[\"CUDA_VISIBLE_DEVICES\"] = \"\"\n",
    "        print(\"Using CPU\")\n",
    "\n",
    "restrict_GPU_pytorch('2,6,7')"
   ]
  },
  {
   "cell_type": "code",
   "execution_count": 2,
   "metadata": {
    "scrolled": true
   },
   "outputs": [
    {
     "name": "stderr",
     "output_type": "stream",
     "text": [
      "/data/ddmg/frank/.conda/envs/frank/lib/python3.9/site-packages/torchvision/models/_utils.py:208: UserWarning: The parameter 'pretrained' is deprecated since 0.13 and may be removed in the future, please use 'weights' instead.\n",
      "  warnings.warn(\n",
      "/data/ddmg/frank/.conda/envs/frank/lib/python3.9/site-packages/torchvision/models/_utils.py:223: UserWarning: Arguments other than a weight enum or `None` for 'weights' are deprecated since 0.13 and may be removed in the future. The current behavior is equivalent to passing `weights=ResNet50_Weights.IMAGENET1K_V1`. You can also use `weights=ResNet50_Weights.DEFAULT` to get the most up-to-date weights.\n",
      "  warnings.warn(msg)\n",
      "/data/ddmg/frank/.conda/envs/frank/lib/python3.9/site-packages/torchvision/models/_utils.py:223: UserWarning: Arguments other than a weight enum or `None` for 'weights' are deprecated since 0.13 and may be removed in the future. The current behavior is equivalent to passing `weights=ResNet101_Weights.IMAGENET1K_V1`. You can also use `weights=ResNet101_Weights.DEFAULT` to get the most up-to-date weights.\n",
      "  warnings.warn(msg)\n",
      "/data/ddmg/frank/.conda/envs/frank/lib/python3.9/site-packages/torchvision/models/_utils.py:223: UserWarning: Arguments other than a weight enum or `None` for 'weights' are deprecated since 0.13 and may be removed in the future. The current behavior is equivalent to passing `weights=ResNet152_Weights.IMAGENET1K_V1`. You can also use `weights=ResNet152_Weights.DEFAULT` to get the most up-to-date weights.\n",
      "  warnings.warn(msg)\n"
     ]
    }
   ],
   "source": [
    "# Get models\n",
    "model_names = ['ResNet50', 'ResNet101', 'ResNet152']\n",
    "\n",
    "models = [torchvision.models.resnet50(pretrained=True, progress=True),\n",
    "          torchvision.models.resnet101(pretrained=True, progress=True),\n",
    "          torchvision.models.resnet152(pretrained=True, progress=True)]\n",
    "\n",
    "dataset_name = 'ImageNet'\n",
    "\n",
    "\n",
    "\n",
    "# Get dataloader for ImageNet\n",
    "transforms_list = [transforms.Resize(size=256),\n",
    "                    transforms.CenterCrop(size=224),\n",
    "                    transforms.ToTensor(),\n",
    "                    transforms.Normalize([0.485, 0.456, 0.406], [0.229, 0.224, 0.225])\n",
    "                   ]\n",
    "transform = transforms.Compose(transforms_list)\n",
    "dataset = ImageFolderWithPaths(\"/data/ddmg/prism/conformal_prediction/data/imagenet/val/\", transform = transform)  \n",
    "dataloader = torch.utils.data.DataLoader(dataset, batch_size=16, shuffle=False, num_workers=8)"
   ]
  },
  {
   "cell_type": "code",
   "execution_count": 3,
   "metadata": {},
   "outputs": [
    {
     "name": "stdout",
     "output_type": "stream",
     "text": [
      "Model: ResNet50\n"
     ]
    },
    {
     "data": {
      "application/vnd.jupyter.widget-view+json": {
       "model_id": "5033aedb38c34e5abae6ca9ec16694dc",
       "version_major": 2,
       "version_minor": 0
      },
      "text/plain": [
       "0it [00:00, ?it/s]"
      ]
     },
     "metadata": {},
     "output_type": "display_data"
    },
    {
     "name": "stdout",
     "output_type": "stream",
     "text": [
      "Model: ResNet101\n"
     ]
    },
    {
     "data": {
      "application/vnd.jupyter.widget-view+json": {
       "model_id": "d381cf9c95fc4b489e8c854b131f9aa1",
       "version_major": 2,
       "version_minor": 0
      },
      "text/plain": [
       "0it [00:00, ?it/s]"
      ]
     },
     "metadata": {},
     "output_type": "display_data"
    },
    {
     "name": "stdout",
     "output_type": "stream",
     "text": [
      "Model: ResNet152\n"
     ]
    },
    {
     "data": {
      "application/vnd.jupyter.widget-view+json": {
       "model_id": "68fd9811149a4d7ba24dbf140a8cc6ef",
       "version_major": 2,
       "version_minor": 0
      },
      "text/plain": [
       "0it [00:00, ?it/s]"
      ]
     },
     "metadata": {},
     "output_type": "display_data"
    }
   ],
   "source": [
    "import numpy as np\n",
    "from tqdm.notebook import tqdm\n",
    "# Generate predictions for each model\n",
    "# Eventually we will want to write out files containing model predictions\n",
    "# for each model x dataset we consider.\n",
    "\n",
    "import os\n",
    "import numpy as np\n",
    "\n",
    "model_pred_labels_path = '/data/ddmg/frank/shuvom/pred_matrices/model_pred_labels.npy'\n",
    "true_labels_path = '/data/ddmg/frank/shuvom/pred_matrices/true_labels.npy'\n",
    "\n",
    "if not os.path.exists(model_pred_labels_path) or not os.path.exists(true_labels_path):\n",
    "    n_models = len(models)\n",
    "    n_examples = len(dataloader.dataset)\n",
    "    model_pred_labels = np.zeros((n_examples, n_models))\n",
    "    for j, model in enumerate(models):\n",
    "        print(\"Model: {}\".format(model_names[j]))\n",
    "        \n",
    "        model.cuda()\n",
    "        model.eval()\n",
    "        \n",
    "        outputs = []\n",
    "        labels = []\n",
    "        for i, batch in tqdm(enumerate(dataloader)):\n",
    "            inputs = batch[0].cuda()\n",
    "            batch_label = batch[1]     \n",
    "\n",
    "            batch_output = model(inputs.float()).detach().cpu().numpy()\n",
    "\n",
    "            outputs.append(batch_output)\n",
    "            labels.append(batch_label)\n",
    "            \n",
    "        # Removing model from GPU to make space for the next one\n",
    "        model.to(torch.device('cpu'))\n",
    "        outputs = np.concatenate(outputs, axis=0)\n",
    "        true_labels = np.concatenate(labels)\n",
    "        \n",
    "        # Only saving out the top prediction to save space \n",
    "        pred_labels = np.argmax(outputs, axis=1)\n",
    "        model_pred_labels[:,j] = pred_labels\n",
    "        \n",
    "        torch.cuda.empty_cache()\n",
    "        \n",
    "    np.save(true_labels_path, true_labels)\n",
    "else:\n",
    "    model_pred_labels = np.load(model_pred_labels_path)\n",
    "    true_labels = np.load(true_labels_path)\n"
   ]
  },
  {
   "cell_type": "code",
   "execution_count": 4,
   "metadata": {},
   "outputs": [
    {
     "name": "stdout",
     "output_type": "stream",
     "text": [
      "Number of rows where not all three models have the same prediction: 11105\n",
      "Number of disagreements between model 0 and model 1: 8472\n",
      "Number of disagreements between model 0 and model 2: 8385\n",
      "Number of disagreements between model 1 and model 2: 7819\n"
     ]
    }
   ],
   "source": [
    "diff_predictions = np.sum(np.diff(model_pred_labels, axis=1) != 0, axis=1)\n",
    "num_diff_predictions = np.sum(diff_predictions > 0)\n",
    "print(f'Number of rows where not all three models have the same prediction: {num_diff_predictions}')\n",
    "\n",
    "from itertools import combinations\n",
    "\n",
    "# Generate all pairs of models\n",
    "model_pairs = list(combinations(range(n_models), 2))\n",
    "\n",
    "# For each pair of models, print the number of disagreements\n",
    "for pair in model_pairs:\n",
    "    disagreements = np.sum(model_pred_labels[:, pair[0]] != model_pred_labels[:, pair[1]])\n",
    "    print(f'Number of disagreements between model {pair[0]} and model {pair[1]}: {disagreements}')\n",
    "\n",
    "np.save('/data/ddmg/frank/shuvom/pred_matrices/model_pred_labels.npy', model_pred_labels)\n"
   ]
  },
  {
   "cell_type": "code",
   "execution_count": 6,
   "metadata": {},
   "outputs": [
    {
     "data": {
      "text/plain": [
       "(50000, 3)"
      ]
     },
     "execution_count": 6,
     "metadata": {},
     "output_type": "execute_result"
    }
   ],
   "source": [
    "true_labels.shape\n",
    "model_pred_labels.shape"
   ]
  },
  {
   "cell_type": "code",
   "execution_count": 7,
   "metadata": {},
   "outputs": [],
   "source": [
    "true_labels = np.array(true_labels).astype(int)\n",
    "\n",
    "\n",
    "# subsample the dataset for speed\n",
    "sample_idxs = np.random.choice(list(range(50000)), replace=False, size=2000)\n",
    "sampled_outputs = outputs[sample_idxs]\n",
    "sampled_labels = true_labels[sample_idxs]\n",
    "sampled_pred_labels = model_pred_labels[sample_idxs]"
   ]
  },
  {
   "cell_type": "code",
   "execution_count": 8,
   "metadata": {},
   "outputs": [
    {
     "name": "stdout",
     "output_type": "stream",
     "text": [
      "Model: ResNet-50\n",
      "Model accuracy: [3.200000e-04 6.400000e-04 9.600000e-04 ... 1.599744e+01 1.599872e+01\n",
      " 1.599968e+01]\n"
     ]
    },
    {
     "data": {
      "image/png": "[encoded data removed]",
      "text/plain": [
       "<Figure size 640x480 with 1 Axes>"
      ]
     },
     "metadata": {},
     "output_type": "display_data"
    }
   ],
   "source": [
    "try:\n",
    "    import matplotlib.pyplot as plt\n",
    "except ModuleNotFoundError:\n",
    "    !pip install matplotlib\n",
    "    import matplotlib.pyplot as plt\n",
    "\n",
    "# import matplotlib.pyplot as plt\n",
    "# Model accuracy\n",
    "model_idx = 0\n",
    "model_name = 'ResNet-50'\n",
    "acc = np.where(model_pred_labels[:,model_idx] == true_labels)[0]/len(labels)\n",
    "\n",
    "# Class-specific accuracy for each model\n",
    "n_classes = 1000\n",
    "class_accs = [] \n",
    "for i in range(n_classes):\n",
    "    class_accs.append(np.mean(model_pred_labels[:,model_idx][true_labels == i] == i))\n",
    "plt.hist(class_accs)\n",
    "plt.xlabel(\"Class Accuracy\")\n",
    "plt.ylabel(\"# of Classes\")\n",
    "plt.title(f\"Class Accuracy Distribution for {model_name}\")\n",
    "# i.e. for each class, which model is the best.\n",
    "\n",
    "print(f'Model: {model_name}')\n",
    "print(f'Model accuracy: {acc}')\n"
   ]
  },
  {
   "cell_type": "code",
   "execution_count": 9,
   "metadata": {},
   "outputs": [],
   "source": [
    "# Generate a n examples x n models x n classes matrix \n",
    "# where one_hot_model_predictions[i][j][k] = 1 if model j predicts example i to be class k \n",
    "n_examples = len(sampled_pred_labels)\n",
    "\n",
    "\n",
    "model_predictions = []  # Initialize an empty list to store model predictions\n",
    "for i in range(3):  # Loop over the three models\n",
    "    pred_labels = sampled_pred_labels[:,i]  # Get the predicted labels for the current model\n",
    "    one_hot_pred_labels = np.zeros((n_examples, 1000))  # Initialize a one-hot encoded array for the predicted labels\n",
    "    one_hot_pred_labels[list(range(n_examples)), pred_labels.astype(int)] = 1  # One-hot encode the predicted labels\n",
    "    model_predictions.append(one_hot_pred_labels)  # Append the one-hot encoded predictions to the list\n",
    "one_hot_predictions_all_classes = np.stack(model_predictions, axis = 1)  # Stack the one-hot encoded predictions for all models\n"
   ]
  },
  {
   "cell_type": "code",
   "execution_count": 10,
   "metadata": {},
   "outputs": [
    {
     "name": "stdout",
     "output_type": "stream",
     "text": [
      "Processing class: 426, number: 99"
     ]
    }
   ],
   "source": [
    "import numpy as np\n",
    "\n",
    "# The following code is the original code, commented out as per the instructions\n",
    "# class_idx = 1 \n",
    "# one_hot_preds_one_class = []\n",
    "# n_classes = 2\n",
    "# n_examples = len(model_pred_labels)\n",
    "# for i in range(3):\n",
    "#     one_hot_one_class = np.zeros((n_examples, n_classes))\n",
    "#     one_class_preds = (model_pred_labels[:,i] == class_idx).astype(int)\n",
    "#     one_hot_one_class[list(range(n_examples)),one_class_preds] = 1\n",
    "#     one_hot_preds_one_class.append(one_hot_one_class)\n",
    "# one_hot_predictions_one_class = np.stack(one_hot_preds_one_class, axis = 1)\n",
    "# one_hot_predictions_one_class.shape\n",
    "\n",
    "# class_idx = 1 \n",
    "# binarized_model_predictions = []\n",
    "# for i in range(3):\n",
    "#     binary_model_predictions = (model_pred_labels[:,i] == class_idx).astype(int)\n",
    "#     binarized_model_predictions.append(binary_model_predictions)\n",
    "# binarized_model_predictions = np.stack(binarized_model_predictions, axis=1)\n",
    "# binarized_model_predictions.shape\n",
    "\n",
    "# from dawid_skene import run\n",
    "# This is really slow because there are so many classes. \n",
    "# We could also make this easier by turning ImageNet into a binary problem for a particular class.\n",
    "# _, _, _, _, _, error_rates, _ = run(one_hot_predictions_one_class)\n",
    "selected_classes = np.random.choice(range(1000), size=100, replace=False)\n",
    "\n",
    "error_rates_all_classes = []  # Initialize a list to store error rates for all classes\n",
    "# num_classes = 100\n",
    "\n",
    "for idx, class_idx in enumerate(selected_classes):  # Loop over selected classes\n",
    "    print(f'\\rProcessing class: {class_idx}, number: {idx}', end='')  # Print the current class index with rolling output\n",
    "    one_hot_preds_one_class = []\n",
    "    n_classes = 2\n",
    "    n_examples = len(model_pred_labels)\n",
    "    for i in range(3):\n",
    "        one_hot_one_class = np.zeros((n_examples, n_classes))\n",
    "        one_class_preds = (model_pred_labels[:,i] == class_idx).astype(int)\n",
    "        one_hot_one_class[list(range(n_examples)),one_class_preds] = 1\n",
    "        one_hot_preds_one_class.append(one_hot_one_class)\n",
    "    one_hot_predictions_one_class = np.stack(one_hot_preds_one_class, axis = 1)\n",
    "\n",
    "    binarized_model_predictions = []\n",
    "    for i in range(3):\n",
    "        binary_model_predictions = (model_pred_labels[:,i] == class_idx).astype(int)\n",
    "        binarized_model_predictions.append(binary_model_predictions)\n",
    "    binarized_model_predictions = np.stack(binarized_model_predictions, axis=1)\n",
    "\n",
    "    from dawid_skene import run\n",
    "    import sys\n",
    "    import os\n",
    "    # Create a dummy file to redirect output\n",
    "    with open(os.devnull, 'w') as f:\n",
    "        # Save the current stdout\n",
    "        old_stdout = sys.stdout\n",
    "        # Set stdout to the dummy file\n",
    "        sys.stdout = f\n",
    "        # Run the function with print statements muted\n",
    "        _, _, _, _, _, error_rates, _ = run(one_hot_predictions_one_class)\n",
    "        # Restore stdout\n",
    "        sys.stdout = old_stdout\n",
    "    error_rates_all_classes.append(error_rates)  # Append the error rates for the current class to the list\n",
    "\n",
    "\n"
   ]
  },
  {
   "cell_type": "code",
   "execution_count": null,
   "metadata": {},
   "outputs": [],
   "source": []
  },
  {
   "attachments": {},
   "cell_type": "markdown",
   "metadata": {},
   "source": []
  },
  {
   "cell_type": "code",
   "execution_count": 11,
   "metadata": {},
   "outputs": [],
   "source": [
    "error_rates_all_classes = np.array(error_rates_all_classes)  # Convert the list to a numpy array\n",
    "np.save('/data/ddmg/frank/shuvom/pred_matrices/ds_error_rates_all_classes.npy', error_rates_all_classes)  # Save the error rates\n",
    "np.save('/data/ddmg/frank/shuvom/pred_matrices/selected_classes.npy', selected_classes)  # Save the selected classes\n"
   ]
  },
  {
   "attachments": {},
   "cell_type": "markdown",
   "metadata": {},
   "source": [
    "### Dawid-Skene"
   ]
  },
  {
   "cell_type": "code",
   "execution_count": 12,
   "metadata": {},
   "outputs": [],
   "source": [
    "# n_classes\n",
    "# model_per_class_accuracy = []\n",
    "# for model_idx in range(n_models):\n",
    "#     model_accuracy = []\n",
    "#     for class_idx in selected_classes:\n",
    "#         true_labels_class = (true_labels == class_idx).astype(int)\n",
    "#         model_pred_labels_class = (model_pred_labels[:, model_idx] = class_idx).astype(int)\n",
    "#         accuracy = np.mean(true_labels_class == model_pred_labels_class)\n",
    "#         model_accuracy.append(accuracy)\n",
    "#     model_per_class_accuracy.append(model_accuracy)\n",
    "\n",
    "# model_per_class_accuracy = np.array(model_per_class_accuracy)\n",
    "# print('Model per class accuracy:', model_per_class_accuracy)\n",
    "\n",
    "# model_pred_labels.shape\n",
    "# for class_idx in selected_classes:\n",
    "#     # Error rates for each of the models, for this class. \n",
    "#     model_accuracy = error_rates_all_classes[class_idx, :, 1, 1]  # Extract the accuracy of each model for the class\n",
    "#     model_rankings = model_accuracy.argsort() + 1  # Rank the models for the class\n",
    "\n",
    "#     # Create a dictionary to store the frequency of each ranking\n",
    "#     ranking_dict = {tuple(i): 0 for i in itertools.permutations(range(1, len(model_names) + 1))}\n",
    "\n",
    "#     # Count the frequency of each ranking\n",
    "#     for ranking in model_rankings:\n",
    "#         ranking_dict[tuple(ranking)] += 1\n",
    "\n",
    "#     # Calculate the relative frequency of each ranking\n",
    "#     relative_frequency = {k: v / np.sum(list(ranking_dict.values())) for k, v in ranking_dict.items()}\n",
    "\n",
    "#     # Plot a histogram of the relative frequency of all rankings\n",
    "#     plt.figure(figsize=(10, 6))\n",
    "#     plt.bar(range(len(relative_frequency)), list(relative_frequency.values()), align='center')\n",
    "#     plt.xticks(range(len(relative_frequency)), list(relative_frequency.keys()))\n",
    "#     plt.xlabel('Ranking')\n",
    "#     plt.ylabel('Relative Frequency')\n",
    "#     plt.title(f'Histogram of Relative Frequency of All Rankings for Class {class_idx}')\n",
    "#     plt.show()\n"
   ]
  },
  {
   "cell_type": "code",
   "execution_count": 13,
   "metadata": {},
   "outputs": [
    {
     "data": {
      "text/plain": [
       "(100, 3, 2, 2)"
      ]
     },
     "execution_count": 13,
     "metadata": {},
     "output_type": "execute_result"
    }
   ],
   "source": [
    "# error_rates_all_classes.shape\n",
    "\n",
    "error_rates_all_classes"
   ]
  },
  {
   "cell_type": "code",
   "execution_count": 86,
   "metadata": {},
   "outputs": [
    {
     "data": {
      "image/png": "[encoded data removed]",
      "text/plain": [
       "<Figure size 640x480 with 1 Axes>"
      ]
     },
     "metadata": {},
     "output_type": "display_data"
    }
   ],
   "source": [
    "# Error rates for each of the models, for this class. \n",
    "model_accuracy_ds = error_rates_all_classes[:, :, 1, 1]  # Extract the accuracy of each model for each class\n",
    "model_rankings = model_accuracy_ds.argsort(axis=1) + 1  # Rank the models for each class\n",
    "\n",
    "# print(model_accuracy)\n",
    "# Store the rankings\n",
    "np.save('/data/ddmg/frank/shuvom/pred_matrices/model_rankings.npy', model_rankings)\n",
    "\n",
    "\n",
    "import matplotlib.pyplot as plt\n",
    "import itertools\n",
    "\n",
    "\n",
    "# Create a dictionary to store the frequency of each ranking\n",
    "ranking_dict_ds = {tuple(i): 0 for i in itertools.permutations(range(1, len(model_names) + 1))}\n",
    "\n",
    "# Count the frequency of each ranking\n",
    "for ranking in model_rankings:\n",
    "    ranking_dict_ds[tuple(ranking)] += 1\n",
    "\n",
    "# Calculate the relative frequency of each ranking\n",
    "relative_frequency = {k: v / np.sum(list(ranking_dict_ds.values())) for k, v in ranking_dict_ds.items()}\n",
    "\n",
    "# Plot a histogram of the relative frequency of all rankings\n",
    "plt.bar(range(len(relative_frequency)), list(relative_frequency.values()), align='center')\n",
    "plt.xticks(range(len(relative_frequency)), list(relative_frequency.keys()))\n",
    "plt.xlabel('Ranking')\n",
    "plt.ylabel('Relative Frequency')\n",
    "plt.title('Histogram of Relative Frequency of All Rankings (D-S Estimate)')\n",
    "plt.show()\n",
    "\n",
    "\n",
    "# model_rankings.flatten()\n"
   ]
  },
  {
   "cell_type": "code",
   "execution_count": 85,
   "metadata": {},
   "outputs": [
    {
     "data": {
      "text/plain": [
       "52"
      ]
     },
     "execution_count": 85,
     "metadata": {},
     "output_type": "execute_result"
    }
   ],
   "source": [
    "# np.sum(np.abs(model_rankings - model_rankings_ds), axis=1)\n",
    "# np.sum(np.abs(model_rankings - model_trues)[:,2] == 0)\n",
    "\n",
    "# class_idx = selected_classes[3]\n",
    "# model_predictions = model_pred_labels[true_labels == class_idx]\n",
    "\n",
    "# np.sum(model_predictions != class_idx, axis=0)"
   ]
  },
  {
   "cell_type": "code",
   "execution_count": 90,
   "metadata": {},
   "outputs": [
    {
     "ename": "IndexError",
     "evalue": "list index out of range",
     "output_type": "error",
     "traceback": [
      "\u001b[0;31m---------------------------------------------------------------------------\u001b[0m",
      "\u001b[0;31mIndexError\u001b[0m                                Traceback (most recent call last)",
      "Cell \u001b[0;32mIn[90], line 16\u001b[0m\n\u001b[1;32m     13\u001b[0m \u001b[39m# Calculate the error rates for this class\u001b[39;00m\n\u001b[1;32m     14\u001b[0m model_error_rates \u001b[39m=\u001b[39m \u001b[39m1\u001b[39m \u001b[39m-\u001b[39m np\u001b[39m.\u001b[39mmean(model_predictions \u001b[39m!=\u001b[39m class_idx, axis\u001b[39m=\u001b[39m\u001b[39m0\u001b[39m)\n\u001b[0;32m---> 16\u001b[0m largest_gaps\u001b[39m.\u001b[39mappend(model_error_rates\u001b[39m.\u001b[39mmax() \u001b[39m-\u001b[39m \u001b[39msorted\u001b[39;49m(\u001b[39mset\u001b[39;49m(model_error_rates))[\u001b[39m-\u001b[39;49m\u001b[39m2\u001b[39;49m])\n\u001b[1;32m     18\u001b[0m \u001b[39m# Rank the models for this class\u001b[39;00m\n\u001b[1;32m     19\u001b[0m model_rankings_true \u001b[39m=\u001b[39m model_error_rates\u001b[39m.\u001b[39margsort() \u001b[39m+\u001b[39m \u001b[39m1\u001b[39m\n",
      "\u001b[0;31mIndexError\u001b[0m: list index out of range"
     ]
    }
   ],
   "source": [
    "import collections\n",
    "\n",
    "# Create a list to store the rankings of all classes\n",
    "ranking_dict_true = {tuple(i): 0 for i in itertools.permutations(range(1, len(model_names) + 1))}\n",
    "model_trues = []\n",
    "largest_gaps = []\n",
    "\n",
    "for class_idx in selected_classes:\n",
    "    # Extract the predictions of each model for this class\n",
    "    model_predictions = model_pred_labels[true_labels == class_idx]\n",
    "    \n",
    "    \n",
    "    # Calculate the error rates for this class\n",
    "    model_error_rates = 1 - np.mean(model_predictions != class_idx, axis=0)\n",
    "\n",
    "    largest_gaps.append(model_error_rates.max() - sorted(model_error_rates)[-2])\n",
    "    \n",
    "    # Rank the models for this class\n",
    "    model_rankings_true = model_error_rates.argsort() + 1\n",
    "    model_trues.append(model_rankings_true)\n",
    "    \n",
    "    # Add the rankings to the list\n",
    "    # all_class_rankings.append(tuple(model_rankings))\n",
    "    ranking_dict_true[tuple(model_rankings_true)] += 1\n",
    "\n",
    "\n",
    "# Count the frequency of each ranking\n",
    "relative_frequency = {k: v / np.sum(list(ranking_dict_true.values())) for k, v in ranking_dict_true.items()}\n",
    "\n",
    "\n",
    "# Plot a histogram of the relative frequency of all rankings\n",
    "plt.bar(range(len(relative_frequency)), list(relative_frequency.values()), align='center')\n",
    "plt.xticks(range(len(relative_frequency)), [str(k) for k in relative_frequency.keys()], rotation=90)\n",
    "plt.xlabel('Ranking')\n",
    "plt.ylabel('Relative Frequency')\n",
    "plt.title('Histogram of Relative Frequency of All Rankings Across Classes (True)')\n",
    "plt.show()\n",
    "\n"
   ]
  },
  {
   "cell_type": "code",
   "execution_count": 89,
   "metadata": {},
   "outputs": [
    {
     "data": {
      "image/png": "[encoded data removed]",
      "text/plain": [
       "<Figure size 640x480 with 1 Axes>"
      ]
     },
     "metadata": {},
     "output_type": "display_data"
    }
   ],
   "source": [
    "# matching_indices_count = np.sum(model_rankings_ds == model_rankings_true)\n",
    "# print(\"Number of matching indices: \", matching_indices_count)\n",
    "plt.hist(largest_gaps, bins=20, alpha=0.5)\n",
    "plt.title('Histogram of largest gaps')\n",
    "plt.xlabel('gap size')\n",
    "plt.ylabel('frequency')\n",
    "plt.show()\n",
    "\n"
   ]
  },
  {
   "cell_type": "code",
   "execution_count": 37,
   "metadata": {},
   "outputs": [
    {
     "data": {
      "text/plain": [
       "array([[3, 1, 2],\n",
       "       [2, 3, 1],\n",
       "       [1, 3, 2],\n",
       "       [1, 2, 3],\n",
       "       [2, 3, 1],\n",
       "       [2, 1, 3],\n",
       "       [1, 3, 2],\n",
       "       [3, 1, 2],\n",
       "       [1, 3, 2],\n",
       "       [1, 2, 3],\n",
       "       [1, 3, 2],\n",
       "       [1, 3, 2],\n",
       "       [2, 1, 3],\n",
       "       [1, 3, 2],\n",
       "       [1, 2, 3],\n",
       "       [1, 2, 3],\n",
       "       [1, 3, 2],\n",
       "       [1, 2, 3],\n",
       "       [3, 2, 1],\n",
       "       [1, 2, 3],\n",
       "       [3, 1, 2],\n",
       "       [3, 1, 2],\n",
       "       [3, 1, 2],\n",
       "       [1, 3, 2],\n",
       "       [1, 3, 2],\n",
       "       [1, 3, 2],\n",
       "       [1, 3, 2],\n",
       "       [2, 1, 3],\n",
       "       [3, 2, 1],\n",
       "       [2, 1, 3],\n",
       "       [3, 2, 1],\n",
       "       [1, 2, 3],\n",
       "       [1, 3, 2],\n",
       "       [1, 2, 3],\n",
       "       [1, 3, 2],\n",
       "       [1, 2, 3],\n",
       "       [3, 2, 1],\n",
       "       [2, 1, 3],\n",
       "       [1, 3, 2],\n",
       "       [1, 3, 2],\n",
       "       [1, 2, 3],\n",
       "       [3, 2, 1],\n",
       "       [3, 1, 2],\n",
       "       [1, 3, 2],\n",
       "       [2, 3, 1],\n",
       "       [1, 3, 2],\n",
       "       [1, 2, 3],\n",
       "       [3, 1, 2],\n",
       "       [2, 1, 3],\n",
       "       [2, 1, 3],\n",
       "       [1, 2, 3],\n",
       "       [2, 3, 1],\n",
       "       [2, 3, 1],\n",
       "       [3, 1, 2],\n",
       "       [2, 3, 1],\n",
       "       [3, 2, 1],\n",
       "       [1, 3, 2],\n",
       "       [1, 3, 2],\n",
       "       [1, 2, 3],\n",
       "       [1, 2, 3],\n",
       "       [2, 1, 3],\n",
       "       [3, 2, 1],\n",
       "       [2, 1, 3],\n",
       "       [1, 2, 3],\n",
       "       [1, 3, 2],\n",
       "       [1, 3, 2],\n",
       "       [3, 2, 1],\n",
       "       [1, 2, 3],\n",
       "       [1, 3, 2],\n",
       "       [2, 1, 3],\n",
       "       [1, 2, 3],\n",
       "       [2, 1, 3],\n",
       "       [2, 3, 1],\n",
       "       [1, 3, 2],\n",
       "       [1, 3, 2],\n",
       "       [3, 1, 2],\n",
       "       [2, 1, 3],\n",
       "       [2, 3, 1],\n",
       "       [1, 3, 2],\n",
       "       [1, 3, 2],\n",
       "       [2, 3, 1],\n",
       "       [2, 3, 1],\n",
       "       [2, 1, 3],\n",
       "       [2, 3, 1],\n",
       "       [1, 3, 2],\n",
       "       [3, 1, 2],\n",
       "       [1, 2, 3],\n",
       "       [2, 1, 3],\n",
       "       [1, 3, 2],\n",
       "       [1, 3, 2],\n",
       "       [3, 1, 2],\n",
       "       [2, 3, 1],\n",
       "       [2, 1, 3],\n",
       "       [1, 3, 2],\n",
       "       [1, 3, 2],\n",
       "       [1, 3, 2],\n",
       "       [1, 3, 2],\n",
       "       [3, 2, 1],\n",
       "       [1, 2, 3],\n",
       "       [2, 1, 3]])"
      ]
     },
     "execution_count": 37,
     "metadata": {},
     "output_type": "execute_result"
    }
   ],
   "source": [
    "# model_rankings_ds\n"
   ]
  },
  {
   "cell_type": "code",
   "execution_count": null,
   "metadata": {
    "collapsed": true
   },
   "outputs": [
    {
     "name": "stdout",
     "output_type": "stream",
     "text": [
      "num Patients: 2000\n",
      "Observers: [0, 1, 2]\n",
      "Classes: [0, 1, 2, 3, 4, 5, 6, 7, 8, 9, 10, 11, 12, 13, 14, 15, 16, 17, 18, 19, 20, 21, 22, 23, 24, 25, 26, 27, 28, 29, 30, 31, 32, 33, 34, 35, 36, 37, 38, 39, 40, 41, 42, 43, 44, 45, 46, 47, 48, 49, 50, 51, 52, 53, 54, 55, 56, 57, 58, 59, 60, 61, 62, 63, 64, 65, 66, 67, 68, 69, 70, 71, 72, 73, 74, 75, 76, 77, 78, 79, 80, 81, 82, 83, 84, 85, 86, 87, 88, 89, 90, 91, 92, 93, 94, 95, 96, 97, 98, 99, 100, 101, 102, 103, 104, 105, 106, 107, 108, 109, 110, 111, 112, 113, 114, 115, 116, 117, 118, 119, 120, 121, 122, 123, 124, 125, 126, 127, 128, 129, 130, 131, 132, 133, 134, 135, 136, 137, 138, 139, 140, 141, 142, 143, 144, 145, 146, 147, 148, 149, 150, 151, 152, 153, 154, 155, 156, 157, 158, 159, 160, 161, 162, 163, 164, 165, 166, 167, 168, 169, 170, 171, 172, 173, 174, 175, 176, 177, 178, 179, 180, 181, 182, 183, 184, 185, 186, 187, 188, 189, 190, 191, 192, 193, 194, 195, 196, 197, 198, 199, 200, 201, 202, 203, 204, 205, 206, 207, 208, 209, 210, 211, 212, 213, 214, 215, 216, 217, 218, 219, 220, 221, 222, 223, 224, 225, 226, 227, 228, 229, 230, 231, 232, 233, 234, 235, 236, 237, 238, 239, 240, 241, 242, 243, 244, 245, 246, 247, 248, 249, 250, 251, 252, 253, 254, 255, 256, 257, 258, 259, 260, 261, 262, 263, 264, 265, 266, 267, 268, 269, 270, 271, 272, 273, 274, 275, 276, 277, 278, 279, 280, 281, 282, 283, 284, 285, 286, 287, 288, 289, 290, 291, 292, 293, 294, 295, 296, 297, 298, 299, 300, 301, 302, 303, 304, 305, 306, 307, 308, 309, 310, 311, 312, 313, 314, 315, 316, 317, 318, 319, 320, 321, 322, 323, 324, 325, 326, 327, 328, 329, 330, 331, 332, 333, 334, 335, 336, 337, 338, 339, 340, 341, 342, 343, 344, 345, 346, 347, 348, 349, 350, 351, 352, 353, 354, 355, 356, 357, 358, 359, 360, 361, 362, 363, 364, 365, 366, 367, 368, 369, 370, 371, 372, 373, 374, 375, 376, 377, 378, 379, 380, 381, 382, 383, 384, 385, 386, 387, 388, 389, 390, 391, 392, 393, 394, 395, 396, 397, 398, 399, 400, 401, 402, 403, 404, 405, 406, 407, 408, 409, 410, 411, 412, 413, 414, 415, 416, 417, 418, 419, 420, 421, 422, 423, 424, 425, 426, 427, 428, 429, 430, 431, 432, 433, 434, 435, 436, 437, 438, 439, 440, 441, 442, 443, 444, 445, 446, 447, 448, 449, 450, 451, 452, 453, 454, 455, 456, 457, 458, 459, 460, 461, 462, 463, 464, 465, 466, 467, 468, 469, 470, 471, 472, 473, 474, 475, 476, 477, 478, 479, 480, 481, 482, 483, 484, 485, 486, 487, 488, 489, 490, 491, 492, 493, 494, 495, 496, 497, 498, 499, 500, 501, 502, 503, 504, 505, 506, 507, 508, 509, 510, 511, 512, 513, 514, 515, 516, 517, 518, 519, 520, 521, 522, 523, 524, 525, 526, 527, 528, 529, 530, 531, 532, 533, 534, 535, 536, 537, 538, 539, 540, 541, 542, 543, 544, 545, 546, 547, 548, 549, 550, 551, 552, 553, 554, 555, 556, 557, 558, 559, 560, 561, 562, 563, 564, 565, 566, 567, 568, 569, 570, 571, 572, 573, 574, 575, 576, 577, 578, 579, 580, 581, 582, 583, 584, 585, 586, 587, 588, 589, 590, 591, 592, 593, 594, 595, 596, 597, 598, 599, 600, 601, 602, 603, 604, 605, 606, 607, 608, 609, 610, 611, 612, 613, 614, 615, 616, 617, 618, 619, 620, 621, 622, 623, 624, 625, 626, 627, 628, 629, 630, 631, 632, 633, 634, 635, 636, 637, 638, 639, 640, 641, 642, 643, 644, 645, 646, 647, 648, 649, 650, 651, 652, 653, 654, 655, 656, 657, 658, 659, 660, 661, 662, 663, 664, 665, 666, 667, 668, 669, 670, 671, 672, 673, 674, 675, 676, 677, 678, 679, 680, 681, 682, 683, 684, 685, 686, 687, 688, 689, 690, 691, 692, 693, 694, 695, 696, 697, 698, 699, 700, 701, 702, 703, 704, 705, 706, 707, 708, 709, 710, 711, 712, 713, 714, 715, 716, 717, 718, 719, 720, 721, 722, 723, 724, 725, 726, 727, 728, 729, 730, 731, 732, 733, 734, 735, 736, 737, 738, 739, 740, 741, 742, 743, 744, 745, 746, 747, 748, 749, 750, 751, 752, 753, 754, 755, 756, 757, 758, 759, 760, 761, 762, 763, 764, 765, 766, 767, 768, 769, 770, 771, 772, 773, 774, 775, 776, 777, 778, 779, 780, 781, 782, 783, 784, 785, 786, 787, 788, 789, 790, 791, 792, 793, 794, 795, 796, 797, 798, 799, 800, 801, 802, 803, 804, 805, 806, 807, 808, 809, 810, 811, 812, 813, 814, 815, 816, 817, 818, 819, 820, 821, 822, 823, 824, 825, 826, 827, 828, 829, 830, 831, 832, 833, 834, 835, 836, 837, 838, 839, 840, 841, 842, 843, 844, 845, 846, 847, 848, 849, 850, 851, 852, 853, 854, 855, 856, 857, 858, 859, 860, 861, 862, 863, 864, 865, 866, 867, 868, 869, 870, 871, 872, 873, 874, 875, 876, 877, 878, 879, 880, 881, 882, 883, 884, 885, 886, 887, 888, 889, 890, 891, 892, 893, 894, 895, 896, 897, 898, 899, 900, 901, 902, 903, 904, 905, 906, 907, 908, 909, 910, 911, 912, 913, 914, 915, 916, 917, 918, 919, 920, 921, 922, 923, 924, 925, 926, 927, 928, 929, 930, 931, 932, 933, 934, 935, 936, 937, 938, 939, 940, 941, 942, 943, 944, 945, 946, 947, 948, 949, 950, 951, 952, 953, 954, 955, 956, 957, 958, 959, 960, 961, 962, 963, 964, 965, 966, 967, 968, 969, 970, 971, 972, 973, 974, 975, 976, 977, 978, 979, 980, 981, 982, 983, 984, 985, 986, 987, 988, 989, 990, 991, 992, 993, 994, 995, 996, 997, 998, 999]\n",
      "Iter\tlog-likelihood\tdelta-CM\tdelta-ER\n",
      "1 \t -14357.896071022793\n",
      "2 \t -14182.822411516825 \t0.066947\t198.823269\n"
     ]
    }
   ],
   "source": [
    "from dawid_skene import run\n",
    "# This is really slow because there are so many classes.\n",
    "run(one_hot_model_predictions)"
   ]
  },
  {
   "attachments": {},
   "cell_type": "markdown",
   "metadata": {},
   "source": [
    "### Walter & Lui"
   ]
  },
  {
   "cell_type": "code",
   "execution_count": null,
   "metadata": {},
   "outputs": [],
   "source": []
  },
  {
   "cell_type": "code",
   "execution_count": null,
   "metadata": {},
   "outputs": [],
   "source": []
  }
 ],
 "metadata": {
  "kernelspec": {
   "display_name": "Python 3 (ipykernel)",
   "language": "python",
   "name": "python3"
  },
  "language_info": {
   "codemirror_mode": {
    "name": "ipython",
    "version": 3
   },
   "file_extension": ".py",
   "mimetype": "text/x-python",
   "name": "python",
   "nbconvert_exporter": "python",
   "pygments_lexer": "ipython3",
   "version": "3.9.18"
  }
 },
 "nbformat": 4,
 "nbformat_minor": 2
}
