{
 "cells": [
  {
   "cell_type": "code",
   "execution_count": 36,
   "metadata": {},
   "outputs": [],
   "source": [
    "\n",
    "\n",
    "from paths import create_predictions_path\n",
    "import numpy as np\n",
    "import pandas as pd\n",
    "dataset = \"camelyon17\"\n",
    "algs = [\"ERM\", \"IRM\", \"GroupDRO\", \"CORAL\"]\n",
    "model = \"densenet121\"\n",
    "split = \"test\"\n",
    "\n",
    "prob_predictions_matrix = []\n",
    "binary_prediction_matrix = []\n",
    "accuracy_matrix = []\n",
    "metadata_matrix = []\n",
    "\n",
    "for alg in algs:\n",
    "    config = {\n",
    "        \"dataset\": dataset,\n",
    "        \"algorithm\": alg,\n",
    "        \"split\": split,\n",
    "        \"model\": model,\n",
    "    }\n",
    "\n",
    "    #TODO: fix this hanging underscore\n",
    "    predictions_path = create_predictions_path(config) + \"_/preds.npy\"\n",
    "    labels_path = create_predictions_path(config) + \"_/labels.npy\"\n",
    "    metadata_path = create_predictions_path(config) + \"_/metadata.npy\"\n",
    "    predictions = np.load(predictions_path)\n",
    "    labels = np.load(labels_path)\n",
    "    metadata = np.load(metadata_path)\n",
    "\n",
    "    binarized_preds = np.argmax(predictions, axis=1)\n",
    "    accuracy = binarized_preds == labels\n",
    "\n",
    "    binary_prediction_matrix.append(binarized_preds)\n",
    "    accuracy_matrix.append(accuracy)\n",
    "    prob_predictions_matrix.append(predictions)\n",
    "    metadata_matrix.append(metadata)\n",
    "\n",
    "    # Load predictions\n",
    "    # Load true labels\n",
    "    # Load metadata\n",
    "\n",
    "accuracy_matrix = np.stack(accuracy_matrix, axis=0).astype(int)\n",
    "binary_prediction_matrix = np.stack(binary_prediction_matrix, axis=0)   \n",
    "prob_predictions_matrix = np.stack(prob_predictions_matrix, axis=0) \n",
    "metadata_matrix = np.stack(metadata_matrix, axis=0)[0]\n",
    "\n",
    "#TODO: hacky\n",
    "results_df = []\n",
    "for i in range(accuracy_matrix.shape[1]):\n",
    "    result = {'index': i, 'metadata': metadata_matrix[i], 'label': labels[i]}\n",
    "    for j, alg in enumerate(algs):\n",
    "        result[alg] = accuracy_matrix[j, i]\n",
    "\n",
    "    results_df.append(result)\n",
    "results_df = pd.DataFrame(results_df)"
   ]
  },
  {
   "cell_type": "code",
   "execution_count": 38,
   "metadata": {},
   "outputs": [
    {
     "data": {
      "text/plain": [
       "ERM         0.631411\n",
       "IRM         0.562995\n",
       "GroupDRO    0.644555\n",
       "CORAL       0.621346\n",
       "dtype: float64"
      ]
     },
     "execution_count": 38,
     "metadata": {},
     "output_type": "execute_result"
    }
   ],
   "source": [
    "# Mean accuracies across algorithms\n",
    "results_df[algs].mean()"
   ]
  },
  {
   "cell_type": "code",
   "execution_count": 43,
   "metadata": {},
   "outputs": [
    {
     "data": {
      "text/html": [
       "<div>\n",
       "<style scoped>\n",
       "    .dataframe tbody tr th:only-of-type {\n",
       "        vertical-align: middle;\n",
       "    }\n",
       "\n",
       "    .dataframe tbody tr th {\n",
       "        vertical-align: top;\n",
       "    }\n",
       "\n",
       "    .dataframe thead th {\n",
       "        text-align: right;\n",
       "    }\n",
       "</style>\n",
       "<table border=\"1\" class=\"dataframe\">\n",
       "  <thead>\n",
       "    <tr style=\"text-align: right;\">\n",
       "      <th></th>\n",
       "      <th>ERM</th>\n",
       "      <th>IRM</th>\n",
       "      <th>GroupDRO</th>\n",
       "      <th>CORAL</th>\n",
       "    </tr>\n",
       "    <tr>\n",
       "      <th>WSI_index</th>\n",
       "      <th></th>\n",
       "      <th></th>\n",
       "      <th></th>\n",
       "      <th></th>\n",
       "    </tr>\n",
       "  </thead>\n",
       "  <tbody>\n",
       "    <tr>\n",
       "      <th>20</th>\n",
       "      <td>0.938058</td>\n",
       "      <td>0.792651</td>\n",
       "      <td>0.944882</td>\n",
       "      <td>0.850656</td>\n",
       "    </tr>\n",
       "    <tr>\n",
       "      <th>21</th>\n",
       "      <td>0.864916</td>\n",
       "      <td>0.637791</td>\n",
       "      <td>0.884678</td>\n",
       "      <td>0.651056</td>\n",
       "    </tr>\n",
       "    <tr>\n",
       "      <th>22</th>\n",
       "      <td>0.452982</td>\n",
       "      <td>0.516921</td>\n",
       "      <td>0.561720</td>\n",
       "      <td>0.783356</td>\n",
       "    </tr>\n",
       "    <tr>\n",
       "      <th>23</th>\n",
       "      <td>0.548979</td>\n",
       "      <td>0.462935</td>\n",
       "      <td>0.495840</td>\n",
       "      <td>0.554652</td>\n",
       "    </tr>\n",
       "    <tr>\n",
       "      <th>24</th>\n",
       "      <td>0.932833</td>\n",
       "      <td>0.856607</td>\n",
       "      <td>0.883525</td>\n",
       "      <td>0.658341</td>\n",
       "    </tr>\n",
       "    <tr>\n",
       "      <th>25</th>\n",
       "      <td>0.699354</td>\n",
       "      <td>0.641209</td>\n",
       "      <td>0.720120</td>\n",
       "      <td>0.629211</td>\n",
       "    </tr>\n",
       "    <tr>\n",
       "      <th>26</th>\n",
       "      <td>0.841153</td>\n",
       "      <td>0.802621</td>\n",
       "      <td>0.818611</td>\n",
       "      <td>0.672346</td>\n",
       "    </tr>\n",
       "    <tr>\n",
       "      <th>27</th>\n",
       "      <td>0.883450</td>\n",
       "      <td>0.694688</td>\n",
       "      <td>0.924934</td>\n",
       "      <td>0.796313</td>\n",
       "    </tr>\n",
       "    <tr>\n",
       "      <th>28</th>\n",
       "      <td>0.541502</td>\n",
       "      <td>0.468693</td>\n",
       "      <td>0.566535</td>\n",
       "      <td>0.580149</td>\n",
       "    </tr>\n",
       "    <tr>\n",
       "      <th>29</th>\n",
       "      <td>0.473317</td>\n",
       "      <td>0.452676</td>\n",
       "      <td>0.465939</td>\n",
       "      <td>0.480301</td>\n",
       "    </tr>\n",
       "  </tbody>\n",
       "</table>\n",
       "</div>"
      ],
      "text/plain": [
       "                ERM       IRM  GroupDRO     CORAL\n",
       "WSI_index                                        \n",
       "20         0.938058  0.792651  0.944882  0.850656\n",
       "21         0.864916  0.637791  0.884678  0.651056\n",
       "22         0.452982  0.516921  0.561720  0.783356\n",
       "23         0.548979  0.462935  0.495840  0.554652\n",
       "24         0.932833  0.856607  0.883525  0.658341\n",
       "25         0.699354  0.641209  0.720120  0.629211\n",
       "26         0.841153  0.802621  0.818611  0.672346\n",
       "27         0.883450  0.694688  0.924934  0.796313\n",
       "28         0.541502  0.468693  0.566535  0.580149\n",
       "29         0.473317  0.452676  0.465939  0.480301"
      ]
     },
     "execution_count": 43,
     "metadata": {},
     "output_type": "execute_result"
    }
   ],
   "source": [
    "# Results grouped by whole slide image (i.e. the image from which patches are drawn from)\n",
    "# Make this more general for different datasets\n",
    "results_df['WSI_index'] = results_df['metadata'].apply(lambda x: x[1])\n",
    "results_df.groupby('WSI_index')[algs].mean()"
   ]
  },
  {
   "cell_type": "code",
   "execution_count": 44,
   "metadata": {},
   "outputs": [
    {
     "name": "stdout",
     "output_type": "stream",
     "text": [
      "Maximum global accuracy:  0.7520398805464763\n",
      "Minimum global accuracy:  0.4583205963270393\n"
     ]
    }
   ],
   "source": [
    "# If we chose the best model for each example vs if we chose the worst model for each example.\n",
    "print(\"Maximum global accuracy: \", np.mean(np.max(accuracy_matrix, axis=0)))    \n",
    "print(\"Minimum global accuracy: \", np.mean(np.min(accuracy_matrix, axis=0)))    "
   ]
  },
  {
   "cell_type": "code",
   "execution_count": null,
   "metadata": {},
   "outputs": [],
   "source": [
    "\n",
    "\n",
    "# Generate model accuracy matrix \n",
    "\n",
    "# Generate model assignments to certain groups\n"
   ]
  },
  {
   "cell_type": "code",
   "execution_count": null,
   "metadata": {},
   "outputs": [],
   "source": [
    "# Create plot"
   ]
  }
 ],
 "metadata": {
  "kernelspec": {
   "display_name": "frank",
   "language": "python",
   "name": "python3"
  },
  "language_info": {
   "codemirror_mode": {
    "name": "ipython",
    "version": 3
   },
   "file_extension": ".py",
   "mimetype": "text/x-python",
   "name": "python",
   "nbconvert_exporter": "python",
   "pygments_lexer": "ipython3",
   "version": "3.9.18"
  }
 },
 "nbformat": 4,
 "nbformat_minor": 2
}
