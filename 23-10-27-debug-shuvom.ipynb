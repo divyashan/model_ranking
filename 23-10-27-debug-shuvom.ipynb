{
 "cells": [
  {
   "cell_type": "code",
   "execution_count": 16,
   "metadata": {},
   "outputs": [
    {
     "name": "stdout",
     "output_type": "stream",
     "text": [
      "The autoreload extension is already loaded. To reload it, use:\n",
      "  %reload_ext autoreload\n"
     ]
    }
   ],
   "source": [
    "%load_ext autoreload\n",
    "%autoreload 2\n",
    "\n",
    "import pyro\n",
    "import torch\n",
    "import numpy as np\n",
    "import matplotlib.pyplot as plt\n",
    "import pandas as pd\n",
    "import logging\n",
    "import os\n",
    "from pyro.infer import SVI, Trace_ELBO\n",
    "from pyro.optim import Adam\n",
    "import pyro.distributions as dist\n",
    "import pyro.distributions.constraints as constraints\n",
    "from pyro.infer import MCMC, NUTS, Predictive"
   ]
  },
  {
   "cell_type": "code",
   "execution_count": 17,
   "metadata": {},
   "outputs": [],
   "source": [
    "import pdb\n",
    "\n",
    "def corrected_dawid_skene_model_with_observed(annotations, observed_z, mask):\n",
    "    # print(\"observed_z\", observed_z.shape)\n",
    "    # print(\"observed_z\", observed_z[:5])\n",
    "    # print(\"mask\", mask)\n",
    "    # mask =   # Add a new dimension at the beginning\n",
    "       \n",
    "    # print(\"simulating...\\r\")\n",
    "    num_items, num_raters = annotations.shape\n",
    "    num_classes = len(torch.unique(annotations))\n",
    "    # mask_repeated = mask.unsqueeze(0).repeat(num_raters, 1)\n",
    "    # observed_z_repeated = observed_z.unsqueeze(0).repeat(num_raters, 1)  \n",
    "    \n",
    "    # Prior for the class proportions\n",
    "    pi = pyro.sample(\"pi\", dist.Dirichlet(torch.ones(num_classes)))\n",
    "\n",
    "    # Priors for the annotator confusion matrices\n",
    "    with pyro.plate(\"raters\", num_raters):\n",
    "        theta = pyro.sample(\"theta\", dist.Dirichlet(0.5 * torch.eye(num_classes) + 0.25).to_event(1))\n",
    "\n",
    "\n",
    "    with pyro.plate(\"items\", num_items):\n",
    "        \n",
    "        # with pyro.poutine.mask(mask=mask):\n",
    "        z = pyro.sample(\"z\", dist.Categorical(pi), obs=observed_z, obs_mask=mask)\n",
    "            # z = pyro.sample(\"z\", dist.Categorical(pi))\n",
    "        # z = pyro.sample(\"z\", dist.Categorical(pi).mask(mask).to_event(1), obs=observed_z)\n",
    "        pdb.set_trace()\n",
    "        # print(\"observed_z\", observed_z[:5])\n",
    "        # print(\"z shape\", z.shape)\n",
    "        \n",
    "        # Condition on the observed values using a mask\n",
    "        # z = torch.where(mask, observed_z, z)\n",
    "        \n",
    "        for r in pyro.plate(\"raters_loop\", num_raters):\n",
    "            probs = theta[r, z, :]\n",
    "            pyro.sample(f\"y_{r}\", dist.Categorical(probs), obs=annotations[:, r])\n",
    "\n",
    "    # observed_annotations = annotations[mask]\n",
    "    # unobserved_annotations = annotations[~mask]\n",
    "    \n",
    "    # observed_z_values = observed_z[mask]\n",
    "    \n",
    "    # # # For observed items\n",
    "    # with pyro.plate(\"observed_items\", observed_annotations.size(0)):\n",
    "    #     # Condition on the observed z values\n",
    "    #     z_observed = pyro.sample(\"z_observed\", dist.Categorical(pi), obs=observed_z_values)\n",
    "        \n",
    "    #     for r in pyro.plate(\"raters_observed\", num_raters):\n",
    "    #         probs_observed = theta[r, z_observed, :]\n",
    "    #         pyro.sample(f\"y_observed_{r}\", dist.Categorical(probs_observed), obs=observed_annotations[:, r])\n",
    "\n",
    "    # # For unobserved items\n",
    "    # with pyro.plate(\"unobserved_items\", unobserved_annotations.size(0)):\n",
    "    #     z_unobserved = pyro.sample(\"z_unobserved\", dist.Categorical(pi))\n",
    "        \n",
    "    #     for r in pyro.plate(\"raters_unobserved\", num_raters):\n",
    "    #         probs_unobserved = theta[r, z_unobserved, :]\n",
    "    #         pyro.sample(f\"y_unobserved_{r}\", dist.Categorical(probs_unobserved), obs=unobserved_annotations[:, r])\n",
    "\n",
    "def simulate_data_with_observed(num_items, num_raters, true_pi, confusion_diagonal):\n",
    "    num_classes = len(true_pi)\n",
    "    \n",
    "    # Create confusion matrix\n",
    "    off_diag = (1 - confusion_diagonal) / (num_classes - 1)\n",
    "    confusion_matrix = off_diag * torch.ones(num_classes, num_classes) + \\\n",
    "                       (confusion_diagonal - off_diag) * torch.eye(num_classes)\n",
    "    \n",
    "    # Simulate true labels\n",
    "    z = dist.Categorical(true_pi).sample([num_items])\n",
    "    \n",
    "    # Create the observed_z tensor\n",
    "    observed_z = torch.full((num_items,), -1, dtype=torch.int64)\n",
    "    mask = torch.zeros(num_items, dtype=torch.bool)\n",
    "    \n",
    "    # Randomly select 10% of the items to reveal their true labels\n",
    "    num_observed = int(0.5 * num_items)\n",
    "    observed_indices = torch.randperm(num_items)[:num_observed]\n",
    "    observed_z[observed_indices] = z[observed_indices]\n",
    "    mask[observed_indices] = True\n",
    "    \n",
    "    # Simulate annotations based on true labels and confusion matrices\n",
    "    annotations = torch.zeros((num_items, num_raters), dtype=torch.int64)\n",
    "    for i in range(num_items):\n",
    "        for r in range(num_raters):\n",
    "            probs = confusion_matrix[:, z[i]]\n",
    "            annotations[i, r] = dist.Categorical(probs).sample()\n",
    "    \n",
    "    return annotations, observed_z, mask\n",
    "# dummy_annotations = torch.randint(0, 3, (100, 5))\n",
    "# pyro.render_model(corrected_dawid_skene_model_with_observed, model_args=(dummy_annotations, dummy_annotations[:, 0], np.ones(1000)), render_params=True)\n"
   ]
  },
  {
   "cell_type": "code",
   "execution_count": 19,
   "metadata": {},
   "outputs": [
    {
     "name": "stderr",
     "output_type": "stream",
     "text": [
      "Warmup:   0%|          | 0/1500 [04:43, ?it/s]\n",
      "Warmup:   0%|          | 0/1500 [04:04, ?it/s]\n"
     ]
    },
    {
     "name": "stdout",
     "output_type": "stream",
     "text": [
      "sampling! None {} ()\n",
      "sampling! None {} ()\n",
      "sampling! tensor([ True, False, False, False, False, False, False, False, False, False,\n",
      "        False, False, False, False, False, False, False, False, False, False,\n",
      "        False, False, False, False, False, False, False, False, False, False,\n",
      "        False, False, False, False, False, False, False, False, False, False,\n",
      "        False, False, False, False, False, False, False, False, False, False,\n",
      "        False, False, False, False, False, False, False, False, False, False,\n",
      "        False, False, False, False, False, False, False, False, False, False,\n",
      "        False, False, False, False, False, False, False, False, False, False,\n",
      "        False, False, False, False, False, False, False, False, False, False,\n",
      "        False, False, False, False, False, False, False, False, False, False,\n",
      "        False, False, False, False, False, False, False, False, False, False,\n",
      "        False, False, False, False, False, False, False, False, False, False,\n",
      "        False, False, False, False, False, False, False, False, False, False,\n",
      "        False, False, False, False, False, False, False, False, False, False,\n",
      "        False, False, False, False, False, False, False, False, False, False,\n",
      "        False, False, False, False, False, False, False, False, False, False,\n",
      "        False, False, False, False, False, False, False, False, False, False,\n",
      "        False, False, False, False, False, False, False, False, False, False,\n",
      "        False, False, False, False, False, False, False, False, False, False,\n",
      "        False, False, False, False, False, False, False, False, False, False,\n",
      "        False, False, False, False, False, False, False, False, False, False,\n",
      "        False, False, False, False, False, False, False, False, False, False,\n",
      "        False, False, False, False, False, False, False, False, False, False,\n",
      "        False, False, False, False, False, False, False, False, False, False,\n",
      "        False, False, False, False, False, False, False, False, False, False,\n",
      "        False, False, False, False, False, False, False, False, False, False,\n",
      "        False, False, False, False, False, False, False, False, False, False,\n",
      "        False, False, False, False, False, False, False, False, False, False,\n",
      "        False, False, False, False, False, False, False, False, False, False,\n",
      "        False, False, False, False, False, False, False, False, False, False,\n",
      "        False, False, False, False, False, False, False, False, False, False,\n",
      "        False, False, False, False, False, False, False, False, False, False,\n",
      "        False, False, False, False, False, False, False, False, False, False,\n",
      "        False, False, False, False, False, False, False, False, False, False,\n",
      "        False, False, False, False, False, False, False, False, False, False,\n",
      "        False, False, False, False, False, False, False, False, False, False,\n",
      "        False, False, False, False, False, False, False, False, False, False,\n",
      "        False, False, False, False, False, False, False, False, False, False,\n",
      "        False, False, False, False, False, False, False, False, False, False,\n",
      "        False, False, False, False, False, False, False, False, False, False,\n",
      "        False, False, False, False, False, False, False, False, False, False,\n",
      "        False, False, False, False, False, False, False, False, False, False,\n",
      "        False, False, False, False, False, False, False, False, False, False,\n",
      "        False, False, False, False, False, False, False, False, False, False,\n",
      "        False, False, False, False, False, False, False, False, False, False,\n",
      "        False, False, False, False, False, False, False, False, False, False,\n",
      "        False, False, False, False, False, False, False, False, False, False,\n",
      "        False, False, False, False, False, False, False, False, False, False,\n",
      "        False, False, False, False, False, False, False, False, False, False,\n",
      "        False, False, False, False, False, False, False, False, False, False,\n",
      "        False, False, False, False, False, False, False, False, False, False,\n",
      "        False, False, False, False, False, False, False, False, False, False,\n",
      "        False, False, False, False, False, False, False, False, False, False,\n",
      "        False, False, False, False, False, False, False, False, False, False,\n",
      "        False, False, False, False, False, False, False, False, False, False,\n",
      "        False, False, False, False, False, False, False, False, False, False,\n",
      "        False, False, False, False, False, False, False, False, False, False,\n",
      "        False, False, False, False, False, False, False, False, False, False,\n",
      "        False, False, False, False, False, False, False, False, False, False,\n",
      "        False, False, False, False, False, False, False, False, False, False,\n",
      "        False, False, False, False, False, False, False, False, False, False,\n",
      "        False, False, False, False, False, False, False, False, False, False,\n",
      "        False, False, False, False, False, False, False, False, False, False,\n",
      "        False, False, False, False, False, False, False, False, False, False,\n",
      "        False, False, False, False, False, False, False, False, False, False,\n",
      "        False, False, False, False, False, False, False, False, False, False,\n",
      "        False, False, False, False, False, False, False, False, False, False,\n",
      "        False, False, False, False, False, False, False, False, False, False,\n",
      "        False, False, False, False, False, False, False, False, False, False,\n",
      "        False, False, False, False, False, False, False, False, False, False,\n",
      "        False, False, False, False, False, False, False, False, False, False,\n",
      "        False, False, False, False, False, False, False, False, False, False,\n",
      "        False, False, False, False, False, False, False, False, False, False,\n",
      "        False, False, False, False, False, False, False, False, False, False,\n",
      "        False, False, False, False, False, False, False, False, False, False,\n",
      "        False, False, False, False, False, False, False, False, False, False,\n",
      "        False, False, False, False, False, False, False, False, False, False,\n",
      "        False, False, False, False, False, False, False, False, False, False,\n",
      "        False, False, False, False, False, False, False, False, False, False,\n",
      "        False, False, False, False, False, False, False, False, False, False,\n",
      "        False, False, False, False, False, False, False, False, False, False,\n",
      "        False, False, False, False, False, False, False, False, False, False,\n",
      "        False, False, False, False, False, False, False, False, False, False,\n",
      "        False, False, False, False, False, False, False, False, False, False,\n",
      "        False, False, False, False, False, False, False, False, False, False,\n",
      "        False, False, False, False, False, False, False, False, False, False,\n",
      "        False, False, False, False, False, False, False, False, False, False,\n",
      "        False, False, False, False, False, False, False, False, False, False,\n",
      "        False, False, False, False, False, False, False, False, False, False,\n",
      "        False, False, False, False, False, False, False, False, False, False,\n",
      "        False, False, False, False, False, False, False, False, False, False,\n",
      "        False, False, False, False, False, False, False, False, False, False,\n",
      "        False, False, False, False, False, False, False, False, False, False,\n",
      "        False, False, False, False, False, False, False, False, False, False,\n",
      "        False, False, False, False, False, False, False, False, False, False,\n",
      "        False, False, False, False, False, False, False, False, False, False,\n",
      "        False, False, False, False, False, False, False, False, False, False,\n",
      "        False, False, False, False, False, False, False, False, False, False,\n",
      "        False, False, False, False, False, False, False, False, False, False,\n",
      "        False, False, False, False, False, False, False, False, False, False]) {} ()\n",
      "sampling! None {} ()\n",
      "sampling! None {} ()\n",
      "sampling! None {'infer': {'_deterministic': True}} ()\n",
      "> \u001b[0;32m/tmp/ipykernel_513114/3512955596.py\u001b[0m(36)\u001b[0;36mcorrected_dawid_skene_model_with_observed\u001b[0;34m()\u001b[0m\n",
      "\u001b[0;32m     34 \u001b[0;31m        \u001b[0;31m# z = torch.where(mask, observed_z, z)\u001b[0m\u001b[0;34m\u001b[0m\u001b[0;34m\u001b[0m\u001b[0m\n",
      "\u001b[0m\u001b[0;32m     35 \u001b[0;31m\u001b[0;34m\u001b[0m\u001b[0m\n",
      "\u001b[0m\u001b[0;32m---> 36 \u001b[0;31m        \u001b[0;32mfor\u001b[0m \u001b[0mr\u001b[0m \u001b[0;32min\u001b[0m \u001b[0mpyro\u001b[0m\u001b[0;34m.\u001b[0m\u001b[0mplate\u001b[0m\u001b[0;34m(\u001b[0m\u001b[0;34m\"raters_loop\"\u001b[0m\u001b[0;34m,\u001b[0m \u001b[0mnum_raters\u001b[0m\u001b[0;34m)\u001b[0m\u001b[0;34m:\u001b[0m\u001b[0;34m\u001b[0m\u001b[0;34m\u001b[0m\u001b[0m\n",
      "\u001b[0m\u001b[0;32m     37 \u001b[0;31m            \u001b[0mprobs\u001b[0m \u001b[0;34m=\u001b[0m \u001b[0mtheta\u001b[0m\u001b[0;34m[\u001b[0m\u001b[0mr\u001b[0m\u001b[0;34m,\u001b[0m \u001b[0mz\u001b[0m\u001b[0;34m,\u001b[0m \u001b[0;34m:\u001b[0m\u001b[0;34m]\u001b[0m\u001b[0;34m\u001b[0m\u001b[0;34m\u001b[0m\u001b[0m\n",
      "\u001b[0m\u001b[0;32m     38 \u001b[0;31m            \u001b[0mpyro\u001b[0m\u001b[0;34m.\u001b[0m\u001b[0msample\u001b[0m\u001b[0;34m(\u001b[0m\u001b[0;34mf\"y_{r}\"\u001b[0m\u001b[0;34m,\u001b[0m \u001b[0mdist\u001b[0m\u001b[0;34m.\u001b[0m\u001b[0mCategorical\u001b[0m\u001b[0;34m(\u001b[0m\u001b[0mprobs\u001b[0m\u001b[0;34m)\u001b[0m\u001b[0;34m,\u001b[0m \u001b[0mobs\u001b[0m\u001b[0;34m=\u001b[0m\u001b[0mannotations\u001b[0m\u001b[0;34m[\u001b[0m\u001b[0;34m:\u001b[0m\u001b[0;34m,\u001b[0m \u001b[0mr\u001b[0m\u001b[0;34m]\u001b[0m\u001b[0;34m)\u001b[0m\u001b[0;34m\u001b[0m\u001b[0;34m\u001b[0m\u001b[0m\n",
      "\u001b[0m\n",
      "tensor([-1,  2,  2,  1,  1,  1,  0,  1,  0,  1,  2,  1,  1,  1,  1,  1,  1,  1,\n",
      "         0,  1,  2,  1,  0,  0,  1,  1,  1,  1,  2,  1,  2,  1,  1,  1,  1,  0,\n",
      "         1,  0,  2,  1,  1,  1,  0,  1,  1,  1,  1,  2,  2,  1,  2,  2,  1,  0,\n",
      "         1,  0,  2,  1,  2,  2,  0,  1,  1,  1,  1,  1,  0,  1,  1,  2,  1,  1,\n",
      "         1,  1,  2,  1,  1,  1,  1,  2,  1,  0,  1,  2,  0,  0,  1,  1,  1,  2,\n",
      "         1,  1,  0,  1,  1,  2,  0,  1,  0,  0,  1,  1,  1,  1,  0,  0,  2,  1,\n",
      "         2,  1,  2,  0,  1,  1,  1,  2,  2,  2,  2,  1,  0,  2,  0,  0,  1,  0,\n",
      "         1,  2,  1,  1,  2,  0,  1,  0,  0,  1,  2,  1,  0,  0,  1,  1,  0,  1,\n",
      "         1,  1,  1,  1,  2,  2,  0,  2,  0,  1,  1,  2,  2,  2,  2,  2,  0,  0,\n",
      "         1,  0,  1,  1,  1,  2,  1,  2,  1,  2,  2,  2,  1,  0,  2,  2,  0,  1,\n",
      "         1,  2,  1,  2,  1,  2,  1,  0,  1,  1,  0,  1,  1,  1,  1,  0,  2,  0,\n",
      "         2,  0,  0,  0,  1,  2,  1,  2,  0,  0,  2,  1,  2,  1,  1,  1,  2,  0,\n",
      "         1,  2,  2,  0,  1,  2,  2,  2,  2,  2,  1,  0,  2,  1,  1,  2,  1,  1,\n",
      "         1,  1,  0,  0,  0,  1,  1,  1,  1,  1,  0,  2,  0,  0,  0,  1,  0,  1,\n",
      "         2,  1,  0,  1,  1,  0,  2,  1,  1,  1,  2,  1,  1,  2,  1,  1,  1,  2,\n",
      "         2,  1,  1,  1,  1,  1,  1,  0,  1,  0,  2,  1,  1,  1,  2,  2,  0,  1,\n",
      "         2,  2,  1,  1,  1,  1,  1,  2,  1,  1,  1,  0,  1,  2,  0,  0,  0,  1,\n",
      "         1,  1,  0,  2,  1,  1,  1,  2,  0,  1,  1,  1,  1,  2,  0,  0,  2,  0,\n",
      "         0,  1,  1,  2,  1,  2,  2,  1,  2,  1,  2,  1,  2,  0,  0,  2,  1,  2,\n",
      "         1,  1,  1,  0,  2,  2,  1,  1,  2,  2,  0,  0,  1,  2,  2,  1,  1,  1,\n",
      "         2,  1,  2,  0,  0,  2,  0,  0,  0,  0,  1,  2,  2,  1,  2,  1,  0,  1,\n",
      "         2,  1,  1,  1,  0,  1,  1,  1,  2,  2,  0,  1,  1,  2,  1,  1,  1,  2,\n",
      "         1,  1,  0,  1,  2,  2,  1,  2,  0,  0,  1,  2,  1,  0,  1,  0,  2,  1,\n",
      "         1,  1,  1,  2,  0,  1,  2,  1,  1,  0,  0,  0,  0,  2,  0,  1,  1,  1,\n",
      "         1,  2,  1,  2,  1,  0,  1,  1,  0,  0,  0,  2,  2,  2,  1,  2,  2,  1,\n",
      "         1,  1,  1,  1,  2,  1,  1,  2,  1,  0,  1,  1,  1,  1,  1,  1,  1,  0,\n",
      "         1,  0,  0,  0,  1,  1,  1,  1,  0,  1,  1,  2,  2,  1,  2,  2,  1,  1,\n",
      "         2,  0,  0,  1,  2,  1,  2,  2,  1,  1,  1,  2,  2,  1,  2,  1,  1,  1,\n",
      "         2,  1,  0,  2,  1,  1,  1,  1,  1,  1,  1,  0,  0,  2,  2,  0,  1,  2,\n",
      "         1,  0,  2,  0,  1,  1,  0,  1,  1,  1,  1,  2,  0,  2,  2,  1,  1,  0,\n",
      "         1,  0,  1,  2,  1,  1,  1,  1,  2,  1,  1,  1,  2,  0,  2,  1,  2,  1,\n",
      "         1,  0,  0,  1,  0,  1,  1,  1,  0,  2,  1,  1,  1,  1,  0,  1,  1,  1,\n",
      "         2,  0,  0,  1,  1,  0,  1,  2,  1,  1,  1,  2,  2,  0,  1,  1,  1,  1,\n",
      "         1,  2,  0,  0,  2,  2,  2,  0,  2,  1,  1,  1,  1,  0,  1,  0,  0,  1,\n",
      "         1,  0,  1,  1,  2,  1,  1,  1,  2,  0,  0,  0,  0,  1,  1,  0,  2,  0,\n",
      "         1,  0,  2,  0,  0,  1,  0,  2,  2,  1,  2,  0,  1,  1,  0,  2,  1,  1,\n",
      "         0,  1,  1,  1,  1,  1,  1,  1,  0,  1,  1,  1,  2,  1,  1,  1,  1,  0,\n",
      "         2,  1,  1,  1,  0,  1,  0,  1,  2,  1,  1,  2,  1,  2,  0,  0,  2,  1,\n",
      "         1,  1,  1,  2,  1,  1,  1,  2,  1,  1,  1,  1,  0,  1,  0,  1,  1,  1,\n",
      "         1,  1,  2,  1,  2,  1,  0,  1,  0,  1,  0,  1,  1,  2,  2,  1,  1,  2,\n",
      "         1,  1,  1,  1,  1,  1,  1,  2,  1,  2,  1,  1,  0,  1,  2,  1,  1,  1,\n",
      "         0,  1,  0,  1,  2,  2,  0,  1,  1,  1,  1,  1,  0,  1,  1,  2,  0,  2,\n",
      "         0,  0,  2,  1,  2,  2,  1,  2,  1,  2,  1,  1,  1,  1,  1,  2,  1,  1,\n",
      "         2,  0,  1,  1,  2,  2,  1,  0,  1,  0,  2,  1,  1,  2,  1,  1,  1,  2,\n",
      "         0,  2,  2,  1,  1,  2,  0,  1,  2,  1,  0,  1,  1,  1,  1,  1,  1,  2,\n",
      "         1,  0,  2,  2,  1,  0,  0,  2,  0,  0,  1,  0,  1,  0,  1,  1,  0,  0,\n",
      "         2,  1,  2,  1,  2,  1,  0,  0,  0,  2,  1,  1,  1,  1,  2,  2,  2,  2,\n",
      "         1,  2,  0,  1,  0,  0,  2,  1,  1,  2,  2,  1,  1,  1,  1,  2,  2,  2,\n",
      "         2,  0,  2,  0,  1,  0,  1,  1,  0,  1,  1,  1,  1,  0,  2,  1,  1,  1,\n",
      "         0,  2,  1,  0,  1,  0,  1,  1,  1,  2,  0,  1,  2,  1,  1,  1,  1,  1,\n",
      "         0,  2,  1,  0,  1,  1,  1,  0,  1,  1,  2,  1,  2,  2,  0,  1,  0,  1,\n",
      "         1,  2,  2,  0,  2,  2,  1,  1,  1,  1,  1,  1,  1,  1,  0,  1,  1,  1,\n",
      "         1,  1,  1,  1,  1,  1,  0,  1,  2,  1,  1,  0,  1,  1,  2,  1,  1,  0,\n",
      "         2,  2,  2,  2,  1,  2,  0,  2,  1,  2,  1,  0,  2,  1,  0,  1,  2,  0,\n",
      "         2,  1,  1,  1,  1,  0,  0,  0,  1,  1,  1,  1,  1,  1,  2,  0,  0,  1,\n",
      "         1,  2,  0,  0,  0,  2,  1,  2,  1,  1])\n",
      "sampling! None {} ()\n",
      "sampling! None {} ()\n",
      "sampling! None {} ()\n",
      "sampling! None {} ()\n",
      "sampling! tensor([ True, False, False, False, False, False, False, False, False, False,\n",
      "        False, False, False, False, False, False, False, False, False, False,\n",
      "        False, False, False, False, False, False, False, False, False, False,\n",
      "        False, False, False, False, False, False, False, False, False, False,\n",
      "        False, False, False, False, False, False, False, False, False, False,\n",
      "        False, False, False, False, False, False, False, False, False, False,\n",
      "        False, False, False, False, False, False, False, False, False, False,\n",
      "        False, False, False, False, False, False, False, False, False, False,\n",
      "        False, False, False, False, False, False, False, False, False, False,\n",
      "        False, False, False, False, False, False, False, False, False, False,\n",
      "        False, False, False, False, False, False, False, False, False, False,\n",
      "        False, False, False, False, False, False, False, False, False, False,\n",
      "        False, False, False, False, False, False, False, False, False, False,\n",
      "        False, False, False, False, False, False, False, False, False, False,\n",
      "        False, False, False, False, False, False, False, False, False, False,\n",
      "        False, False, False, False, False, False, False, False, False, False,\n",
      "        False, False, False, False, False, False, False, False, False, False,\n",
      "        False, False, False, False, False, False, False, False, False, False,\n",
      "        False, False, False, False, False, False, False, False, False, False,\n",
      "        False, False, False, False, False, False, False, False, False, False,\n",
      "        False, False, False, False, False, False, False, False, False, False,\n",
      "        False, False, False, False, False, False, False, False, False, False,\n",
      "        False, False, False, False, False, False, False, False, False, False,\n",
      "        False, False, False, False, False, False, False, False, False, False,\n",
      "        False, False, False, False, False, False, False, False, False, False,\n",
      "        False, False, False, False, False, False, False, False, False, False,\n",
      "        False, False, False, False, False, False, False, False, False, False,\n",
      "        False, False, False, False, False, False, False, False, False, False,\n",
      "        False, False, False, False, False, False, False, False, False, False,\n",
      "        False, False, False, False, False, False, False, False, False, False,\n",
      "        False, False, False, False, False, False, False, False, False, False,\n",
      "        False, False, False, False, False, False, False, False, False, False,\n",
      "        False, False, False, False, False, False, False, False, False, False,\n",
      "        False, False, False, False, False, False, False, False, False, False,\n",
      "        False, False, False, False, False, False, False, False, False, False,\n",
      "        False, False, False, False, False, False, False, False, False, False,\n",
      "        False, False, False, False, False, False, False, False, False, False,\n",
      "        False, False, False, False, False, False, False, False, False, False,\n",
      "        False, False, False, False, False, False, False, False, False, False,\n",
      "        False, False, False, False, False, False, False, False, False, False,\n",
      "        False, False, False, False, False, False, False, False, False, False,\n",
      "        False, False, False, False, False, False, False, False, False, False,\n",
      "        False, False, False, False, False, False, False, False, False, False,\n",
      "        False, False, False, False, False, False, False, False, False, False,\n",
      "        False, False, False, False, False, False, False, False, False, False,\n",
      "        False, False, False, False, False, False, False, False, False, False,\n",
      "        False, False, False, False, False, False, False, False, False, False,\n",
      "        False, False, False, False, False, False, False, False, False, False,\n",
      "        False, False, False, False, False, False, False, False, False, False,\n",
      "        False, False, False, False, False, False, False, False, False, False,\n",
      "        False, False, False, False, False, False, False, False, False, False,\n",
      "        False, False, False, False, False, False, False, False, False, False,\n",
      "        False, False, False, False, False, False, False, False, False, False,\n",
      "        False, False, False, False, False, False, False, False, False, False,\n",
      "        False, False, False, False, False, False, False, False, False, False,\n",
      "        False, False, False, False, False, False, False, False, False, False,\n",
      "        False, False, False, False, False, False, False, False, False, False,\n",
      "        False, False, False, False, False, False, False, False, False, False,\n",
      "        False, False, False, False, False, False, False, False, False, False,\n",
      "        False, False, False, False, False, False, False, False, False, False,\n",
      "        False, False, False, False, False, False, False, False, False, False,\n",
      "        False, False, False, False, False, False, False, False, False, False,\n",
      "        False, False, False, False, False, False, False, False, False, False,\n",
      "        False, False, False, False, False, False, False, False, False, False,\n",
      "        False, False, False, False, False, False, False, False, False, False,\n",
      "        False, False, False, False, False, False, False, False, False, False,\n",
      "        False, False, False, False, False, False, False, False, False, False,\n",
      "        False, False, False, False, False, False, False, False, False, False,\n",
      "        False, False, False, False, False, False, False, False, False, False,\n",
      "        False, False, False, False, False, False, False, False, False, False,\n",
      "        False, False, False, False, False, False, False, False, False, False,\n",
      "        False, False, False, False, False, False, False, False, False, False,\n",
      "        False, False, False, False, False, False, False, False, False, False,\n",
      "        False, False, False, False, False, False, False, False, False, False,\n",
      "        False, False, False, False, False, False, False, False, False, False,\n",
      "        False, False, False, False, False, False, False, False, False, False,\n",
      "        False, False, False, False, False, False, False, False, False, False,\n",
      "        False, False, False, False, False, False, False, False, False, False,\n",
      "        False, False, False, False, False, False, False, False, False, False,\n",
      "        False, False, False, False, False, False, False, False, False, False,\n",
      "        False, False, False, False, False, False, False, False, False, False,\n",
      "        False, False, False, False, False, False, False, False, False, False,\n",
      "        False, False, False, False, False, False, False, False, False, False,\n",
      "        False, False, False, False, False, False, False, False, False, False,\n",
      "        False, False, False, False, False, False, False, False, False, False,\n",
      "        False, False, False, False, False, False, False, False, False, False,\n",
      "        False, False, False, False, False, False, False, False, False, False,\n",
      "        False, False, False, False, False, False, False, False, False, False,\n",
      "        False, False, False, False, False, False, False, False, False, False,\n",
      "        False, False, False, False, False, False, False, False, False, False,\n",
      "        False, False, False, False, False, False, False, False, False, False,\n",
      "        False, False, False, False, False, False, False, False, False, False,\n",
      "        False, False, False, False, False, False, False, False, False, False,\n",
      "        False, False, False, False, False, False, False, False, False, False,\n",
      "        False, False, False, False, False, False, False, False, False, False,\n",
      "        False, False, False, False, False, False, False, False, False, False,\n",
      "        False, False, False, False, False, False, False, False, False, False,\n",
      "        False, False, False, False, False, False, False, False, False, False,\n",
      "        False, False, False, False, False, False, False, False, False, False,\n",
      "        False, False, False, False, False, False, False, False, False, False]) {} ()\n",
      "sampling! None {} ()\n",
      "sampling! None {} ()\n",
      "sampling! None {'infer': {'_deterministic': True}} ()\n",
      "> \u001b[0;32m/tmp/ipykernel_513114/3512955596.py\u001b[0m(36)\u001b[0;36mcorrected_dawid_skene_model_with_observed\u001b[0;34m()\u001b[0m\n",
      "\u001b[0;32m     34 \u001b[0;31m        \u001b[0;31m# z = torch.where(mask, observed_z, z)\u001b[0m\u001b[0;34m\u001b[0m\u001b[0;34m\u001b[0m\u001b[0m\n",
      "\u001b[0m\u001b[0;32m     35 \u001b[0;31m\u001b[0;34m\u001b[0m\u001b[0m\n",
      "\u001b[0m\u001b[0;32m---> 36 \u001b[0;31m        \u001b[0;32mfor\u001b[0m \u001b[0mr\u001b[0m \u001b[0;32min\u001b[0m \u001b[0mpyro\u001b[0m\u001b[0;34m.\u001b[0m\u001b[0mplate\u001b[0m\u001b[0;34m(\u001b[0m\u001b[0;34m\"raters_loop\"\u001b[0m\u001b[0;34m,\u001b[0m \u001b[0mnum_raters\u001b[0m\u001b[0;34m)\u001b[0m\u001b[0;34m:\u001b[0m\u001b[0;34m\u001b[0m\u001b[0;34m\u001b[0m\u001b[0m\n",
      "\u001b[0m\u001b[0;32m     37 \u001b[0;31m            \u001b[0mprobs\u001b[0m \u001b[0;34m=\u001b[0m \u001b[0mtheta\u001b[0m\u001b[0;34m[\u001b[0m\u001b[0mr\u001b[0m\u001b[0;34m,\u001b[0m \u001b[0mz\u001b[0m\u001b[0;34m,\u001b[0m \u001b[0;34m:\u001b[0m\u001b[0;34m]\u001b[0m\u001b[0;34m\u001b[0m\u001b[0;34m\u001b[0m\u001b[0m\n",
      "\u001b[0m\u001b[0;32m     38 \u001b[0;31m            \u001b[0mpyro\u001b[0m\u001b[0;34m.\u001b[0m\u001b[0msample\u001b[0m\u001b[0;34m(\u001b[0m\u001b[0;34mf\"y_{r}\"\u001b[0m\u001b[0;34m,\u001b[0m \u001b[0mdist\u001b[0m\u001b[0;34m.\u001b[0m\u001b[0mCategorical\u001b[0m\u001b[0;34m(\u001b[0m\u001b[0mprobs\u001b[0m\u001b[0;34m)\u001b[0m\u001b[0;34m,\u001b[0m \u001b[0mobs\u001b[0m\u001b[0;34m=\u001b[0m\u001b[0mannotations\u001b[0m\u001b[0;34m[\u001b[0m\u001b[0;34m:\u001b[0m\u001b[0;34m,\u001b[0m \u001b[0mr\u001b[0m\u001b[0;34m]\u001b[0m\u001b[0;34m)\u001b[0m\u001b[0;34m\u001b[0m\u001b[0;34m\u001b[0m\u001b[0m\n",
      "\u001b[0m\n",
      "sampling! None {} ()\n",
      "sampling! None {} ()\n"
     ]
    },
    {
     "ename": "RuntimeError",
     "evalue": "index -1 is out of bounds for dimension 1 with size 3",
     "output_type": "error",
     "traceback": [
      "\u001b[0;31m---------------------------------------------------------------------------\u001b[0m",
      "\u001b[0;31mRuntimeError\u001b[0m                              Traceback (most recent call last)",
      "Cell \u001b[0;32mIn[19], line 23\u001b[0m\n\u001b[1;32m     20\u001b[0m \u001b[39m# print(observed_z[mask == False])\u001b[39;00m\n\u001b[1;32m     21\u001b[0m \u001b[39m# nuts_kernel = NUTS(conditioned_model, jit_compile=True, ignore_jit_warnings=True)\u001b[39;00m\n\u001b[1;32m     22\u001b[0m mcmc \u001b[39m=\u001b[39m MCMC(nuts_kernel, num_samples\u001b[39m=\u001b[39m\u001b[39m1000\u001b[39m, warmup_steps\u001b[39m=\u001b[39m\u001b[39m500\u001b[39m)\n\u001b[0;32m---> 23\u001b[0m mcmc\u001b[39m.\u001b[39;49mrun(annotations_simulated, observed_z, mask)\n\u001b[1;32m     25\u001b[0m \u001b[39m# # Extract posterior samples\u001b[39;00m\n\u001b[1;32m     26\u001b[0m \u001b[39m# posterior_samples_corrected = mcmc.get_samples()\u001b[39;00m\n",
      "File \u001b[0;32m/data/ddmg/frank/.conda/envs/frank/lib/python3.9/site-packages/pyro/poutine/messenger.py:12\u001b[0m, in \u001b[0;36m_context_wrap\u001b[0;34m(context, fn, *args, **kwargs)\u001b[0m\n\u001b[1;32m     10\u001b[0m \u001b[39mdef\u001b[39;00m \u001b[39m_context_wrap\u001b[39m(context, fn, \u001b[39m*\u001b[39margs, \u001b[39m*\u001b[39m\u001b[39m*\u001b[39mkwargs):\n\u001b[1;32m     11\u001b[0m     \u001b[39mwith\u001b[39;00m context:\n\u001b[0;32m---> 12\u001b[0m         \u001b[39mreturn\u001b[39;00m fn(\u001b[39m*\u001b[39;49margs, \u001b[39m*\u001b[39;49m\u001b[39m*\u001b[39;49mkwargs)\n",
      "File \u001b[0;32m/data/ddmg/frank/.conda/envs/frank/lib/python3.9/site-packages/pyro/infer/mcmc/api.py:563\u001b[0m, in \u001b[0;36mMCMC.run\u001b[0;34m(self, *args, **kwargs)\u001b[0m\n\u001b[1;32m    554\u001b[0m \u001b[39mwith\u001b[39;00m optional(\n\u001b[1;32m    555\u001b[0m     pyro\u001b[39m.\u001b[39mvalidation_enabled(\u001b[39mnot\u001b[39;00m \u001b[39mself\u001b[39m\u001b[39m.\u001b[39mdisable_validation),\n\u001b[1;32m    556\u001b[0m     \u001b[39mself\u001b[39m\u001b[39m.\u001b[39mdisable_validation \u001b[39mis\u001b[39;00m \u001b[39mnot\u001b[39;00m \u001b[39mNone\u001b[39;00m,\n\u001b[0;32m   (...)\u001b[0m\n\u001b[1;32m    560\u001b[0m     \u001b[39m# This also resolves \"RuntimeError: Cowardly refusing to serialize non-leaf tensor which\u001b[39;00m\n\u001b[1;32m    561\u001b[0m     \u001b[39m# requires_grad\", which happens with `jit_compile` under PyTorch 1.7\u001b[39;00m\n\u001b[1;32m    562\u001b[0m     args \u001b[39m=\u001b[39m [arg\u001b[39m.\u001b[39mdetach() \u001b[39mif\u001b[39;00m torch\u001b[39m.\u001b[39mis_tensor(arg) \u001b[39melse\u001b[39;00m arg \u001b[39mfor\u001b[39;00m arg \u001b[39min\u001b[39;00m args]\n\u001b[0;32m--> 563\u001b[0m     \u001b[39mfor\u001b[39;00m x, chain_id \u001b[39min\u001b[39;00m \u001b[39mself\u001b[39m\u001b[39m.\u001b[39msampler\u001b[39m.\u001b[39mrun(\u001b[39m*\u001b[39margs, \u001b[39m*\u001b[39m\u001b[39m*\u001b[39mkwargs):\n\u001b[1;32m    564\u001b[0m         \u001b[39mif\u001b[39;00m num_samples[chain_id] \u001b[39m==\u001b[39m \u001b[39m0\u001b[39m:\n\u001b[1;32m    565\u001b[0m             num_samples[chain_id] \u001b[39m+\u001b[39m\u001b[39m=\u001b[39m \u001b[39m1\u001b[39m\n",
      "File \u001b[0;32m/data/ddmg/frank/.conda/envs/frank/lib/python3.9/site-packages/pyro/infer/mcmc/api.py:223\u001b[0m, in \u001b[0;36m_UnarySampler.run\u001b[0;34m(self, *args, **kwargs)\u001b[0m\n\u001b[1;32m    221\u001b[0m logger \u001b[39m=\u001b[39m initialize_logger(logger, \u001b[39m\"\u001b[39m\u001b[39m\"\u001b[39m, progress_bar)\n\u001b[1;32m    222\u001b[0m hook_w_logging \u001b[39m=\u001b[39m _add_logging_hook(logger, progress_bar, \u001b[39mself\u001b[39m\u001b[39m.\u001b[39mhook)\n\u001b[0;32m--> 223\u001b[0m \u001b[39mfor\u001b[39;00m sample \u001b[39min\u001b[39;00m _gen_samples(\n\u001b[1;32m    224\u001b[0m     \u001b[39mself\u001b[39m\u001b[39m.\u001b[39mkernel,\n\u001b[1;32m    225\u001b[0m     \u001b[39mself\u001b[39m\u001b[39m.\u001b[39mwarmup_steps,\n\u001b[1;32m    226\u001b[0m     \u001b[39mself\u001b[39m\u001b[39m.\u001b[39mnum_samples,\n\u001b[1;32m    227\u001b[0m     hook_w_logging,\n\u001b[1;32m    228\u001b[0m     i \u001b[39mif\u001b[39;00m \u001b[39mself\u001b[39m\u001b[39m.\u001b[39mnum_chains \u001b[39m>\u001b[39m \u001b[39m1\u001b[39m \u001b[39melse\u001b[39;00m \u001b[39mNone\u001b[39;00m,\n\u001b[1;32m    229\u001b[0m     \u001b[39m*\u001b[39margs,\n\u001b[1;32m    230\u001b[0m     \u001b[39m*\u001b[39m\u001b[39m*\u001b[39mkwargs\n\u001b[1;32m    231\u001b[0m ):\n\u001b[1;32m    232\u001b[0m     \u001b[39myield\u001b[39;00m sample, i  \u001b[39m# sample, chain_id\u001b[39;00m\n\u001b[1;32m    233\u001b[0m \u001b[39mself\u001b[39m\u001b[39m.\u001b[39mkernel\u001b[39m.\u001b[39mcleanup()\n",
      "File \u001b[0;32m/data/ddmg/frank/.conda/envs/frank/lib/python3.9/site-packages/pyro/infer/mcmc/api.py:144\u001b[0m, in \u001b[0;36m_gen_samples\u001b[0;34m(kernel, warmup_steps, num_samples, hook, chain_id, *args, **kwargs)\u001b[0m\n\u001b[1;32m    143\u001b[0m \u001b[39mdef\u001b[39;00m \u001b[39m_gen_samples\u001b[39m(kernel, warmup_steps, num_samples, hook, chain_id, \u001b[39m*\u001b[39margs, \u001b[39m*\u001b[39m\u001b[39m*\u001b[39mkwargs):\n\u001b[0;32m--> 144\u001b[0m     kernel\u001b[39m.\u001b[39;49msetup(warmup_steps, \u001b[39m*\u001b[39;49margs, \u001b[39m*\u001b[39;49m\u001b[39m*\u001b[39;49mkwargs)\n\u001b[1;32m    145\u001b[0m     params \u001b[39m=\u001b[39m kernel\u001b[39m.\u001b[39minitial_params\n\u001b[1;32m    146\u001b[0m     save_params \u001b[39m=\u001b[39m \u001b[39mgetattr\u001b[39m(kernel, \u001b[39m\"\u001b[39m\u001b[39msave_params\u001b[39m\u001b[39m\"\u001b[39m, \u001b[39msorted\u001b[39m(params))\n",
      "File \u001b[0;32m/data/ddmg/frank/.conda/envs/frank/lib/python3.9/site-packages/pyro/infer/mcmc/hmc.py:345\u001b[0m, in \u001b[0;36mHMC.setup\u001b[0;34m(self, warmup_steps, *args, **kwargs)\u001b[0m\n\u001b[1;32m    343\u001b[0m \u001b[39mself\u001b[39m\u001b[39m.\u001b[39m_warmup_steps \u001b[39m=\u001b[39m warmup_steps\n\u001b[1;32m    344\u001b[0m \u001b[39mif\u001b[39;00m \u001b[39mself\u001b[39m\u001b[39m.\u001b[39mmodel \u001b[39mis\u001b[39;00m \u001b[39mnot\u001b[39;00m \u001b[39mNone\u001b[39;00m:\n\u001b[0;32m--> 345\u001b[0m     \u001b[39mself\u001b[39;49m\u001b[39m.\u001b[39;49m_initialize_model_properties(args, kwargs)\n\u001b[1;32m    346\u001b[0m \u001b[39mif\u001b[39;00m \u001b[39mself\u001b[39m\u001b[39m.\u001b[39minitial_params:\n\u001b[1;32m    347\u001b[0m     z \u001b[39m=\u001b[39m {k: v\u001b[39m.\u001b[39mdetach() \u001b[39mfor\u001b[39;00m k, v \u001b[39min\u001b[39;00m \u001b[39mself\u001b[39m\u001b[39m.\u001b[39minitial_params\u001b[39m.\u001b[39mitems()}\n",
      "File \u001b[0;32m/data/ddmg/frank/.conda/envs/frank/lib/python3.9/site-packages/pyro/infer/mcmc/hmc.py:279\u001b[0m, in \u001b[0;36mHMC._initialize_model_properties\u001b[0;34m(self, model_args, model_kwargs)\u001b[0m\n\u001b[1;32m    278\u001b[0m \u001b[39mdef\u001b[39;00m \u001b[39m_initialize_model_properties\u001b[39m(\u001b[39mself\u001b[39m, model_args, model_kwargs):\n\u001b[0;32m--> 279\u001b[0m     init_params, potential_fn, transforms, trace \u001b[39m=\u001b[39m initialize_model(\n\u001b[1;32m    280\u001b[0m         \u001b[39mself\u001b[39;49m\u001b[39m.\u001b[39;49mmodel,\n\u001b[1;32m    281\u001b[0m         model_args,\n\u001b[1;32m    282\u001b[0m         model_kwargs,\n\u001b[1;32m    283\u001b[0m         transforms\u001b[39m=\u001b[39;49m\u001b[39mself\u001b[39;49m\u001b[39m.\u001b[39;49mtransforms,\n\u001b[1;32m    284\u001b[0m         max_plate_nesting\u001b[39m=\u001b[39;49m\u001b[39mself\u001b[39;49m\u001b[39m.\u001b[39;49m_max_plate_nesting,\n\u001b[1;32m    285\u001b[0m         jit_compile\u001b[39m=\u001b[39;49m\u001b[39mself\u001b[39;49m\u001b[39m.\u001b[39;49m_jit_compile,\n\u001b[1;32m    286\u001b[0m         jit_options\u001b[39m=\u001b[39;49m\u001b[39mself\u001b[39;49m\u001b[39m.\u001b[39;49m_jit_options,\n\u001b[1;32m    287\u001b[0m         skip_jit_warnings\u001b[39m=\u001b[39;49m\u001b[39mself\u001b[39;49m\u001b[39m.\u001b[39;49m_ignore_jit_warnings,\n\u001b[1;32m    288\u001b[0m         init_strategy\u001b[39m=\u001b[39;49m\u001b[39mself\u001b[39;49m\u001b[39m.\u001b[39;49m_init_strategy,\n\u001b[1;32m    289\u001b[0m         initial_params\u001b[39m=\u001b[39;49m\u001b[39mself\u001b[39;49m\u001b[39m.\u001b[39;49m_initial_params,\n\u001b[1;32m    290\u001b[0m     )\n\u001b[1;32m    291\u001b[0m     \u001b[39mself\u001b[39m\u001b[39m.\u001b[39mpotential_fn \u001b[39m=\u001b[39m potential_fn\n\u001b[1;32m    292\u001b[0m     \u001b[39mself\u001b[39m\u001b[39m.\u001b[39mtransforms \u001b[39m=\u001b[39m transforms\n",
      "File \u001b[0;32m/data/ddmg/frank/.conda/envs/frank/lib/python3.9/site-packages/pyro/infer/mcmc/util.py:455\u001b[0m, in \u001b[0;36minitialize_model\u001b[0;34m(model, model_args, model_kwargs, transforms, max_plate_nesting, jit_compile, jit_options, skip_jit_warnings, num_chains, init_strategy, initial_params)\u001b[0m\n\u001b[1;32m    452\u001b[0m     \u001b[39mif\u001b[39;00m automatic_transform_enabled:\n\u001b[1;32m    453\u001b[0m         transforms[name] \u001b[39m=\u001b[39m biject_to(node[\u001b[39m\"\u001b[39m\u001b[39mfn\u001b[39m\u001b[39m\"\u001b[39m]\u001b[39m.\u001b[39msupport)\u001b[39m.\u001b[39minv\n\u001b[0;32m--> 455\u001b[0m trace_prob_evaluator \u001b[39m=\u001b[39m TraceEinsumEvaluator(\n\u001b[1;32m    456\u001b[0m     model_trace, has_enumerable_sites, max_plate_nesting\n\u001b[1;32m    457\u001b[0m )\n\u001b[1;32m    459\u001b[0m pe_maker \u001b[39m=\u001b[39m _PEMaker(\n\u001b[1;32m    460\u001b[0m     model, model_args, model_kwargs, trace_prob_evaluator, transforms\n\u001b[1;32m    461\u001b[0m )\n\u001b[1;32m    463\u001b[0m \u001b[39mif\u001b[39;00m initial_params \u001b[39mis\u001b[39;00m \u001b[39mNone\u001b[39;00m:\n",
      "File \u001b[0;32m/data/ddmg/frank/.conda/envs/frank/lib/python3.9/site-packages/pyro/infer/mcmc/util.py:183\u001b[0m, in \u001b[0;36mTraceEinsumEvaluator.__init__\u001b[0;34m(self, model_trace, has_enumerable_sites, max_plate_nesting)\u001b[0m\n\u001b[1;32m    181\u001b[0m \u001b[39mself\u001b[39m\u001b[39m.\u001b[39m_enum_dims \u001b[39m=\u001b[39m \u001b[39mset\u001b[39m()\n\u001b[1;32m    182\u001b[0m \u001b[39mself\u001b[39m\u001b[39m.\u001b[39mordering \u001b[39m=\u001b[39m {}\n\u001b[0;32m--> 183\u001b[0m \u001b[39mself\u001b[39;49m\u001b[39m.\u001b[39;49m_populate_cache(model_trace)\n",
      "File \u001b[0;32m/data/ddmg/frank/.conda/envs/frank/lib/python3.9/site-packages/pyro/infer/mcmc/util.py:197\u001b[0m, in \u001b[0;36mTraceEinsumEvaluator._populate_cache\u001b[0;34m(self, model_trace)\u001b[0m\n\u001b[1;32m    192\u001b[0m \u001b[39mif\u001b[39;00m \u001b[39mself\u001b[39m\u001b[39m.\u001b[39mmax_plate_nesting \u001b[39mis\u001b[39;00m \u001b[39mNone\u001b[39;00m:\n\u001b[1;32m    193\u001b[0m     \u001b[39mraise\u001b[39;00m \u001b[39mValueError\u001b[39;00m(\n\u001b[1;32m    194\u001b[0m         \u001b[39m\"\u001b[39m\u001b[39mFinite value required for `max_plate_nesting` when model \u001b[39m\u001b[39m\"\u001b[39m\n\u001b[1;32m    195\u001b[0m         \u001b[39m\"\u001b[39m\u001b[39mhas discrete (enumerable) sites.\u001b[39m\u001b[39m\"\u001b[39m\n\u001b[1;32m    196\u001b[0m     )\n\u001b[0;32m--> 197\u001b[0m model_trace\u001b[39m.\u001b[39;49mcompute_log_prob()\n\u001b[1;32m    198\u001b[0m model_trace\u001b[39m.\u001b[39mpack_tensors()\n\u001b[1;32m    199\u001b[0m \u001b[39mfor\u001b[39;00m name, site \u001b[39min\u001b[39;00m model_trace\u001b[39m.\u001b[39mnodes\u001b[39m.\u001b[39mitems():\n",
      "File \u001b[0;32m/data/ddmg/frank/.conda/envs/frank/lib/python3.9/site-packages/pyro/poutine/trace_struct.py:230\u001b[0m, in \u001b[0;36mTrace.compute_log_prob\u001b[0;34m(self, site_filter)\u001b[0m\n\u001b[1;32m    228\u001b[0m \u001b[39mif\u001b[39;00m \u001b[39m\"\u001b[39m\u001b[39mlog_prob\u001b[39m\u001b[39m\"\u001b[39m \u001b[39mnot\u001b[39;00m \u001b[39min\u001b[39;00m site:\n\u001b[1;32m    229\u001b[0m     \u001b[39mtry\u001b[39;00m:\n\u001b[0;32m--> 230\u001b[0m         log_p \u001b[39m=\u001b[39m site[\u001b[39m\"\u001b[39;49m\u001b[39mfn\u001b[39;49m\u001b[39m\"\u001b[39;49m]\u001b[39m.\u001b[39;49mlog_prob(\n\u001b[1;32m    231\u001b[0m             site[\u001b[39m\"\u001b[39;49m\u001b[39mvalue\u001b[39;49m\u001b[39m\"\u001b[39;49m], \u001b[39m*\u001b[39;49msite[\u001b[39m\"\u001b[39;49m\u001b[39margs\u001b[39;49m\u001b[39m\"\u001b[39;49m], \u001b[39m*\u001b[39;49m\u001b[39m*\u001b[39;49msite[\u001b[39m\"\u001b[39;49m\u001b[39mkwargs\u001b[39;49m\u001b[39m\"\u001b[39;49m]\n\u001b[1;32m    232\u001b[0m         )\n\u001b[1;32m    233\u001b[0m     \u001b[39mexcept\u001b[39;00m \u001b[39mValueError\u001b[39;00m \u001b[39mas\u001b[39;00m e:\n\u001b[1;32m    234\u001b[0m         _, exc_value, traceback \u001b[39m=\u001b[39m sys\u001b[39m.\u001b[39mexc_info()\n",
      "File \u001b[0;32m/data/ddmg/frank/.conda/envs/frank/lib/python3.9/site-packages/pyro/distributions/torch.py:143\u001b[0m, in \u001b[0;36mCategorical.log_prob\u001b[0;34m(self, value)\u001b[0m\n\u001b[1;32m    141\u001b[0m         \u001b[39massert\u001b[39;00m logits\u001b[39m.\u001b[39msize(\u001b[39m-\u001b[39m\u001b[39m1\u001b[39m \u001b[39m-\u001b[39m value\u001b[39m.\u001b[39mdim()) \u001b[39m==\u001b[39m \u001b[39m1\u001b[39m\n\u001b[1;32m    142\u001b[0m     \u001b[39mreturn\u001b[39;00m logits\u001b[39m.\u001b[39mtranspose(\u001b[39m-\u001b[39m\u001b[39m1\u001b[39m \u001b[39m-\u001b[39m value\u001b[39m.\u001b[39mdim(), \u001b[39m-\u001b[39m\u001b[39m1\u001b[39m)\u001b[39m.\u001b[39msqueeze(\u001b[39m-\u001b[39m\u001b[39m1\u001b[39m)\n\u001b[0;32m--> 143\u001b[0m \u001b[39mreturn\u001b[39;00m \u001b[39msuper\u001b[39;49m()\u001b[39m.\u001b[39;49mlog_prob(value)\n",
      "File \u001b[0;32m/data/ddmg/frank/.conda/envs/frank/lib/python3.9/site-packages/torch/distributions/categorical.py:127\u001b[0m, in \u001b[0;36mCategorical.log_prob\u001b[0;34m(self, value)\u001b[0m\n\u001b[1;32m    125\u001b[0m value, log_pmf \u001b[39m=\u001b[39m torch\u001b[39m.\u001b[39mbroadcast_tensors(value, \u001b[39mself\u001b[39m\u001b[39m.\u001b[39mlogits)\n\u001b[1;32m    126\u001b[0m value \u001b[39m=\u001b[39m value[\u001b[39m.\u001b[39m\u001b[39m.\u001b[39m\u001b[39m.\u001b[39m, :\u001b[39m1\u001b[39m]\n\u001b[0;32m--> 127\u001b[0m \u001b[39mreturn\u001b[39;00m log_pmf\u001b[39m.\u001b[39;49mgather(\u001b[39m-\u001b[39;49m\u001b[39m1\u001b[39;49m, value)\u001b[39m.\u001b[39msqueeze(\u001b[39m-\u001b[39m\u001b[39m1\u001b[39m)\n",
      "\u001b[0;31mRuntimeError\u001b[0m: index -1 is out of bounds for dimension 1 with size 3"
     ]
    }
   ],
   "source": [
    "num_items = 1000\n",
    "num_raters = 2\n",
    "true_pi = torch.tensor([0.1, 0.3, 0.6])\n",
    "confusion_diagonal = 0.9\n",
    "\n",
    "annotations_simulated, observed_z, mask = simulate_data_with_observed(num_items, num_raters, true_pi, confusion_diagonal)\n",
    "# Condition the model on the observed data\n",
    "# old_mask = mask\n",
    "mask[mask == True] = False \n",
    "observed_z[observed_z < 0] = 0\n",
    "mask[0] = True\n",
    "observed_z[0] = -1\n",
    "\n",
    "# observed_z = observed_z.to(torch.float32)\n",
    "# observed_z[observed_z < 0] = float('nan')\n",
    "\n",
    "# conditioned_model = pyro.condition(corrected_dawid_skene_model_with_observed, data={\"z\": observed_z})\n",
    "nuts_kernel = NUTS(corrected_dawid_skene_model_with_observed, jit_compile=True, ignore_jit_warnings=True)\n",
    "\n",
    "# print(observed_z[mask == False])\n",
    "# nuts_kernel = NUTS(conditioned_model, jit_compile=True, ignore_jit_warnings=True)\n",
    "mcmc = MCMC(nuts_kernel, num_samples=1000, warmup_steps=500)\n",
    "mcmc.run(annotations_simulated, observed_z, mask)\n",
    "\n",
    "# # Extract posterior samples\n",
    "# posterior_samples_corrected = mcmc.get_samples()"
   ]
  },
  {
   "cell_type": "code",
   "execution_count": 3,
   "metadata": {},
   "outputs": [
    {
     "data": {
      "text/plain": [
       "array([[1., 1., 1., 1., 1.],\n",
       "       [0., 1., 0., 0., 1.],\n",
       "       [0., 1., 0., 1., 1.],\n",
       "       ...,\n",
       "       [0., 1., 1., 1., 1.],\n",
       "       [0., 0., 0., 1., 1.],\n",
       "       [1., 1., 1., 1., 0.]])"
      ]
     },
     "execution_count": 3,
     "metadata": {},
     "output_type": "execute_result"
    }
   ],
   "source": [
    "def sigmoid(z):\n",
    "    return 1 / (1 + np.exp(-z))\n",
    "\n",
    "def simulate_models_and_predictions(num_models, N, num_features, external_N=10000):\n",
    "    \"\"\"\n",
    "    Simulate models, get their predictions, and rank them based on accuracy on an external dataset.\n",
    "    \n",
    "    Parameters:\n",
    "    - num_models: Number of models to simulate\n",
    "    - N: Number of individuals in the training dataset\n",
    "    - num_features: Number of features per individual\n",
    "    - external_N: Number of individuals in the external dataset for accuracy estimation\n",
    "    \n",
    "    Returns:\n",
    "    - Rankings of models based on accuracy on the external dataset\n",
    "    - Matrix of class predictions for each model on the original dataset\n",
    "    \"\"\"\n",
    "    \n",
    "    # Generate the feature matrix X\n",
    "    X = np.random.randn(N, num_features)\n",
    "    \n",
    "    # Generate the true beta coefficients\n",
    "    beta = np.random.randn(num_features)\n",
    "    \n",
    "    # Generate the true y values using a Bernoulli distribution based on the sigmoid probabilities\n",
    "    p = sigmoid(X @ beta)\n",
    "    y = np.random.binomial(1, p)\n",
    "    \n",
    "    # Covariance matrix for beta'\n",
    "    cov_matrix = np.full((num_features, num_features), 0.5)\n",
    "    np.fill_diagonal(cov_matrix, 1)\n",
    "    \n",
    "    # Generate an external dataset X' for accuracy estimation\n",
    "    X_prime = np.random.randn(external_N, num_features)\n",
    "    p_values_prime = sigmoid(X_prime @ beta)\n",
    "    y_prime = np.random.binomial(1, p_values_prime)\n",
    "    \n",
    "    # Matrix to store predictions from each model for both datasets\n",
    "    predictions_on_N = np.zeros((N, num_models))\n",
    "    accuracies = []\n",
    "    \n",
    "    for model_id in range(num_models):\n",
    "        beta_prime = np.random.multivariate_normal(beta, cov_matrix)\n",
    "        \n",
    "        # Predictions on N\n",
    "        y_hat_prob_N = sigmoid(X @ beta_prime)\n",
    "        y_hat_N = np.random.binomial(1, y_hat_prob_N)\n",
    "        predictions_on_N[:, model_id] = y_hat_N\n",
    "        \n",
    "        # Predictions and accuracy on external_N\n",
    "        y_hat_prob_prime = sigmoid(X_prime @ beta_prime)\n",
    "        y_hat_prime = np.random.binomial(1, y_hat_prob_prime)\n",
    "        accuracy = np.mean(y_hat_prime == y_prime)\n",
    "        accuracies.append((model_id, accuracy))\n",
    "    \n",
    "    # Rank models based on accuracy\n",
    "    # ranked_models = sorted(accuracies, key=lambda x: x[1], reverse=True)\n",
    "    \n",
    "    return accuracies, predictions_on_N, y\n",
    "\n",
    "\n",
    "rankings, predictions_on_N, true_y = simulate_models_and_predictions(num_models=5, N=1000, num_features=5)\n",
    "\n",
    "# predictions_on_N\n"
   ]
  },
  {
   "cell_type": "code",
   "execution_count": 5,
   "metadata": {},
   "outputs": [
    {
     "name": "stdout",
     "output_type": "stream",
     "text": [
      "tensor([611, 665, 669, 106,  95])\n"
     ]
    },
    {
     "name": "stderr",
     "output_type": "stream",
     "text": [
      "Warmup:   2%|▏         | 37/2000 [00:05, 16.94it/s, step size=4.61e-02, acc. prob=0.766]"
     ]
    },
    {
     "ename": "KeyboardInterrupt",
     "evalue": "",
     "output_type": "error",
     "traceback": [
      "\u001b[0;31m---------------------------------------------------------------------------\u001b[0m",
      "\u001b[0;31mKeyboardInterrupt\u001b[0m                         Traceback (most recent call last)",
      "\u001b[1;32m/data/ddmg/frank/shuvom/tutorials/23-10-27-debug.ipynb Cell 5\u001b[0m line \u001b[0;36m1\n\u001b[1;32m     <a href='vscode-notebook-cell://ssh-remote%2Bminotaur.csail.mit.edu/data/ddmg/frank/shuvom/tutorials/23-10-27-debug.ipynb#W4sdnNjb2RlLXJlbW90ZQ%3D%3D?line=14'>15</a>\u001b[0m observed_y \u001b[39m=\u001b[39m torch\u001b[39m.\u001b[39mfull((N,), \u001b[39m-\u001b[39m\u001b[39m1\u001b[39m, dtype\u001b[39m=\u001b[39mtorch\u001b[39m.\u001b[39mint64)\n\u001b[1;32m     <a href='vscode-notebook-cell://ssh-remote%2Bminotaur.csail.mit.edu/data/ddmg/frank/shuvom/tutorials/23-10-27-debug.ipynb#W4sdnNjb2RlLXJlbW90ZQ%3D%3D?line=15'>16</a>\u001b[0m observed_y[indices] \u001b[39m=\u001b[39m torch\u001b[39m.\u001b[39mtensor(true_y[indices])\n\u001b[0;32m---> <a href='vscode-notebook-cell://ssh-remote%2Bminotaur.csail.mit.edu/data/ddmg/frank/shuvom/tutorials/23-10-27-debug.ipynb#W4sdnNjb2RlLXJlbW90ZQ%3D%3D?line=16'>17</a>\u001b[0m mcmc\u001b[39m.\u001b[39;49mrun(torch\u001b[39m.\u001b[39;49mtensor(predictions_on_N), observed_y, torch\u001b[39m.\u001b[39;49mtensor(mask))\n\u001b[1;32m     <a href='vscode-notebook-cell://ssh-remote%2Bminotaur.csail.mit.edu/data/ddmg/frank/shuvom/tutorials/23-10-27-debug.ipynb#W4sdnNjb2RlLXJlbW90ZQ%3D%3D?line=18'>19</a>\u001b[0m posterior_samples_corrected \u001b[39m=\u001b[39m mcmc\u001b[39m.\u001b[39mget_samples()\n",
      "File \u001b[0;32m/data/ddmg/frank/.conda/envs/frank/lib/python3.9/site-packages/pyro/poutine/messenger.py:12\u001b[0m, in \u001b[0;36m_context_wrap\u001b[0;34m(context, fn, *args, **kwargs)\u001b[0m\n\u001b[1;32m     10\u001b[0m \u001b[39mdef\u001b[39;00m \u001b[39m_context_wrap\u001b[39m(context, fn, \u001b[39m*\u001b[39margs, \u001b[39m*\u001b[39m\u001b[39m*\u001b[39mkwargs):\n\u001b[1;32m     11\u001b[0m     \u001b[39mwith\u001b[39;00m context:\n\u001b[0;32m---> 12\u001b[0m         \u001b[39mreturn\u001b[39;00m fn(\u001b[39m*\u001b[39;49margs, \u001b[39m*\u001b[39;49m\u001b[39m*\u001b[39;49mkwargs)\n",
      "File \u001b[0;32m/data/ddmg/frank/.conda/envs/frank/lib/python3.9/site-packages/pyro/infer/mcmc/api.py:563\u001b[0m, in \u001b[0;36mMCMC.run\u001b[0;34m(self, *args, **kwargs)\u001b[0m\n\u001b[1;32m    554\u001b[0m \u001b[39mwith\u001b[39;00m optional(\n\u001b[1;32m    555\u001b[0m     pyro\u001b[39m.\u001b[39mvalidation_enabled(\u001b[39mnot\u001b[39;00m \u001b[39mself\u001b[39m\u001b[39m.\u001b[39mdisable_validation),\n\u001b[1;32m    556\u001b[0m     \u001b[39mself\u001b[39m\u001b[39m.\u001b[39mdisable_validation \u001b[39mis\u001b[39;00m \u001b[39mnot\u001b[39;00m \u001b[39mNone\u001b[39;00m,\n\u001b[0;32m   (...)\u001b[0m\n\u001b[1;32m    560\u001b[0m     \u001b[39m# This also resolves \"RuntimeError: Cowardly refusing to serialize non-leaf tensor which\u001b[39;00m\n\u001b[1;32m    561\u001b[0m     \u001b[39m# requires_grad\", which happens with `jit_compile` under PyTorch 1.7\u001b[39;00m\n\u001b[1;32m    562\u001b[0m     args \u001b[39m=\u001b[39m [arg\u001b[39m.\u001b[39mdetach() \u001b[39mif\u001b[39;00m torch\u001b[39m.\u001b[39mis_tensor(arg) \u001b[39melse\u001b[39;00m arg \u001b[39mfor\u001b[39;00m arg \u001b[39min\u001b[39;00m args]\n\u001b[0;32m--> 563\u001b[0m     \u001b[39mfor\u001b[39;00m x, chain_id \u001b[39min\u001b[39;00m \u001b[39mself\u001b[39m\u001b[39m.\u001b[39msampler\u001b[39m.\u001b[39mrun(\u001b[39m*\u001b[39margs, \u001b[39m*\u001b[39m\u001b[39m*\u001b[39mkwargs):\n\u001b[1;32m    564\u001b[0m         \u001b[39mif\u001b[39;00m num_samples[chain_id] \u001b[39m==\u001b[39m \u001b[39m0\u001b[39m:\n\u001b[1;32m    565\u001b[0m             num_samples[chain_id] \u001b[39m+\u001b[39m\u001b[39m=\u001b[39m \u001b[39m1\u001b[39m\n",
      "File \u001b[0;32m/data/ddmg/frank/.conda/envs/frank/lib/python3.9/site-packages/pyro/infer/mcmc/api.py:223\u001b[0m, in \u001b[0;36m_UnarySampler.run\u001b[0;34m(self, *args, **kwargs)\u001b[0m\n\u001b[1;32m    221\u001b[0m logger \u001b[39m=\u001b[39m initialize_logger(logger, \u001b[39m\"\u001b[39m\u001b[39m\"\u001b[39m, progress_bar)\n\u001b[1;32m    222\u001b[0m hook_w_logging \u001b[39m=\u001b[39m _add_logging_hook(logger, progress_bar, \u001b[39mself\u001b[39m\u001b[39m.\u001b[39mhook)\n\u001b[0;32m--> 223\u001b[0m \u001b[39mfor\u001b[39;00m sample \u001b[39min\u001b[39;00m _gen_samples(\n\u001b[1;32m    224\u001b[0m     \u001b[39mself\u001b[39m\u001b[39m.\u001b[39mkernel,\n\u001b[1;32m    225\u001b[0m     \u001b[39mself\u001b[39m\u001b[39m.\u001b[39mwarmup_steps,\n\u001b[1;32m    226\u001b[0m     \u001b[39mself\u001b[39m\u001b[39m.\u001b[39mnum_samples,\n\u001b[1;32m    227\u001b[0m     hook_w_logging,\n\u001b[1;32m    228\u001b[0m     i \u001b[39mif\u001b[39;00m \u001b[39mself\u001b[39m\u001b[39m.\u001b[39mnum_chains \u001b[39m>\u001b[39m \u001b[39m1\u001b[39m \u001b[39melse\u001b[39;00m \u001b[39mNone\u001b[39;00m,\n\u001b[1;32m    229\u001b[0m     \u001b[39m*\u001b[39margs,\n\u001b[1;32m    230\u001b[0m     \u001b[39m*\u001b[39m\u001b[39m*\u001b[39mkwargs\n\u001b[1;32m    231\u001b[0m ):\n\u001b[1;32m    232\u001b[0m     \u001b[39myield\u001b[39;00m sample, i  \u001b[39m# sample, chain_id\u001b[39;00m\n\u001b[1;32m    233\u001b[0m \u001b[39mself\u001b[39m\u001b[39m.\u001b[39mkernel\u001b[39m.\u001b[39mcleanup()\n",
      "File \u001b[0;32m/data/ddmg/frank/.conda/envs/frank/lib/python3.9/site-packages/pyro/infer/mcmc/api.py:150\u001b[0m, in \u001b[0;36m_gen_samples\u001b[0;34m(kernel, warmup_steps, num_samples, hook, chain_id, *args, **kwargs)\u001b[0m\n\u001b[1;32m    148\u001b[0m \u001b[39myield\u001b[39;00m {name: params[name]\u001b[39m.\u001b[39mshape \u001b[39mfor\u001b[39;00m name \u001b[39min\u001b[39;00m save_params}\n\u001b[1;32m    149\u001b[0m \u001b[39mfor\u001b[39;00m i \u001b[39min\u001b[39;00m \u001b[39mrange\u001b[39m(warmup_steps):\n\u001b[0;32m--> 150\u001b[0m     params \u001b[39m=\u001b[39m kernel\u001b[39m.\u001b[39;49msample(params)\n\u001b[1;32m    151\u001b[0m     hook(\n\u001b[1;32m    152\u001b[0m         kernel,\n\u001b[1;32m    153\u001b[0m         params,\n\u001b[1;32m    154\u001b[0m         \u001b[39m\"\u001b[39m\u001b[39mWarmup [\u001b[39m\u001b[39m{}\u001b[39;00m\u001b[39m]\u001b[39m\u001b[39m\"\u001b[39m\u001b[39m.\u001b[39mformat(chain_id) \u001b[39mif\u001b[39;00m chain_id \u001b[39mis\u001b[39;00m \u001b[39mnot\u001b[39;00m \u001b[39mNone\u001b[39;00m \u001b[39melse\u001b[39;00m \u001b[39m\"\u001b[39m\u001b[39mWarmup\u001b[39m\u001b[39m\"\u001b[39m,\n\u001b[1;32m    155\u001b[0m         i,\n\u001b[1;32m    156\u001b[0m     )\n\u001b[1;32m    157\u001b[0m \u001b[39mfor\u001b[39;00m i \u001b[39min\u001b[39;00m \u001b[39mrange\u001b[39m(num_samples):\n",
      "File \u001b[0;32m/data/ddmg/frank/.conda/envs/frank/lib/python3.9/site-packages/pyro/infer/mcmc/nuts.py:452\u001b[0m, in \u001b[0;36mNUTS.sample\u001b[0;34m(self, params)\u001b[0m\n\u001b[1;32m    450\u001b[0m     z_right_grads \u001b[39m=\u001b[39m new_tree\u001b[39m.\u001b[39mz_right_grads\n\u001b[1;32m    451\u001b[0m \u001b[39melse\u001b[39;00m:  \u001b[39m# go the the left, start from the left leaf of current tree\u001b[39;00m\n\u001b[0;32m--> 452\u001b[0m     new_tree \u001b[39m=\u001b[39m \u001b[39mself\u001b[39;49m\u001b[39m.\u001b[39;49m_build_tree(\n\u001b[1;32m    453\u001b[0m         z_left,\n\u001b[1;32m    454\u001b[0m         r_left,\n\u001b[1;32m    455\u001b[0m         z_left_grads,\n\u001b[1;32m    456\u001b[0m         log_slice,\n\u001b[1;32m    457\u001b[0m         direction,\n\u001b[1;32m    458\u001b[0m         tree_depth,\n\u001b[1;32m    459\u001b[0m         energy_current,\n\u001b[1;32m    460\u001b[0m     )\n\u001b[1;32m    461\u001b[0m     z_left \u001b[39m=\u001b[39m new_tree\u001b[39m.\u001b[39mz_left\n\u001b[1;32m    462\u001b[0m     r_left \u001b[39m=\u001b[39m new_tree\u001b[39m.\u001b[39mr_left\n",
      "File \u001b[0;32m/data/ddmg/frank/.conda/envs/frank/lib/python3.9/site-packages/pyro/infer/mcmc/nuts.py:259\u001b[0m, in \u001b[0;36mNUTS._build_tree\u001b[0;34m(self, z, r, z_grads, log_slice, direction, tree_depth, energy_current)\u001b[0m\n\u001b[1;32m    254\u001b[0m     \u001b[39mreturn\u001b[39;00m \u001b[39mself\u001b[39m\u001b[39m.\u001b[39m_build_basetree(\n\u001b[1;32m    255\u001b[0m         z, r, z_grads, log_slice, direction, energy_current\n\u001b[1;32m    256\u001b[0m     )\n\u001b[1;32m    258\u001b[0m \u001b[39m# build the first half of tree\u001b[39;00m\n\u001b[0;32m--> 259\u001b[0m half_tree \u001b[39m=\u001b[39m \u001b[39mself\u001b[39;49m\u001b[39m.\u001b[39;49m_build_tree(\n\u001b[1;32m    260\u001b[0m     z, r, z_grads, log_slice, direction, tree_depth \u001b[39m-\u001b[39;49m \u001b[39m1\u001b[39;49m, energy_current\n\u001b[1;32m    261\u001b[0m )\n\u001b[1;32m    262\u001b[0m z_proposal \u001b[39m=\u001b[39m half_tree\u001b[39m.\u001b[39mz_proposal\n\u001b[1;32m    263\u001b[0m z_proposal_pe \u001b[39m=\u001b[39m half_tree\u001b[39m.\u001b[39mz_proposal_pe\n",
      "File \u001b[0;32m/data/ddmg/frank/.conda/envs/frank/lib/python3.9/site-packages/pyro/infer/mcmc/nuts.py:259\u001b[0m, in \u001b[0;36mNUTS._build_tree\u001b[0;34m(self, z, r, z_grads, log_slice, direction, tree_depth, energy_current)\u001b[0m\n\u001b[1;32m    254\u001b[0m     \u001b[39mreturn\u001b[39;00m \u001b[39mself\u001b[39m\u001b[39m.\u001b[39m_build_basetree(\n\u001b[1;32m    255\u001b[0m         z, r, z_grads, log_slice, direction, energy_current\n\u001b[1;32m    256\u001b[0m     )\n\u001b[1;32m    258\u001b[0m \u001b[39m# build the first half of tree\u001b[39;00m\n\u001b[0;32m--> 259\u001b[0m half_tree \u001b[39m=\u001b[39m \u001b[39mself\u001b[39;49m\u001b[39m.\u001b[39;49m_build_tree(\n\u001b[1;32m    260\u001b[0m     z, r, z_grads, log_slice, direction, tree_depth \u001b[39m-\u001b[39;49m \u001b[39m1\u001b[39;49m, energy_current\n\u001b[1;32m    261\u001b[0m )\n\u001b[1;32m    262\u001b[0m z_proposal \u001b[39m=\u001b[39m half_tree\u001b[39m.\u001b[39mz_proposal\n\u001b[1;32m    263\u001b[0m z_proposal_pe \u001b[39m=\u001b[39m half_tree\u001b[39m.\u001b[39mz_proposal_pe\n",
      "File \u001b[0;32m/data/ddmg/frank/.conda/envs/frank/lib/python3.9/site-packages/pyro/infer/mcmc/nuts.py:254\u001b[0m, in \u001b[0;36mNUTS._build_tree\u001b[0;34m(self, z, r, z_grads, log_slice, direction, tree_depth, energy_current)\u001b[0m\n\u001b[1;32m    250\u001b[0m \u001b[39mdef\u001b[39;00m \u001b[39m_build_tree\u001b[39m(\n\u001b[1;32m    251\u001b[0m     \u001b[39mself\u001b[39m, z, r, z_grads, log_slice, direction, tree_depth, energy_current\n\u001b[1;32m    252\u001b[0m ):\n\u001b[1;32m    253\u001b[0m     \u001b[39mif\u001b[39;00m tree_depth \u001b[39m==\u001b[39m \u001b[39m0\u001b[39m:\n\u001b[0;32m--> 254\u001b[0m         \u001b[39mreturn\u001b[39;00m \u001b[39mself\u001b[39;49m\u001b[39m.\u001b[39;49m_build_basetree(\n\u001b[1;32m    255\u001b[0m             z, r, z_grads, log_slice, direction, energy_current\n\u001b[1;32m    256\u001b[0m         )\n\u001b[1;32m    258\u001b[0m     \u001b[39m# build the first half of tree\u001b[39;00m\n\u001b[1;32m    259\u001b[0m     half_tree \u001b[39m=\u001b[39m \u001b[39mself\u001b[39m\u001b[39m.\u001b[39m_build_tree(\n\u001b[1;32m    260\u001b[0m         z, r, z_grads, log_slice, direction, tree_depth \u001b[39m-\u001b[39m \u001b[39m1\u001b[39m, energy_current\n\u001b[1;32m    261\u001b[0m     )\n",
      "File \u001b[0;32m/data/ddmg/frank/.conda/envs/frank/lib/python3.9/site-packages/pyro/infer/mcmc/nuts.py:199\u001b[0m, in \u001b[0;36mNUTS._build_basetree\u001b[0;34m(self, z, r, z_grads, log_slice, direction, energy_current)\u001b[0m\n\u001b[1;32m    197\u001b[0m \u001b[39mdef\u001b[39;00m \u001b[39m_build_basetree\u001b[39m(\u001b[39mself\u001b[39m, z, r, z_grads, log_slice, direction, energy_current):\n\u001b[1;32m    198\u001b[0m     step_size \u001b[39m=\u001b[39m \u001b[39mself\u001b[39m\u001b[39m.\u001b[39mstep_size \u001b[39mif\u001b[39;00m direction \u001b[39m==\u001b[39m \u001b[39m1\u001b[39m \u001b[39melse\u001b[39;00m \u001b[39m-\u001b[39m\u001b[39mself\u001b[39m\u001b[39m.\u001b[39mstep_size\n\u001b[0;32m--> 199\u001b[0m     z_new, r_new, z_grads, potential_energy \u001b[39m=\u001b[39m velocity_verlet(\n\u001b[1;32m    200\u001b[0m         z,\n\u001b[1;32m    201\u001b[0m         r,\n\u001b[1;32m    202\u001b[0m         \u001b[39mself\u001b[39;49m\u001b[39m.\u001b[39;49mpotential_fn,\n\u001b[1;32m    203\u001b[0m         \u001b[39mself\u001b[39;49m\u001b[39m.\u001b[39;49mmass_matrix_adapter\u001b[39m.\u001b[39;49mkinetic_grad,\n\u001b[1;32m    204\u001b[0m         step_size,\n\u001b[1;32m    205\u001b[0m         z_grads\u001b[39m=\u001b[39;49mz_grads,\n\u001b[1;32m    206\u001b[0m     )\n\u001b[1;32m    207\u001b[0m     r_new_unscaled \u001b[39m=\u001b[39m \u001b[39mself\u001b[39m\u001b[39m.\u001b[39mmass_matrix_adapter\u001b[39m.\u001b[39munscale(r_new)\n\u001b[1;32m    208\u001b[0m     energy_new \u001b[39m=\u001b[39m potential_energy \u001b[39m+\u001b[39m \u001b[39mself\u001b[39m\u001b[39m.\u001b[39m_kinetic_energy(r_new_unscaled)\n",
      "File \u001b[0;32m/data/ddmg/frank/.conda/envs/frank/lib/python3.9/site-packages/pyro/ops/integrator.py:39\u001b[0m, in \u001b[0;36mvelocity_verlet\u001b[0;34m(z, r, potential_fn, kinetic_grad, step_size, num_steps, z_grads)\u001b[0m\n\u001b[1;32m     37\u001b[0m r_next \u001b[39m=\u001b[39m r\u001b[39m.\u001b[39mcopy()\n\u001b[1;32m     38\u001b[0m \u001b[39mfor\u001b[39;00m _ \u001b[39min\u001b[39;00m \u001b[39mrange\u001b[39m(num_steps):\n\u001b[0;32m---> 39\u001b[0m     z_next, r_next, z_grads, potential_energy \u001b[39m=\u001b[39m _single_step_verlet(\n\u001b[1;32m     40\u001b[0m         z_next, r_next, potential_fn, kinetic_grad, step_size, z_grads\n\u001b[1;32m     41\u001b[0m     )\n\u001b[1;32m     42\u001b[0m \u001b[39mreturn\u001b[39;00m z_next, r_next, z_grads, potential_energy\n",
      "File \u001b[0;32m/data/ddmg/frank/.conda/envs/frank/lib/python3.9/site-packages/pyro/ops/integrator.py:61\u001b[0m, in \u001b[0;36m_single_step_verlet\u001b[0;34m(z, r, potential_fn, kinetic_grad, step_size, z_grads)\u001b[0m\n\u001b[1;32m     58\u001b[0m \u001b[39mfor\u001b[39;00m site_name \u001b[39min\u001b[39;00m z:\n\u001b[1;32m     59\u001b[0m     z[site_name] \u001b[39m=\u001b[39m z[site_name] \u001b[39m+\u001b[39m step_size \u001b[39m*\u001b[39m r_grads[site_name]  \u001b[39m# z(n+1)\u001b[39;00m\n\u001b[0;32m---> 61\u001b[0m z_grads, potential_energy \u001b[39m=\u001b[39m potential_grad(potential_fn, z)\n\u001b[1;32m     62\u001b[0m \u001b[39mfor\u001b[39;00m site_name \u001b[39min\u001b[39;00m r:\n\u001b[1;32m     63\u001b[0m     r[site_name] \u001b[39m=\u001b[39m r[site_name] \u001b[39m+\u001b[39m \u001b[39m0.5\u001b[39m \u001b[39m*\u001b[39m step_size \u001b[39m*\u001b[39m (\u001b[39m-\u001b[39mz_grads[site_name])  \u001b[39m# r(n+1)\u001b[39;00m\n",
      "File \u001b[0;32m/data/ddmg/frank/.conda/envs/frank/lib/python3.9/site-packages/pyro/ops/integrator.py:91\u001b[0m, in \u001b[0;36mpotential_grad\u001b[0;34m(potential_fn, z)\u001b[0m\n\u001b[1;32m     89\u001b[0m     \u001b[39melse\u001b[39;00m:\n\u001b[1;32m     90\u001b[0m         \u001b[39mraise\u001b[39;00m e\n\u001b[0;32m---> 91\u001b[0m grads \u001b[39m=\u001b[39m grad(potential_energy, z_nodes)\n\u001b[1;32m     92\u001b[0m \u001b[39mfor\u001b[39;00m node \u001b[39min\u001b[39;00m z_nodes:\n\u001b[1;32m     93\u001b[0m     node\u001b[39m.\u001b[39mrequires_grad_(\u001b[39mFalse\u001b[39;00m)\n",
      "File \u001b[0;32m/data/ddmg/frank/.conda/envs/frank/lib/python3.9/site-packages/torch/autograd/__init__.py:303\u001b[0m, in \u001b[0;36mgrad\u001b[0;34m(outputs, inputs, grad_outputs, retain_graph, create_graph, only_inputs, allow_unused, is_grads_batched)\u001b[0m\n\u001b[1;32m    301\u001b[0m     \u001b[39mreturn\u001b[39;00m _vmap_internals\u001b[39m.\u001b[39m_vmap(vjp, \u001b[39m0\u001b[39m, \u001b[39m0\u001b[39m, allow_none_pass_through\u001b[39m=\u001b[39m\u001b[39mTrue\u001b[39;00m)(grad_outputs_)\n\u001b[1;32m    302\u001b[0m \u001b[39melse\u001b[39;00m:\n\u001b[0;32m--> 303\u001b[0m     \u001b[39mreturn\u001b[39;00m Variable\u001b[39m.\u001b[39;49m_execution_engine\u001b[39m.\u001b[39;49mrun_backward(  \u001b[39m# Calls into the C++ engine to run the backward pass\u001b[39;49;00m\n\u001b[1;32m    304\u001b[0m         t_outputs, grad_outputs_, retain_graph, create_graph, t_inputs,\n\u001b[1;32m    305\u001b[0m         allow_unused, accumulate_grad\u001b[39m=\u001b[39;49m\u001b[39mFalse\u001b[39;49;00m)\n",
      "\u001b[0;31mKeyboardInterrupt\u001b[0m: "
     ]
    },
    {
     "name": "stderr",
     "output_type": "stream",
     "text": [
      "Warmup:  10%|▉         | 145/1500 [00:39, 20.65it/s, step size=1.99e-01, acc. prob=0.778]"
     ]
    }
   ],
   "source": [
    "N=1000\n",
    "indices = observed_indices = torch.randperm(N)[:5]\n",
    "print(indices)\n",
    "\n",
    "mask = [False for i in range(N)]\n",
    "for index in indices:\n",
    "    mask[index] = True\n",
    "\n",
    "\n",
    "pyro.clear_param_store()\n",
    "logging.getLogger(\"pyro\").setLevel(logging.DEBUG)\n",
    "nuts_kernel = NUTS(corrected_dawid_skene_model_with_observed, jit_compile=True, ignore_jit_warnings=True)\n",
    "mcmc = MCMC(nuts_kernel, num_samples=500, warmup_steps=1500)\n",
    "\n",
    "observed_y = torch.full((N,), -1, dtype=torch.int64)\n",
    "observed_y[indices] = torch.tensor(true_y[indices])\n",
    "mcmc.run(torch.tensor(predictions_on_N), observed_y, torch.tensor(mask))\n",
    "\n",
    "posterior_samples_corrected = mcmc.get_samples()\n"
   ]
  },
  {
   "cell_type": "code",
   "execution_count": 4,
   "metadata": {},
   "outputs": [],
   "source": [
    "# theta_mean = posterior_samples_corrected[\"theta\"].mean(dim=0) \n",
    "# pi_mean = posterior_samples_corrected[\"pi\"].mean(dim=0)\n",
    "\n",
    "# result = pi_mean[0] * theta_mean[:, 0, 0] + pi_mean[1] * theta_mean[:, 1, 1]\n",
    "# resulting_ranking = torch.argsort(result, descending=True)\n",
    "# resulting_ranking.tolist()\n",
    "# result\n",
    "# posterior_samples_corrected[\"theta\"].shape"
   ]
  },
  {
   "cell_type": "code",
   "execution_count": 5,
   "metadata": {},
   "outputs": [
    {
     "ename": "NameError",
     "evalue": "name 'posterior_samples_corrected' is not defined",
     "output_type": "error",
     "traceback": [
      "\u001b[0;31m---------------------------------------------------------------------------\u001b[0m",
      "\u001b[0;31mNameError\u001b[0m                                 Traceback (most recent call last)",
      "Cell \u001b[0;32mIn[5], line 1\u001b[0m\n\u001b[0;32m----> 1\u001b[0m pi_reshaped \u001b[39m=\u001b[39m posterior_samples_corrected[\u001b[39m\"\u001b[39m\u001b[39mpi\u001b[39m\u001b[39m\"\u001b[39m]\u001b[39m.\u001b[39munsqueeze(\u001b[39m1\u001b[39m)\n\u001b[1;32m      3\u001b[0m result \u001b[39m=\u001b[39m (pi_reshaped[:, :, \u001b[39m0\u001b[39m] \u001b[39m*\u001b[39m posterior_samples_corrected[\u001b[39m\"\u001b[39m\u001b[39mtheta\u001b[39m\u001b[39m\"\u001b[39m][:, :, \u001b[39m0\u001b[39m, \u001b[39m0\u001b[39m] \u001b[39m+\u001b[39m \n\u001b[1;32m      4\u001b[0m           pi_reshaped[:, :, \u001b[39m1\u001b[39m] \u001b[39m*\u001b[39m posterior_samples_corrected[\u001b[39m\"\u001b[39m\u001b[39mtheta\u001b[39m\u001b[39m\"\u001b[39m][:, :, \u001b[39m1\u001b[39m, \u001b[39m1\u001b[39m])\n\u001b[1;32m      6\u001b[0m resulting_ranking \u001b[39m=\u001b[39m torch\u001b[39m.\u001b[39margsort(result\u001b[39m.\u001b[39mmean(dim\u001b[39m=\u001b[39m\u001b[39m0\u001b[39m), descending\u001b[39m=\u001b[39m\u001b[39mTrue\u001b[39;00m)\n",
      "\u001b[0;31mNameError\u001b[0m: name 'posterior_samples_corrected' is not defined"
     ]
    }
   ],
   "source": [
    "pi_reshaped = posterior_samples_corrected[\"pi\"].unsqueeze(1)\n",
    "\n",
    "result = (pi_reshaped[:, :, 0] * posterior_samples_corrected[\"theta\"][:, :, 0, 0] + \n",
    "          pi_reshaped[:, :, 1] * posterior_samples_corrected[\"theta\"][:, :, 1, 1])\n",
    "\n",
    "resulting_ranking = torch.argsort(result.mean(dim=0), descending=True)\n",
    "print(result.mean(dim=0).tolist())\n",
    "formatted_list = [\"{:.3f}\".format(item) for item in result.mean(dim=0).tolist()]\n",
    "print(formatted_list)"
   ]
  },
  {
   "cell_type": "code",
   "execution_count": 6,
   "metadata": {},
   "outputs": [
    {
     "data": {
      "text/plain": [
       "[0.6724, 0.5668, 0.6522, 0.6039, 0.5811]"
      ]
     },
     "execution_count": 6,
     "metadata": {},
     "output_type": "execute_result"
    }
   ],
   "source": [
    "accs_only = [tup[1] for tup in rankings]\n",
    "accs_only"
   ]
  },
  {
   "cell_type": "code",
   "execution_count": 5,
   "metadata": {},
   "outputs": [
    {
     "data": {
      "text/plain": [
       "SignificanceResult(statistic=0.8999999999999998, pvalue=0.03738607346849874)"
      ]
     },
     "execution_count": 5,
     "metadata": {},
     "output_type": "execute_result"
    }
   ],
   "source": [
    "from scipy.stats import kendalltau\n",
    "from scipy.stats import spearmanr\n",
    "\n",
    "# Compute Kendall's tau using scipy's implementation\n",
    "# spearmanr([0,1,2,3,4], [2,0,4,1,3])\n",
    "spearmanr([1,0,2,4,3], [0,1,2,4,3])\n",
    "# tau_scipy\n",
    "\n",
    "# kendalltau(result.mean(dim=0).tolist(), accs_only)\n",
    "# tau_scipy\n",
    "# kendalltau([0,1,2,3,4], accs_only)"
   ]
  },
  {
   "cell_type": "code",
   "execution_count": 7,
   "metadata": {},
   "outputs": [
    {
     "data": {
      "text/plain": [
       "array([[[0., 1.],\n",
       "        [1., 0.],\n",
       "        [1., 0.],\n",
       "        [1., 0.],\n",
       "        [1., 0.]],\n",
       "\n",
       "       [[1., 0.],\n",
       "        [0., 1.],\n",
       "        [0., 1.],\n",
       "        [0., 1.],\n",
       "        [0., 1.]],\n",
       "\n",
       "       [[1., 0.],\n",
       "        [0., 1.],\n",
       "        [1., 0.],\n",
       "        [0., 1.],\n",
       "        [0., 1.]],\n",
       "\n",
       "       ...,\n",
       "\n",
       "       [[1., 0.],\n",
       "        [1., 0.],\n",
       "        [0., 1.],\n",
       "        [1., 0.],\n",
       "        [1., 0.]],\n",
       "\n",
       "       [[0., 1.],\n",
       "        [0., 1.],\n",
       "        [0., 1.],\n",
       "        [0., 1.],\n",
       "        [0., 1.]],\n",
       "\n",
       "       [[0., 1.],\n",
       "        [1., 0.],\n",
       "        [0., 1.],\n",
       "        [1., 0.],\n",
       "        [1., 0.]]])"
      ]
     },
     "execution_count": 7,
     "metadata": {},
     "output_type": "execute_result"
    }
   ],
   "source": [
    "# rankings_only\n",
    "from dawid_skene import run\n",
    "\n",
    "\n",
    "import numpy as np\n",
    "\n",
    "# Sample tensor\n",
    "tensor = np.array([[1., 0., 0., 1., 1.],\n",
    "                   [0., 0., 0., 0., 0.],\n",
    "                   [0., 0., 1., 0., 0.],\n",
    "                   # ... (For demonstration purposes, I've truncated the data.)\n",
    "                   [0., 1., 1., 0., 0.],\n",
    "                   [1., 1., 1., 1., 1.],\n",
    "                   [1., 1., 1., 0., 0.]])\n",
    "\n",
    "n_examples = predictions_on_N.shape[0]\n",
    "n_classes = 2\n",
    "n_models = predictions_on_N.shape[1]\n",
    "\n",
    "one_hot_predictions = np.zeros((n_examples, n_models, n_classes))\n",
    "\n",
    "# Loop over both classes\n",
    "# Loop over both classes\n",
    "for class_idx in range(n_classes):\n",
    "    # Loop over each model (column)\n",
    "    for i in range(n_models):\n",
    "        one_class_preds = (predictions_on_N[:,i] == class_idx).astype(int)\n",
    "        one_hot_predictions[np.arange(n_examples), i, class_idx] = one_class_preds\n",
    "\n",
    "\n",
    "one_hot_predictions"
   ]
  },
  {
   "cell_type": "code",
   "execution_count": 8,
   "metadata": {},
   "outputs": [],
   "source": [
    "# result\n",
    "# _, _, _, _, blah, error_rates, _ = run(one_hot_predictions)\n",
    "\n"
   ]
  },
  {
   "cell_type": "code",
   "execution_count": 12,
   "metadata": {},
   "outputs": [],
   "source": [
    "import importlib\n",
    "import dawid_skene\n",
    "importlib.reload(dawid_skene)\n",
    "from dawid_skene import run"
   ]
  },
  {
   "cell_type": "code",
   "execution_count": 8,
   "metadata": {},
   "outputs": [],
   "source": [
    "import pickle\n",
    "# with open('kendalls_labeled.pkl', 'rb') as f:\n",
    "#     kendalls_labeled = pickle.load(f)\n",
    "\n",
    "# with open('spearmans_labeled.pkl', 'rb') as f:\n",
    "#     spearmans_labeled = pickle.load(f)\n",
    "\n",
    "\n",
    "# spearmans_labeled\n",
    "# my_dict"
   ]
  },
  {
   "cell_type": "code",
   "execution_count": 9,
   "metadata": {},
   "outputs": [
    {
     "name": "stdout",
     "output_type": "stream",
     "text": [
      "10 0\n"
     ]
    },
    {
     "name": "stderr",
     "output_type": "stream",
     "text": [
      "Warmup:   0%|          | 0/600 [00:00, ?it/s]"
     ]
    },
    {
     "name": "stderr",
     "output_type": "stream",
     "text": [
      "Sample: 100%|██████████| 600/600 [00:38, 15.45it/s, step size=5.69e-01, acc. prob=0.871]\n"
     ]
    },
    {
     "name": "stdout",
     "output_type": "stream",
     "text": [
      "[0.635, 0.698, 0.753, 0.66, 0.73] tensor([0.6578, 0.7836, 0.8934, 0.7230, 0.8496])\n",
      "Labeled:  10 0.9999999999999999 0.9999999999999999\n",
      "50 0\n"
     ]
    },
    {
     "name": "stderr",
     "output_type": "stream",
     "text": [
      "Sample: 100%|██████████| 600/600 [00:42, 14.21it/s, step size=4.63e-01, acc. prob=0.921]\n"
     ]
    },
    {
     "name": "stdout",
     "output_type": "stream",
     "text": [
      "[0.673, 0.507, 0.628, 0.507, 0.696] tensor([0.8442, 0.6013, 0.7263, 0.5725, 0.8217])\n",
      "Labeled:  50 0.8720815992723809 0.7378647873726218\n",
      "100 0\n"
     ]
    },
    {
     "name": "stderr",
     "output_type": "stream",
     "text": [
      "Sample: 100%|██████████| 600/600 [00:41, 14.44it/s, step size=5.12e-01, acc. prob=0.884]\n"
     ]
    },
    {
     "name": "stdout",
     "output_type": "stream",
     "text": [
      "[0.678, 0.674, 0.543, 0.733, 0.593] tensor([0.7345, 0.7555, 0.5299, 0.8695, 0.5799])\n",
      "Labeled:  100 0.8999999999999998 0.7999999999999999\n",
      "500 0\n"
     ]
    },
    {
     "name": "stderr",
     "output_type": "stream",
     "text": [
      "Sample: 100%|██████████| 600/600 [00:36, 16.23it/s, step size=6.13e-01, acc. prob=0.890]\n"
     ]
    },
    {
     "name": "stdout",
     "output_type": "stream",
     "text": [
      "[0.657, 0.61, 0.694, 0.656, 0.703] tensor([0.6884, 0.6433, 0.7476, 0.6655, 0.7250])\n",
      "Labeled:  500 0.8999999999999998 0.7999999999999999\n",
      "10 1\n"
     ]
    },
    {
     "name": "stderr",
     "output_type": "stream",
     "text": [
      "Sample: 100%|██████████| 600/600 [00:49, 12.20it/s, step size=4.54e-01, acc. prob=0.895]\n"
     ]
    },
    {
     "name": "stdout",
     "output_type": "stream",
     "text": [
      "[0.669, 0.615, 0.715, 0.644, 0.676] tensor([0.7028, 0.7396, 0.8699, 0.7259, 0.7491])\n",
      "Labeled:  10 0.6 0.39999999999999997\n",
      "50 1\n"
     ]
    },
    {
     "name": "stderr",
     "output_type": "stream",
     "text": [
      "Sample: 100%|██████████| 600/600 [00:46, 12.86it/s, step size=4.44e-01, acc. prob=0.905]\n"
     ]
    },
    {
     "name": "stdout",
     "output_type": "stream",
     "text": [
      "[0.632, 0.533, 0.597, 0.636, 0.567] tensor([0.7058, 0.5940, 0.7287, 0.7392, 0.6391])\n",
      "Labeled:  50 0.8999999999999998 0.7999999999999999\n",
      "100 1\n"
     ]
    },
    {
     "name": "stderr",
     "output_type": "stream",
     "text": [
      "Sample: 100%|██████████| 600/600 [00:42, 14.25it/s, step size=5.58e-01, acc. prob=0.905]\n"
     ]
    },
    {
     "name": "stdout",
     "output_type": "stream",
     "text": [
      "[0.68, 0.649, 0.782, 0.553, 0.651] tensor([0.8224, 0.8205, 0.7298, 0.5814, 0.7357])\n",
      "Labeled:  100 0.3 0.19999999999999998\n",
      "500 1\n"
     ]
    },
    {
     "name": "stderr",
     "output_type": "stream",
     "text": [
      "Sample: 100%|██████████| 600/600 [00:35, 16.76it/s, step size=6.27e-01, acc. prob=0.897]\n"
     ]
    },
    {
     "name": "stdout",
     "output_type": "stream",
     "text": [
      "[0.746, 0.712, 0.825, 0.639, 0.818] tensor([0.7964, 0.7469, 0.8384, 0.6614, 0.8534])\n",
      "Labeled:  500 0.8999999999999998 0.7999999999999999\n",
      "10 2\n"
     ]
    },
    {
     "name": "stderr",
     "output_type": "stream",
     "text": [
      "Sample: 100%|██████████| 600/600 [00:40, 14.91it/s, step size=5.43e-01, acc. prob=0.890]\n"
     ]
    },
    {
     "name": "stdout",
     "output_type": "stream",
     "text": [
      "[0.648, 0.727, 0.658, 0.689, 0.671] tensor([0.6239, 0.8959, 0.7710, 0.7164, 0.7897])\n",
      "Labeled:  10 0.7 0.6\n",
      "50 2\n"
     ]
    },
    {
     "name": "stderr",
     "output_type": "stream",
     "text": [
      "Sample: 100%|██████████| 600/600 [00:38, 15.43it/s, step size=5.15e-01, acc. prob=0.908]\n"
     ]
    },
    {
     "name": "stdout",
     "output_type": "stream",
     "text": [
      "[0.779, 0.744, 0.662, 0.79, 0.752] tensor([0.8432, 0.8248, 0.7130, 0.8550, 0.8572])\n",
      "Labeled:  50 0.7 0.6\n",
      "100 2\n"
     ]
    },
    {
     "name": "stderr",
     "output_type": "stream",
     "text": [
      "Sample: 100%|██████████| 600/600 [00:47, 12.57it/s, step size=5.23e-01, acc. prob=0.914]\n"
     ]
    },
    {
     "name": "stdout",
     "output_type": "stream",
     "text": [
      "[0.672, 0.645, 0.653, 0.598, 0.635] tensor([0.8543, 0.6763, 0.5721, 0.5303, 0.8034])\n",
      "Labeled:  100 0.6 0.39999999999999997\n",
      "500 2\n"
     ]
    },
    {
     "name": "stderr",
     "output_type": "stream",
     "text": [
      "Sample: 100%|██████████| 600/600 [00:41, 14.61it/s, step size=6.55e-01, acc. prob=0.900]\n"
     ]
    },
    {
     "name": "stdout",
     "output_type": "stream",
     "text": [
      "[0.766, 0.787, 0.758, 0.751, 0.541] tensor([0.8171, 0.8517, 0.7899, 0.7830, 0.5609])\n",
      "Labeled:  500 0.9999999999999999 0.9999999999999999\n",
      "10 3\n"
     ]
    },
    {
     "name": "stderr",
     "output_type": "stream",
     "text": [
      "Sample: 100%|██████████| 600/600 [00:43, 13.91it/s, step size=5.89e-01, acc. prob=0.892]\n"
     ]
    },
    {
     "name": "stdout",
     "output_type": "stream",
     "text": [
      "[0.535, 0.542, 0.577, 0.515, 0.539] tensor([0.7782, 0.7752, 0.8446, 0.9137, 0.6875])\n",
      "Labeled:  10 -0.3 -0.19999999999999998\n",
      "50 3\n"
     ]
    },
    {
     "name": "stderr",
     "output_type": "stream",
     "text": [
      "Sample: 100%|██████████| 600/600 [00:41, 14.29it/s, step size=5.89e-01, acc. prob=0.911]\n"
     ]
    },
    {
     "name": "stdout",
     "output_type": "stream",
     "text": [
      "[0.439, 0.436, 0.6, 0.625, 0.624] tensor([0.7810, 0.7418, 0.5684, 0.8926, 0.8142])\n",
      "Labeled:  50 0.7 0.6\n",
      "100 3\n"
     ]
    },
    {
     "name": "stderr",
     "output_type": "stream",
     "text": [
      "Sample: 100%|██████████| 600/600 [00:38, 15.55it/s, step size=7.00e-01, acc. prob=0.851]\n"
     ]
    },
    {
     "name": "stdout",
     "output_type": "stream",
     "text": [
      "[0.457, 0.57, 0.587, 0.622, 0.616] tensor([0.6426, 0.8013, 0.7545, 0.8351, 0.5972])\n",
      "Labeled:  100 0.3 0.19999999999999998\n",
      "500 3\n"
     ]
    },
    {
     "name": "stderr",
     "output_type": "stream",
     "text": [
      "Sample: 100%|██████████| 600/600 [00:36, 16.25it/s, step size=6.83e-01, acc. prob=0.879]\n"
     ]
    },
    {
     "name": "stdout",
     "output_type": "stream",
     "text": [
      "[0.655, 0.645, 0.583, 0.519, 0.693] tensor([0.7214, 0.7238, 0.6345, 0.5328, 0.7710])\n",
      "Labeled:  500 0.8999999999999998 0.7999999999999999\n",
      "10 4\n"
     ]
    },
    {
     "name": "stderr",
     "output_type": "stream",
     "text": [
      "Sample: 100%|██████████| 600/600 [00:40, 14.71it/s, step size=6.38e-01, acc. prob=0.832]\n"
     ]
    },
    {
     "name": "stdout",
     "output_type": "stream",
     "text": [
      "[0.684, 0.715, 0.671, 0.662, 0.698] tensor([0.7335, 0.8041, 0.8506, 0.6792, 0.8620])\n",
      "Labeled:  10 0.49999999999999994 0.39999999999999997\n",
      "50 4\n"
     ]
    },
    {
     "name": "stderr",
     "output_type": "stream",
     "text": [
      "Sample: 100%|██████████| 600/600 [00:38, 15.62it/s, step size=6.23e-01, acc. prob=0.854]\n"
     ]
    },
    {
     "name": "stdout",
     "output_type": "stream",
     "text": [
      "[0.72, 0.542, 0.585, 0.664, 0.707] tensor([0.8415, 0.5350, 0.5939, 0.7994, 0.8717])\n",
      "Labeled:  50 0.8999999999999998 0.7999999999999999\n",
      "100 4\n"
     ]
    },
    {
     "name": "stderr",
     "output_type": "stream",
     "text": [
      "Sample: 100%|██████████| 600/600 [00:40, 14.77it/s, step size=4.94e-01, acc. prob=0.913]\n"
     ]
    },
    {
     "name": "stdout",
     "output_type": "stream",
     "text": [
      "[0.588, 0.612, 0.622, 0.567, 0.642] tensor([0.6411, 0.8231, 0.7908, 0.7581, 0.6679])\n",
      "Labeled:  100 0.09999999999999999 0.0\n",
      "500 4\n"
     ]
    },
    {
     "name": "stderr",
     "output_type": "stream",
     "text": [
      "Sample: 100%|██████████| 600/600 [00:35, 17.00it/s, step size=6.36e-01, acc. prob=0.896]\n"
     ]
    },
    {
     "name": "stdout",
     "output_type": "stream",
     "text": [
      "[0.526, 0.734, 0.768, 0.754, 0.655] tensor([0.5204, 0.7825, 0.8394, 0.8168, 0.6583])\n",
      "Labeled:  500 0.9999999999999999 0.9999999999999999\n",
      "10 5\n"
     ]
    },
    {
     "name": "stderr",
     "output_type": "stream",
     "text": [
      "Sample: 100%|██████████| 600/600 [01:27,  6.83it/s, step size=2.04e-01, acc. prob=0.938]\n"
     ]
    },
    {
     "name": "stdout",
     "output_type": "stream",
     "text": [
      "[0.502, 0.453, 0.644, 0.5, 0.53] tensor([0.5269, 0.8854, 0.6513, 0.6726, 0.5200])\n",
      "Labeled:  10 -0.7 -0.6\n",
      "50 5\n"
     ]
    },
    {
     "name": "stderr",
     "output_type": "stream",
     "text": [
      "Sample: 100%|██████████| 600/600 [00:38, 15.62it/s, step size=5.86e-01, acc. prob=0.902]\n"
     ]
    },
    {
     "name": "stdout",
     "output_type": "stream",
     "text": [
      "[0.689, 0.771, 0.709, 0.699, 0.667] tensor([0.7892, 0.8328, 0.8002, 0.7516, 0.6091])\n",
      "Labeled:  50 0.8999999999999998 0.7999999999999999\n",
      "100 5\n"
     ]
    },
    {
     "name": "stderr",
     "output_type": "stream",
     "text": [
      "Sample: 100%|██████████| 600/600 [00:41, 14.58it/s, step size=5.13e-01, acc. prob=0.881]\n"
     ]
    },
    {
     "name": "stdout",
     "output_type": "stream",
     "text": [
      "[0.607, 0.579, 0.552, 0.605, 0.575] tensor([0.6509, 0.5384, 0.7750, 0.5200, 0.7815])\n",
      "Labeled:  100 -0.6 -0.39999999999999997\n",
      "500 5\n"
     ]
    },
    {
     "name": "stderr",
     "output_type": "stream",
     "text": [
      "Sample: 100%|██████████| 600/600 [00:36, 16.64it/s, step size=6.28e-01, acc. prob=0.877]\n"
     ]
    },
    {
     "name": "stdout",
     "output_type": "stream",
     "text": [
      "[0.758, 0.639, 0.743, 0.714, 0.77] tensor([0.7966, 0.6580, 0.7735, 0.7708, 0.8354])\n",
      "Labeled:  500 0.9999999999999999 0.9999999999999999\n",
      "10 6\n"
     ]
    },
    {
     "name": "stderr",
     "output_type": "stream",
     "text": [
      "Sample: 100%|██████████| 600/600 [02:00,  4.96it/s, step size=1.95e-01, acc. prob=0.430]\n"
     ]
    },
    {
     "name": "stdout",
     "output_type": "stream",
     "text": [
      "[0.568, 0.617, 0.636, 0.595, 0.539] tensor([0.5328, 0.8972, 0.6159, 0.6912, 0.5392])\n",
      "Labeled:  10 0.6 0.39999999999999997\n",
      "50 6\n"
     ]
    },
    {
     "name": "stderr",
     "output_type": "stream",
     "text": [
      "Sample: 100%|██████████| 600/600 [00:37, 16.13it/s, step size=5.88e-01, acc. prob=0.892]\n"
     ]
    },
    {
     "name": "stdout",
     "output_type": "stream",
     "text": [
      "[0.629, 0.632, 0.603, 0.643, 0.639] tensor([0.5394, 0.8268, 0.8309, 0.5770, 0.8338])\n",
      "Labeled:  50 0.0 0.0\n",
      "100 6\n"
     ]
    },
    {
     "name": "stderr",
     "output_type": "stream",
     "text": [
      "Sample: 100%|██████████| 600/600 [00:37, 15.82it/s, step size=6.89e-01, acc. prob=0.876]\n"
     ]
    },
    {
     "name": "stdout",
     "output_type": "stream",
     "text": [
      "[0.78, 0.763, 0.705, 0.759, 0.697] tensor([0.8145, 0.8227, 0.7082, 0.7693, 0.6505])\n",
      "Labeled:  100 0.8999999999999998 0.7999999999999999\n",
      "500 6\n"
     ]
    },
    {
     "name": "stderr",
     "output_type": "stream",
     "text": [
      "Sample: 100%|██████████| 600/600 [00:37, 15.91it/s, step size=5.89e-01, acc. prob=0.916]\n"
     ]
    },
    {
     "name": "stdout",
     "output_type": "stream",
     "text": [
      "[0.703, 0.712, 0.548, 0.676, 0.749] tensor([0.7115, 0.7821, 0.5301, 0.7354, 0.7884])\n",
      "Labeled:  500 0.8999999999999998 0.7999999999999999\n",
      "10 7\n"
     ]
    },
    {
     "name": "stderr",
     "output_type": "stream",
     "text": [
      "Sample: 100%|██████████| 600/600 [00:44, 13.40it/s, step size=4.58e-01, acc. prob=0.902]\n"
     ]
    },
    {
     "name": "stdout",
     "output_type": "stream",
     "text": [
      "[0.676, 0.677, 0.695, 0.714, 0.544] tensor([0.7996, 0.7413, 0.7390, 0.8575, 0.5372])\n",
      "Labeled:  10 0.6 0.39999999999999997\n",
      "50 7\n"
     ]
    },
    {
     "name": "stderr",
     "output_type": "stream",
     "text": [
      "Sample: 100%|██████████| 600/600 [00:40, 14.99it/s, step size=5.51e-01, acc. prob=0.869]\n"
     ]
    },
    {
     "name": "stdout",
     "output_type": "stream",
     "text": [
      "[0.735, 0.614, 0.673, 0.578, 0.634] tensor([0.7512, 0.8030, 0.5499, 0.5995, 0.7728])\n",
      "Labeled:  50 -0.19999999999999998 -0.19999999999999998\n",
      "100 7\n"
     ]
    },
    {
     "name": "stderr",
     "output_type": "stream",
     "text": [
      "Sample: 100%|██████████| 600/600 [00:40, 14.82it/s, step size=5.97e-01, acc. prob=0.910]\n"
     ]
    },
    {
     "name": "stdout",
     "output_type": "stream",
     "text": [
      "[0.667, 0.712, 0.726, 0.719, 0.757] tensor([0.6737, 0.6793, 0.8436, 0.8496, 0.8511])\n",
      "Labeled:  100 0.8999999999999998 0.7999999999999999\n",
      "500 7\n"
     ]
    },
    {
     "name": "stderr",
     "output_type": "stream",
     "text": [
      "Sample: 100%|██████████| 600/600 [00:40, 14.92it/s, step size=5.64e-01, acc. prob=0.910]\n"
     ]
    },
    {
     "name": "stdout",
     "output_type": "stream",
     "text": [
      "[0.586, 0.663, 0.634, 0.773, 0.643] tensor([0.5497, 0.7189, 0.6545, 0.7849, 0.6943])\n",
      "Labeled:  500 0.9999999999999999 0.9999999999999999\n",
      "10 8\n"
     ]
    },
    {
     "name": "stderr",
     "output_type": "stream",
     "text": [
      "Sample: 100%|██████████| 600/600 [00:42, 14.24it/s, step size=5.92e-01, acc. prob=0.878]\n"
     ]
    },
    {
     "name": "stdout",
     "output_type": "stream",
     "text": [
      "[0.682, 0.725, 0.66, 0.719, 0.685] tensor([0.7563, 0.8096, 0.8517, 0.8862, 0.6065])\n",
      "Labeled:  10 0.09999999999999999 0.0\n",
      "50 8\n"
     ]
    },
    {
     "name": "stderr",
     "output_type": "stream",
     "text": [
      "Sample: 100%|██████████| 600/600 [00:50, 11.93it/s, step size=4.01e-01, acc. prob=0.924]\n"
     ]
    },
    {
     "name": "stdout",
     "output_type": "stream",
     "text": [
      "[0.548, 0.497, 0.508, 0.633, 0.597] tensor([0.5291, 0.5891, 0.6729, 0.5869, 0.8911])\n",
      "Labeled:  50 -0.09999999999999999 0.0\n",
      "100 8\n"
     ]
    },
    {
     "name": "stderr",
     "output_type": "stream",
     "text": [
      "Sample: 100%|██████████| 600/600 [00:46, 12.78it/s, step size=5.72e-01, acc. prob=0.886]\n"
     ]
    },
    {
     "name": "stdout",
     "output_type": "stream",
     "text": [
      "[0.677, 0.644, 0.636, 0.67, 0.587] tensor([0.7262, 0.7846, 0.7859, 0.7662, 0.5467])\n",
      "Labeled:  100 0.0 -0.19999999999999998\n",
      "500 8\n"
     ]
    },
    {
     "name": "stderr",
     "output_type": "stream",
     "text": [
      "Sample: 100%|██████████| 600/600 [00:37, 15.90it/s, step size=6.60e-01, acc. prob=0.882]\n"
     ]
    },
    {
     "name": "stdout",
     "output_type": "stream",
     "text": [
      "[0.478, 0.657, 0.72, 0.604, 0.552] tensor([0.5260, 0.6867, 0.7455, 0.6484, 0.5930])\n",
      "Labeled:  500 0.9999999999999999 0.9999999999999999\n",
      "10 9\n"
     ]
    },
    {
     "name": "stderr",
     "output_type": "stream",
     "text": [
      "Sample: 100%|██████████| 600/600 [00:58, 10.32it/s, step size=3.66e-01, acc. prob=0.914]\n"
     ]
    },
    {
     "name": "stdout",
     "output_type": "stream",
     "text": [
      "[0.488, 0.475, 0.526, 0.532, 0.497] tensor([0.6876, 0.7875, 0.6715, 0.5496, 0.6933])\n",
      "Labeled:  10 -0.8999999999999998 -0.7999999999999999\n",
      "50 9\n"
     ]
    },
    {
     "name": "stderr",
     "output_type": "stream",
     "text": [
      "Sample: 100%|██████████| 600/600 [00:39, 15.14it/s, step size=5.38e-01, acc. prob=0.907]\n"
     ]
    },
    {
     "name": "stdout",
     "output_type": "stream",
     "text": [
      "[0.713, 0.787, 0.664, 0.761, 0.611] tensor([0.7570, 0.7594, 0.7431, 0.8096, 0.6310])\n",
      "Labeled:  50 0.8999999999999998 0.7999999999999999\n",
      "100 9\n"
     ]
    },
    {
     "name": "stderr",
     "output_type": "stream",
     "text": [
      "Sample: 100%|██████████| 600/600 [00:45, 13.17it/s, step size=5.17e-01, acc. prob=0.884]\n"
     ]
    },
    {
     "name": "stdout",
     "output_type": "stream",
     "text": [
      "[0.53, 0.571, 0.527, 0.558, 0.524] tensor([0.5527, 0.5607, 0.7124, 0.7023, 0.6814])\n",
      "Labeled:  100 -0.3 -0.19999999999999998\n",
      "500 9\n"
     ]
    },
    {
     "name": "stderr",
     "output_type": "stream",
     "text": [
      "Sample: 100%|██████████| 600/600 [00:37, 16.21it/s, step size=6.06e-01, acc. prob=0.884]\n"
     ]
    },
    {
     "name": "stdout",
     "output_type": "stream",
     "text": [
      "[0.674, 0.692, 0.697, 0.668, 0.645] tensor([0.6889, 0.7612, 0.7562, 0.7307, 0.7294])\n",
      "Labeled:  500 0.6 0.39999999999999997\n",
      "10 10\n"
     ]
    },
    {
     "name": "stderr",
     "output_type": "stream",
     "text": [
      "Sample: 100%|██████████| 600/600 [00:41, 14.57it/s, step size=5.32e-01, acc. prob=0.906]\n"
     ]
    },
    {
     "name": "stdout",
     "output_type": "stream",
     "text": [
      "[0.615, 0.592, 0.646, 0.623, 0.627] tensor([0.7935, 0.6545, 0.7277, 0.7773, 0.8539])\n",
      "Labeled:  10 0.3 0.19999999999999998\n",
      "50 10\n"
     ]
    },
    {
     "name": "stderr",
     "output_type": "stream",
     "text": [
      "Sample: 100%|██████████| 600/600 [00:42, 14.28it/s, step size=5.41e-01, acc. prob=0.885]\n"
     ]
    },
    {
     "name": "stdout",
     "output_type": "stream",
     "text": [
      "[0.549, 0.649, 0.623, 0.584, 0.679] tensor([0.6350, 0.7042, 0.6941, 0.6885, 0.8885])\n",
      "Labeled:  50 0.9999999999999999 0.9999999999999999\n",
      "100 10\n"
     ]
    },
    {
     "name": "stderr",
     "output_type": "stream",
     "text": [
      "Sample: 100%|██████████| 600/600 [00:38, 15.44it/s, step size=5.93e-01, acc. prob=0.898]\n"
     ]
    },
    {
     "name": "stdout",
     "output_type": "stream",
     "text": [
      "[0.639, 0.634, 0.5, 0.582, 0.419] tensor([0.6887, 0.7686, 0.6094, 0.6514, 0.7674])\n",
      "Labeled:  100 0.19999999999999998 0.19999999999999998\n",
      "500 10\n"
     ]
    },
    {
     "name": "stderr",
     "output_type": "stream",
     "text": [
      "Sample: 100%|██████████| 600/600 [00:36, 16.40it/s, step size=7.20e-01, acc. prob=0.862]\n"
     ]
    },
    {
     "name": "stdout",
     "output_type": "stream",
     "text": [
      "[0.71, 0.637, 0.625, 0.704, 0.7] tensor([0.7803, 0.7252, 0.6878, 0.6649, 0.7331])\n",
      "Labeled:  500 0.39999999999999997 0.39999999999999997\n",
      "10 11\n"
     ]
    },
    {
     "name": "stderr",
     "output_type": "stream",
     "text": [
      "Sample: 100%|██████████| 600/600 [00:46, 12.99it/s, step size=4.95e-01, acc. prob=0.880]\n"
     ]
    },
    {
     "name": "stdout",
     "output_type": "stream",
     "text": [
      "[0.576, 0.5, 0.493, 0.653, 0.728] tensor([0.8355, 0.7860, 0.7814, 0.5750, 0.5570])\n",
      "Labeled:  10 -0.6 -0.39999999999999997\n",
      "50 11\n"
     ]
    },
    {
     "name": "stderr",
     "output_type": "stream",
     "text": [
      "Sample: 100%|██████████| 600/600 [00:38, 15.76it/s, step size=6.38e-01, acc. prob=0.874]\n"
     ]
    },
    {
     "name": "stdout",
     "output_type": "stream",
     "text": [
      "[0.7, 0.673, 0.657, 0.625, 0.732] tensor([0.8048, 0.7024, 0.7201, 0.5941, 0.8318])\n",
      "Labeled:  50 0.8999999999999998 0.7999999999999999\n",
      "100 11\n"
     ]
    },
    {
     "name": "stderr",
     "output_type": "stream",
     "text": [
      "Sample: 100%|██████████| 600/600 [00:40, 14.97it/s, step size=6.07e-01, acc. prob=0.886]\n"
     ]
    },
    {
     "name": "stdout",
     "output_type": "stream",
     "text": [
      "[0.651, 0.687, 0.649, 0.625, 0.644] tensor([0.8233, 0.8647, 0.7719, 0.7637, 0.5846])\n",
      "Labeled:  100 0.8999999999999998 0.7999999999999999\n",
      "500 11\n"
     ]
    },
    {
     "name": "stderr",
     "output_type": "stream",
     "text": [
      "Sample: 100%|██████████| 600/600 [00:37, 15.81it/s, step size=7.12e-01, acc. prob=0.873]\n"
     ]
    },
    {
     "name": "stdout",
     "output_type": "stream",
     "text": [
      "[0.714, 0.672, 0.736, 0.702, 0.74] tensor([0.7859, 0.7472, 0.7701, 0.7221, 0.7341])\n",
      "Labeled:  500 0.09999999999999999 0.0\n",
      "10 12\n"
     ]
    },
    {
     "name": "stderr",
     "output_type": "stream",
     "text": [
      "Sample: 100%|██████████| 600/600 [00:38, 15.52it/s, step size=5.86e-01, acc. prob=0.873]\n"
     ]
    },
    {
     "name": "stdout",
     "output_type": "stream",
     "text": [
      "[0.725, 0.764, 0.715, 0.723, 0.683] tensor([0.8104, 0.8434, 0.8529, 0.6929, 0.7990])\n",
      "Labeled:  10 0.19999999999999998 0.19999999999999998\n",
      "50 12\n"
     ]
    },
    {
     "name": "stderr",
     "output_type": "stream",
     "text": [
      "Sample: 100%|██████████| 600/600 [00:39, 15.27it/s, step size=5.42e-01, acc. prob=0.897]\n"
     ]
    },
    {
     "name": "stdout",
     "output_type": "stream",
     "text": [
      "[0.618, 0.704, 0.71, 0.675, 0.659] tensor([0.5672, 0.8532, 0.8310, 0.7191, 0.7937])\n",
      "Labeled:  50 0.7999999999999999 0.6\n",
      "100 12\n"
     ]
    },
    {
     "name": "stderr",
     "output_type": "stream",
     "text": [
      "Sample: 100%|██████████| 600/600 [00:40, 14.86it/s, step size=7.22e-01, acc. prob=0.840]\n"
     ]
    },
    {
     "name": "stdout",
     "output_type": "stream",
     "text": [
      "[0.487, 0.603, 0.61, 0.565, 0.643] tensor([0.5212, 0.8032, 0.7539, 0.7783, 0.8460])\n",
      "Labeled:  100 0.7 0.6\n",
      "500 12\n"
     ]
    },
    {
     "name": "stderr",
     "output_type": "stream",
     "text": [
      "Sample: 100%|██████████| 600/600 [00:36, 16.27it/s, step size=6.55e-01, acc. prob=0.898]\n"
     ]
    },
    {
     "name": "stdout",
     "output_type": "stream",
     "text": [
      "[0.671, 0.55, 0.679, 0.554, 0.609] tensor([0.7162, 0.5396, 0.7452, 0.5375, 0.6612])\n",
      "Labeled:  500 0.8999999999999998 0.7999999999999999\n",
      "10 13\n"
     ]
    },
    {
     "name": "stderr",
     "output_type": "stream",
     "text": [
      "Sample: 100%|██████████| 600/600 [00:45, 13.07it/s, step size=5.11e-01, acc. prob=0.903]\n"
     ]
    },
    {
     "name": "stdout",
     "output_type": "stream",
     "text": [
      "[0.731, 0.64, 0.712, 0.635, 0.5] tensor([0.9044, 0.6750, 0.8358, 0.6718, 0.5181])\n",
      "Labeled:  10 0.9999999999999999 0.9999999999999999\n",
      "50 13\n"
     ]
    },
    {
     "name": "stderr",
     "output_type": "stream",
     "text": [
      "Sample: 100%|██████████| 600/600 [00:47, 12.68it/s, step size=6.07e-01, acc. prob=0.890]\n"
     ]
    },
    {
     "name": "stdout",
     "output_type": "stream",
     "text": [
      "[0.554, 0.419, 0.639, 0.648, 0.624] tensor([0.6428, 0.7317, 0.8756, 0.8194, 0.7754])\n",
      "Labeled:  50 0.7999999999999999 0.6\n",
      "100 13\n"
     ]
    },
    {
     "name": "stderr",
     "output_type": "stream",
     "text": [
      "Sample: 100%|██████████| 600/600 [00:42, 14.02it/s, step size=5.12e-01, acc. prob=0.907]\n"
     ]
    },
    {
     "name": "stdout",
     "output_type": "stream",
     "text": [
      "[0.705, 0.669, 0.633, 0.651, 0.652] tensor([0.7448, 0.6992, 0.6274, 0.6639, 0.6817])\n",
      "Labeled:  100 0.9999999999999999 0.9999999999999999\n",
      "500 13\n"
     ]
    },
    {
     "name": "stderr",
     "output_type": "stream",
     "text": [
      "Sample: 100%|██████████| 600/600 [00:39, 15.32it/s, step size=6.57e-01, acc. prob=0.907]\n"
     ]
    },
    {
     "name": "stdout",
     "output_type": "stream",
     "text": [
      "[0.784, 0.797, 0.678, 0.743, 0.8] tensor([0.8164, 0.8405, 0.7252, 0.8069, 0.8618])\n",
      "Labeled:  500 0.9999999999999999 0.9999999999999999\n",
      "10 14\n"
     ]
    },
    {
     "name": "stderr",
     "output_type": "stream",
     "text": [
      "Sample: 100%|██████████| 600/600 [01:05,  9.20it/s, step size=3.40e-01, acc. prob=0.899]\n"
     ]
    },
    {
     "name": "stdout",
     "output_type": "stream",
     "text": [
      "[0.643, 0.582, 0.549, 0.628, 0.598] tensor([0.8365, 0.6024, 0.6212, 0.5222, 0.8067])\n",
      "Labeled:  10 0.3 0.19999999999999998\n",
      "50 14\n"
     ]
    },
    {
     "name": "stderr",
     "output_type": "stream",
     "text": [
      "Sample: 100%|██████████| 600/600 [00:40, 14.87it/s, step size=4.94e-01, acc. prob=0.914]\n"
     ]
    },
    {
     "name": "stdout",
     "output_type": "stream",
     "text": [
      "[0.692, 0.657, 0.704, 0.63, 0.695] tensor([0.7365, 0.6965, 0.7517, 0.6616, 0.7676])\n",
      "Labeled:  50 0.8999999999999998 0.7999999999999999\n",
      "100 14\n"
     ]
    },
    {
     "name": "stderr",
     "output_type": "stream",
     "text": [
      "Sample: 100%|██████████| 600/600 [00:38, 15.67it/s, step size=6.18e-01, acc. prob=0.896]\n"
     ]
    },
    {
     "name": "stdout",
     "output_type": "stream",
     "text": [
      "[0.743, 0.734, 0.765, 0.776, 0.73] tensor([0.8295, 0.8411, 0.6716, 0.7445, 0.8364])\n",
      "Labeled:  100 -0.7999999999999999 -0.6\n",
      "500 14\n"
     ]
    },
    {
     "name": "stderr",
     "output_type": "stream",
     "text": [
      "Sample: 100%|██████████| 600/600 [00:35, 16.95it/s, step size=6.96e-01, acc. prob=0.867]\n"
     ]
    },
    {
     "name": "stdout",
     "output_type": "stream",
     "text": [
      "[0.594, 0.614, 0.661, 0.565, 0.577] tensor([0.6109, 0.7212, 0.7620, 0.6649, 0.6297])\n",
      "Labeled:  500 0.6 0.39999999999999997\n",
      "10 15\n"
     ]
    },
    {
     "name": "stderr",
     "output_type": "stream",
     "text": [
      "Sample: 100%|██████████| 600/600 [00:51, 11.60it/s, step size=4.15e-01, acc. prob=0.900]\n"
     ]
    },
    {
     "name": "stdout",
     "output_type": "stream",
     "text": [
      "[0.596, 0.642, 0.698, 0.601, 0.555] tensor([0.5862, 0.8346, 0.8599, 0.5262, 0.7074])\n",
      "Labeled:  10 0.6 0.39999999999999997\n",
      "50 15\n"
     ]
    },
    {
     "name": "stderr",
     "output_type": "stream",
     "text": [
      "Sample: 100%|██████████| 600/600 [00:38, 15.52it/s, step size=5.73e-01, acc. prob=0.869]\n"
     ]
    },
    {
     "name": "stdout",
     "output_type": "stream",
     "text": [
      "[0.571, 0.739, 0.601, 0.686, 0.694] tensor([0.6751, 0.7955, 0.6469, 0.8210, 0.8288])\n",
      "Labeled:  50 0.6 0.39999999999999997\n",
      "100 15\n"
     ]
    },
    {
     "name": "stderr",
     "output_type": "stream",
     "text": [
      "Sample: 100%|██████████| 600/600 [00:38, 15.70it/s, step size=6.19e-01, acc. prob=0.868]\n"
     ]
    },
    {
     "name": "stdout",
     "output_type": "stream",
     "text": [
      "[0.72, 0.773, 0.742, 0.702, 0.723] tensor([0.7207, 0.8816, 0.8326, 0.7522, 0.7873])\n",
      "Labeled:  100 0.8999999999999998 0.7999999999999999\n",
      "500 15\n"
     ]
    },
    {
     "name": "stderr",
     "output_type": "stream",
     "text": [
      "Sample: 100%|██████████| 600/600 [00:36, 16.52it/s, step size=6.64e-01, acc. prob=0.865]\n"
     ]
    },
    {
     "name": "stdout",
     "output_type": "stream",
     "text": [
      "[0.637, 0.537, 0.775, 0.693, 0.699] tensor([0.6260, 0.5317, 0.8043, 0.7229, 0.7499])\n",
      "Labeled:  500 0.9999999999999999 0.9999999999999999\n",
      "10 16\n"
     ]
    },
    {
     "name": "stderr",
     "output_type": "stream",
     "text": [
      "Sample: 100%|██████████| 600/600 [00:50, 11.94it/s, step size=5.02e-01, acc. prob=0.864]\n"
     ]
    },
    {
     "name": "stdout",
     "output_type": "stream",
     "text": [
      "[0.617, 0.681, 0.623, 0.603, 0.624] tensor([0.6851, 0.8432, 0.7537, 0.7242, 0.7474])\n",
      "Labeled:  10 0.7999999999999999 0.6\n",
      "50 16\n"
     ]
    },
    {
     "name": "stderr",
     "output_type": "stream",
     "text": [
      "Sample: 100%|██████████| 600/600 [00:41, 14.50it/s, step size=5.36e-01, acc. prob=0.882]\n"
     ]
    },
    {
     "name": "stdout",
     "output_type": "stream",
     "text": [
      "[0.594, 0.714, 0.613, 0.654, 0.786] tensor([0.7336, 0.8372, 0.5942, 0.7598, 0.7354])\n",
      "Labeled:  50 0.6 0.39999999999999997\n",
      "100 16\n"
     ]
    },
    {
     "name": "stderr",
     "output_type": "stream",
     "text": [
      "Sample: 100%|██████████| 600/600 [00:38, 15.65it/s, step size=5.50e-01, acc. prob=0.915]\n"
     ]
    },
    {
     "name": "stdout",
     "output_type": "stream",
     "text": [
      "[0.704, 0.714, 0.687, 0.703, 0.586] tensor([0.7284, 0.7787, 0.7824, 0.7887, 0.5413])\n",
      "Labeled:  100 0.19999999999999998 0.19999999999999998\n",
      "500 16\n"
     ]
    },
    {
     "name": "stderr",
     "output_type": "stream",
     "text": [
      "Sample: 100%|██████████| 600/600 [00:36, 16.60it/s, step size=6.11e-01, acc. prob=0.907]\n"
     ]
    },
    {
     "name": "stdout",
     "output_type": "stream",
     "text": [
      "[0.587, 0.712, 0.673, 0.675, 0.733] tensor([0.6316, 0.7577, 0.7254, 0.7392, 0.7489])\n",
      "Labeled:  500 0.8999999999999998 0.7999999999999999\n",
      "10 17\n"
     ]
    },
    {
     "name": "stderr",
     "output_type": "stream",
     "text": [
      "Sample: 100%|██████████| 600/600 [01:15,  7.94it/s, step size=2.54e-01, acc. prob=0.921]\n"
     ]
    },
    {
     "name": "stdout",
     "output_type": "stream",
     "text": [
      "[0.588, 0.495, 0.579, 0.604, 0.542] tensor([0.8142, 0.5560, 0.5709, 0.5814, 0.7210])\n",
      "Labeled:  10 0.49999999999999994 0.39999999999999997\n",
      "50 17\n"
     ]
    },
    {
     "name": "stderr",
     "output_type": "stream",
     "text": [
      "Sample: 100%|██████████| 600/600 [00:40, 14.76it/s, step size=6.26e-01, acc. prob=0.886]\n"
     ]
    },
    {
     "name": "stdout",
     "output_type": "stream",
     "text": [
      "[0.742, 0.692, 0.645, 0.726, 0.732] tensor([0.8404, 0.7724, 0.6936, 0.7464, 0.7701])\n",
      "Labeled:  50 0.7 0.6\n",
      "100 17\n"
     ]
    },
    {
     "name": "stderr",
     "output_type": "stream",
     "text": [
      "Sample: 100%|██████████| 600/600 [00:43, 13.77it/s, step size=4.70e-01, acc. prob=0.909]\n"
     ]
    },
    {
     "name": "stdout",
     "output_type": "stream",
     "text": [
      "[0.533, 0.647, 0.596, 0.643, 0.649] tensor([0.6126, 0.7538, 0.7165, 0.6963, 0.7176])\n",
      "Labeled:  100 0.7999999999999999 0.6\n",
      "500 17\n"
     ]
    },
    {
     "name": "stderr",
     "output_type": "stream",
     "text": [
      "Sample: 100%|██████████| 600/600 [00:37, 15.99it/s, step size=6.38e-01, acc. prob=0.893]\n"
     ]
    },
    {
     "name": "stdout",
     "output_type": "stream",
     "text": [
      "[0.652, 0.692, 0.716, 0.734, 0.727] tensor([0.6454, 0.7282, 0.7508, 0.7778, 0.7432])\n",
      "Labeled:  500 0.8999999999999998 0.7999999999999999\n",
      "10 18\n"
     ]
    },
    {
     "name": "stderr",
     "output_type": "stream",
     "text": [
      "Sample: 100%|██████████| 600/600 [00:44, 13.62it/s, step size=4.73e-01, acc. prob=0.920]\n"
     ]
    },
    {
     "name": "stdout",
     "output_type": "stream",
     "text": [
      "[0.544, 0.618, 0.526, 0.638, 0.402] tensor([0.6871, 0.8287, 0.6139, 0.8164, 0.7887])\n",
      "Labeled:  10 0.6 0.39999999999999997\n",
      "50 18\n"
     ]
    },
    {
     "name": "stderr",
     "output_type": "stream",
     "text": [
      "Sample: 100%|██████████| 600/600 [00:43, 13.73it/s, step size=5.66e-01, acc. prob=0.867]\n"
     ]
    },
    {
     "name": "stdout",
     "output_type": "stream",
     "text": [
      "[0.549, 0.537, 0.668, 0.703, 0.612] tensor([0.5306, 0.5838, 0.8558, 0.8543, 0.7201])\n",
      "Labeled:  50 0.7999999999999999 0.6\n",
      "100 18\n"
     ]
    },
    {
     "name": "stderr",
     "output_type": "stream",
     "text": [
      "Sample: 100%|██████████| 600/600 [00:38, 15.64it/s, step size=6.24e-01, acc. prob=0.905]\n"
     ]
    },
    {
     "name": "stdout",
     "output_type": "stream",
     "text": [
      "[0.73, 0.707, 0.712, 0.633, 0.683] tensor([0.7562, 0.7819, 0.7884, 0.5862, 0.7211])\n",
      "Labeled:  100 0.7 0.6\n",
      "500 18\n"
     ]
    },
    {
     "name": "stderr",
     "output_type": "stream",
     "text": [
      "Sample: 100%|██████████| 600/600 [00:46, 12.77it/s, step size=6.10e-01, acc. prob=0.897]\n"
     ]
    },
    {
     "name": "stdout",
     "output_type": "stream",
     "text": [
      "[0.573, 0.575, 0.627, 0.516, 0.603] tensor([0.5995, 0.5797, 0.6216, 0.5285, 0.6168])\n",
      "Labeled:  500 0.8999999999999998 0.7999999999999999\n",
      "10 19\n"
     ]
    },
    {
     "name": "stderr",
     "output_type": "stream",
     "text": [
      "Sample: 100%|██████████| 600/600 [00:41, 14.63it/s, step size=5.89e-01, acc. prob=0.891]\n"
     ]
    },
    {
     "name": "stdout",
     "output_type": "stream",
     "text": [
      "[0.76, 0.72, 0.757, 0.731, 0.776] tensor([0.7352, 0.8000, 0.8666, 0.8045, 0.8358])\n",
      "Labeled:  10 0.19999999999999998 0.19999999999999998\n",
      "50 19\n"
     ]
    },
    {
     "name": "stderr",
     "output_type": "stream",
     "text": [
      "Sample: 100%|██████████| 600/600 [00:44, 13.37it/s, step size=5.85e-01, acc. prob=0.877]\n"
     ]
    },
    {
     "name": "stdout",
     "output_type": "stream",
     "text": [
      "[0.697, 0.633, 0.688, 0.637, 0.666] tensor([0.7272, 0.6402, 0.8470, 0.7009, 0.8161])\n",
      "Labeled:  50 0.7 0.6\n",
      "100 19\n"
     ]
    },
    {
     "name": "stderr",
     "output_type": "stream",
     "text": [
      "Sample: 100%|██████████| 600/600 [00:46, 12.95it/s, step size=5.83e-01, acc. prob=0.903]\n"
     ]
    },
    {
     "name": "stdout",
     "output_type": "stream",
     "text": [
      "[0.64, 0.689, 0.753, 0.748, 0.667] tensor([0.7587, 0.8051, 0.6844, 0.8661, 0.7900])\n",
      "Labeled:  100 0.0 0.19999999999999998\n",
      "500 19\n"
     ]
    },
    {
     "name": "stderr",
     "output_type": "stream",
     "text": [
      "Sample: 100%|██████████| 600/600 [00:41, 14.51it/s, step size=6.07e-01, acc. prob=0.907]\n"
     ]
    },
    {
     "name": "stdout",
     "output_type": "stream",
     "text": [
      "[0.625, 0.658, 0.618, 0.581, 0.589] tensor([0.6499, 0.6557, 0.6392, 0.5859, 0.6043])\n",
      "Labeled:  500 0.9999999999999999 0.9999999999999999\n",
      "10 20\n"
     ]
    },
    {
     "name": "stderr",
     "output_type": "stream",
     "text": [
      "Sample: 100%|██████████| 600/600 [00:51, 11.72it/s, step size=4.63e-01, acc. prob=0.870]\n"
     ]
    },
    {
     "name": "stdout",
     "output_type": "stream",
     "text": [
      "[0.617, 0.638, 0.666, 0.675, 0.633] tensor([0.7131, 0.7009, 0.8070, 0.7341, 0.7329])\n",
      "Labeled:  10 0.6 0.39999999999999997\n",
      "50 20\n"
     ]
    },
    {
     "name": "stderr",
     "output_type": "stream",
     "text": [
      "Sample: 100%|██████████| 600/600 [00:40, 14.95it/s, step size=5.74e-01, acc. prob=0.860]\n"
     ]
    },
    {
     "name": "stdout",
     "output_type": "stream",
     "text": [
      "[0.615, 0.71, 0.695, 0.668, 0.598] tensor([0.7778, 0.6660, 0.7085, 0.7537, 0.7462])\n",
      "Labeled:  50 -0.7 -0.6\n",
      "100 20\n"
     ]
    },
    {
     "name": "stderr",
     "output_type": "stream",
     "text": [
      "Sample: 100%|██████████| 600/600 [00:42, 13.98it/s, step size=6.05e-01, acc. prob=0.893]\n"
     ]
    },
    {
     "name": "stdout",
     "output_type": "stream",
     "text": [
      "[0.623, 0.608, 0.575, 0.625, 0.602] tensor([0.8000, 0.5820, 0.5229, 0.6248, 0.8600])\n",
      "Labeled:  100 0.3 0.19999999999999998\n",
      "500 20\n"
     ]
    },
    {
     "name": "stderr",
     "output_type": "stream",
     "text": [
      "Sample: 100%|██████████| 600/600 [00:36, 16.27it/s, step size=5.82e-01, acc. prob=0.907]\n"
     ]
    },
    {
     "name": "stdout",
     "output_type": "stream",
     "text": [
      "[0.686, 0.578, 0.494, 0.688, 0.559] tensor([0.7500, 0.5896, 0.5227, 0.7460, 0.5510])\n",
      "Labeled:  500 0.8999999999999998 0.7999999999999999\n",
      "10 21\n"
     ]
    },
    {
     "name": "stderr",
     "output_type": "stream",
     "text": [
      "Sample: 100%|██████████| 600/600 [00:58, 10.32it/s, step size=3.39e-01, acc. prob=0.928]\n"
     ]
    },
    {
     "name": "stdout",
     "output_type": "stream",
     "text": [
      "[0.573, 0.574, 0.6, 0.583, 0.54] tensor([0.6547, 0.6319, 0.5633, 0.8947, 0.5502])\n",
      "Labeled:  10 0.3 0.19999999999999998\n",
      "50 21\n"
     ]
    },
    {
     "name": "stderr",
     "output_type": "stream",
     "text": [
      "Sample: 100%|██████████| 600/600 [00:42, 14.26it/s, step size=4.79e-01, acc. prob=0.911]\n"
     ]
    },
    {
     "name": "stdout",
     "output_type": "stream",
     "text": [
      "[0.444, 0.463, 0.539, 0.61, 0.598] tensor([0.6814, 0.5854, 0.8233, 0.6258, 0.7097])\n",
      "Labeled:  50 0.09999999999999999 0.0\n",
      "100 21\n"
     ]
    },
    {
     "name": "stderr",
     "output_type": "stream",
     "text": [
      "Sample: 100%|██████████| 600/600 [00:39, 15.32it/s, step size=6.64e-01, acc. prob=0.872]\n"
     ]
    },
    {
     "name": "stdout",
     "output_type": "stream",
     "text": [
      "[0.721, 0.681, 0.714, 0.7, 0.636] tensor([0.7598, 0.7616, 0.6496, 0.7992, 0.5613])\n",
      "Labeled:  100 0.19999999999999998 0.19999999999999998\n",
      "500 21\n"
     ]
    },
    {
     "name": "stderr",
     "output_type": "stream",
     "text": [
      "Sample: 100%|██████████| 600/600 [00:37, 15.97it/s, step size=6.82e-01, acc. prob=0.867]\n"
     ]
    },
    {
     "name": "stdout",
     "output_type": "stream",
     "text": [
      "[0.772, 0.705, 0.777, 0.711, 0.658] tensor([0.7765, 0.7329, 0.8207, 0.7910, 0.7247])\n",
      "Labeled:  500 0.8999999999999998 0.7999999999999999\n",
      "10 22\n"
     ]
    },
    {
     "name": "stderr",
     "output_type": "stream",
     "text": [
      "Sample: 100%|██████████| 600/600 [00:43, 13.90it/s, step size=4.83e-01, acc. prob=0.892]\n"
     ]
    },
    {
     "name": "stdout",
     "output_type": "stream",
     "text": [
      "[0.583, 0.61, 0.689, 0.648, 0.471] tensor([0.5618, 0.8811, 0.8378, 0.7709, 0.7872])\n",
      "Labeled:  10 0.3 0.19999999999999998\n",
      "50 22\n"
     ]
    },
    {
     "name": "stderr",
     "output_type": "stream",
     "text": [
      "Sample: 100%|██████████| 600/600 [00:41, 14.53it/s, step size=5.78e-01, acc. prob=0.904]\n"
     ]
    },
    {
     "name": "stdout",
     "output_type": "stream",
     "text": [
      "[0.738, 0.697, 0.6, 0.701, 0.69] tensor([0.8656, 0.6830, 0.5348, 0.8316, 0.7177])\n",
      "Labeled:  50 0.8999999999999998 0.7999999999999999\n",
      "100 22\n"
     ]
    },
    {
     "name": "stderr",
     "output_type": "stream",
     "text": [
      "Sample: 100%|██████████| 600/600 [00:38, 15.76it/s, step size=6.26e-01, acc. prob=0.875]\n"
     ]
    },
    {
     "name": "stdout",
     "output_type": "stream",
     "text": [
      "[0.697, 0.669, 0.703, 0.708, 0.713] tensor([0.8199, 0.6606, 0.7697, 0.6999, 0.8704])\n",
      "Labeled:  100 0.6 0.39999999999999997\n",
      "500 22\n"
     ]
    },
    {
     "name": "stderr",
     "output_type": "stream",
     "text": [
      "Sample: 100%|██████████| 600/600 [00:35, 16.98it/s, step size=5.91e-01, acc. prob=0.928]\n"
     ]
    },
    {
     "name": "stdout",
     "output_type": "stream",
     "text": [
      "[0.612, 0.675, 0.642, 0.68, 0.662] tensor([0.6354, 0.7095, 0.6793, 0.7434, 0.6919])\n",
      "Labeled:  500 0.9999999999999999 0.9999999999999999\n",
      "10 23\n"
     ]
    },
    {
     "name": "stderr",
     "output_type": "stream",
     "text": [
      "Warmup:   7%|▋         | 44/600 [1:08:10, 92.96s/it, step size=6.42e-02, acc. prob=0.773]\n",
      "Sample: 100%|██████████| 600/600 [00:48, 12.45it/s, step size=2.56e-01, acc. prob=0.856]\n"
     ]
    },
    {
     "name": "stdout",
     "output_type": "stream",
     "text": [
      "[0.698, 0.711, 0.676, 0.749, 0.708] tensor([0.7279, 0.7223, 0.6694, 0.8943, 0.7277])\n",
      "Labeled:  10 0.6 0.39999999999999997\n",
      "50 23\n"
     ]
    },
    {
     "name": "stderr",
     "output_type": "stream",
     "text": [
      "Sample: 100%|██████████| 600/600 [00:40, 14.92it/s, step size=5.89e-01, acc. prob=0.896]\n"
     ]
    },
    {
     "name": "stdout",
     "output_type": "stream",
     "text": [
      "[0.671, 0.607, 0.695, 0.675, 0.668] tensor([0.7952, 0.5557, 0.8212, 0.7523, 0.6954])\n",
      "Labeled:  50 0.8999999999999998 0.7999999999999999\n",
      "100 23\n"
     ]
    },
    {
     "name": "stderr",
     "output_type": "stream",
     "text": [
      "Sample: 100%|██████████| 600/600 [00:37, 16.05it/s, step size=6.03e-01, acc. prob=0.911]\n"
     ]
    },
    {
     "name": "stdout",
     "output_type": "stream",
     "text": [
      "[0.766, 0.757, 0.741, 0.732, 0.669] tensor([0.7039, 0.6880, 0.7795, 0.8029, 0.7360])\n",
      "Labeled:  100 -0.6 -0.39999999999999997\n",
      "500 23\n"
     ]
    },
    {
     "name": "stderr",
     "output_type": "stream",
     "text": [
      "Sample: 100%|██████████| 600/600 [00:36, 16.55it/s, step size=6.55e-01, acc. prob=0.881]\n"
     ]
    },
    {
     "name": "stdout",
     "output_type": "stream",
     "text": [
      "[0.719, 0.703, 0.682, 0.708, 0.658] tensor([0.7258, 0.7791, 0.7584, 0.7716, 0.7233])\n",
      "Labeled:  500 0.3 0.19999999999999998\n",
      "10 24\n"
     ]
    },
    {
     "name": "stderr",
     "output_type": "stream",
     "text": [
      "Sample: 100%|██████████| 600/600 [00:46, 12.97it/s, step size=5.20e-01, acc. prob=0.842]\n"
     ]
    },
    {
     "name": "stdout",
     "output_type": "stream",
     "text": [
      "[0.59, 0.649, 0.611, 0.641, 0.596] tensor([0.5497, 0.7986, 0.7416, 0.8612, 0.6653])\n",
      "Labeled:  10 0.8999999999999998 0.7999999999999999\n",
      "50 24\n"
     ]
    },
    {
     "name": "stderr",
     "output_type": "stream",
     "text": [
      "Sample: 100%|██████████| 600/600 [00:47, 12.71it/s, step size=5.80e-01, acc. prob=0.889]\n"
     ]
    },
    {
     "name": "stdout",
     "output_type": "stream",
     "text": [
      "[0.547, 0.674, 0.631, 0.712, 0.659] tensor([0.5218, 0.8227, 0.7827, 0.8425, 0.7988])\n",
      "Labeled:  50 0.9999999999999999 0.9999999999999999\n",
      "100 24\n"
     ]
    },
    {
     "name": "stderr",
     "output_type": "stream",
     "text": [
      "Sample: 100%|██████████| 600/600 [00:44, 13.59it/s, step size=5.23e-01, acc. prob=0.893]\n"
     ]
    },
    {
     "name": "stdout",
     "output_type": "stream",
     "text": [
      "[0.606, 0.625, 0.528, 0.539, 0.629] tensor([0.8169, 0.5597, 0.7232, 0.5597, 0.7022])\n",
      "Labeled:  100 -0.09999999999999999 0.0\n",
      "500 24\n"
     ]
    },
    {
     "name": "stderr",
     "output_type": "stream",
     "text": [
      "Sample: 100%|██████████| 600/600 [00:38, 15.44it/s, step size=6.78e-01, acc. prob=0.884]"
     ]
    },
    {
     "name": "stdout",
     "output_type": "stream",
     "text": [
      "[0.701, 0.739, 0.691, 0.737, 0.718] tensor([0.7488, 0.7666, 0.7385, 0.7730, 0.7653])\n",
      "Labeled:  500 0.8999999999999998 0.7999999999999999\n"
     ]
    },
    {
     "name": "stderr",
     "output_type": "stream",
     "text": [
      "\n"
     ]
    }
   ],
   "source": [
    "\n",
    "\n",
    "# print(spearmans_labeled)\n",
    "nsims = 25\n",
    "# labels = [5, 10, 25, 50, 100]\n",
    "\n",
    "# spearmans_unlabeled = []\n",
    "# kendalls_unlabeled = []\n",
    "\n",
    "labels = [10, 50, 100, 500]\n",
    "# spearmans_labeled = {key: [] for key in labels}\n",
    "# kendalls_labeled = {key: [] for key in labels}\n",
    "\n",
    "# spearmans_labeled = [[] for i in range(len(labels))]\n",
    "# kendalls_labeled = [[] for i in range(len(labels))]\n",
    "i = 1\n",
    "\n",
    "for sim in range(nsims):\n",
    "    for i, label in enumerate(labels):\n",
    "        print(label, sim)\n",
    "        # label = 999\n",
    "        rankings, predictions_on_N, true_y = simulate_models_and_predictions(num_models=5, N=1000, num_features=5)\n",
    "        accs_only = [tup[1] for tup in rankings]\n",
    "\n",
    "        match_rates = []\n",
    "        for i in range(predictions_on_N.shape[1]):\n",
    "            match_rate = np.mean(predictions_on_N[:, i] == true_y)\n",
    "            match_rates.append(match_rate)\n",
    "\n",
    "        N=1000\n",
    "        indices = observed_indices = torch.randperm(N)[:label]\n",
    "        # print(indices)\n",
    "\n",
    "        mask = [False for i in range(N)]\n",
    "        for index in indices:\n",
    "            mask[index] = True\n",
    "\n",
    "\n",
    "        pyro.clear_param_store()\n",
    "        logging.getLogger(\"pyro\").setLevel(logging.DEBUG)\n",
    "        nuts_kernel = NUTS(corrected_dawid_skene_model_with_observed, jit_compile=True, ignore_jit_warnings=True)\n",
    "        mcmc = MCMC(nuts_kernel, num_samples=100, warmup_steps=500)\n",
    "\n",
    "        observed_y = torch.full((N,), -1, dtype=torch.int64)\n",
    "        observed_y[indices] = torch.tensor(true_y[indices])\n",
    "        mcmc.run(torch.tensor(predictions_on_N), observed_y, torch.tensor(mask))\n",
    "\n",
    "        posterior_samples_corrected = mcmc.get_samples()\n",
    "\n",
    "        theta = posterior_samples_corrected[\"theta\"]\n",
    "        pi = posterior_samples_corrected[\"pi\"]\n",
    "        # 1. & 3. Take max values from rows 0 and 1 respectively\n",
    "        max_row_0 = torch.max(theta[:,:,0,:], dim=2)[0]  # Shape: (500, 5)\n",
    "        max_row_1 = torch.max(theta[:,:,1,:], dim=2)[0]  # Shape: (500, 5)\n",
    "\n",
    "        # 2. & 4. Multiply with pi values\n",
    "        result_row_0 = max_row_0 * pi[:,0].unsqueeze(1)  # Shape: (500, 5)\n",
    "        result_row_1 = max_row_1 * pi[:,1].unsqueeze(1)  # Shape: (500, 5)\n",
    "\n",
    "        # 5. Sum the results\n",
    "        result = result_row_0 + result_row_1  # Shape: (500, 5)\n",
    "\n",
    "        # result = final_result.mean(dim=0)\n",
    "\n",
    "        \n",
    "        # resulting_ranking = torch.argsort(result.mean(dim=0), descending=True)\n",
    "        print(match_rates, result.mean(dim=0))\n",
    "\n",
    "        sp_l = spearmanr(result.mean(dim=0), match_rates)[0]\n",
    "        kend_l = kendalltau(result.mean(dim=0), match_rates)[0]\n",
    "        print(\"Labeled: \", label, sp_l, kend_l)\n",
    "\n",
    "        spearmans_labeled[label].append(sp_l)\n",
    "        kendalls_labeled[label].append(kend_l)\n",
    "\n",
    "        # n_examples = predictions_on_N.shape[0]\n",
    "        # n_classes = 2\n",
    "        # n_models = predictions_on_N.shape[1]\n",
    "\n",
    "        # one_hot_predictions = np.zeros((n_examples, n_models, n_classes))\n",
    "\n",
    "        # # Loop over both classes\n",
    "        # # Loop over both classes\n",
    "        # for class_idx in range(n_classes):\n",
    "        #     # Loop over each model (column)\n",
    "        #     for i in range(n_models):\n",
    "        #         one_class_preds = (predictions_on_N[:,i] == class_idx).astype(int)\n",
    "        #         one_hot_predictions[np.arange(n_examples), i, class_idx] = one_class_preds\n",
    "            \n",
    "\n",
    "        # _, _, _, _, prevalence, error_rates, _ = run(one_hot_predictions)\n",
    "        # weighted_diagonal_sums = np.array([np.sum(matrix.diagonal() * prevalence)/2 for matrix in error_rates])\n",
    "        # print(weighted_diagonal_sums, match_rates)\n",
    "        # sp_u = spearmanr(weighted_diagonal_sums, match_rates)[0]\n",
    "        # kend_u = kendalltau(weighted_diagonal_sums, match_rates)[0]\n",
    "        # print(\"Unlabeled: \", sp_u, kend_u)\n",
    "        # spearmans_unlabeled.append(sp_u)\n",
    "        # kendalls_unlabeled.append(kend_u)\n",
    "\n",
    "\n",
    "# with open('kendalls_unlabeled.pkl', 'wb') as f:\n",
    "#     pickle.dump(kendalls_unlabeled, f)\n",
    "\n",
    "        # with open('kendalls_labeled.pkl', 'wb') as f:\n",
    "        #     pickle.dump(kendalls_labeled, f)\n",
    "\n",
    "# with open('spearmans_unlabeled.pkl', 'wb') as f:\n",
    "#     pickle.dump(spearmans_unlabeled, f)\n",
    "\n",
    "        # with open('spearmans_labeled.pkl', 'wb') as f:\n",
    "        #     pickle.dump(spearmans_labeled, f)\n",
    "\n",
    "\n",
    "\n",
    "\n"
   ]
  },
  {
   "cell_type": "code",
   "execution_count": 10,
   "metadata": {},
   "outputs": [
    {
     "data": {
      "image/png": "[encoded data removed]",
      "text/plain": [
       "<Figure size 1000x600 with 1 Axes>"
      ]
     },
     "metadata": {},
     "output_type": "display_data"
    }
   ],
   "source": [
    "labels = [key for key in kendalls_labeled.keys()]\n",
    "values = list(kendalls_labeled.values())\n",
    "\n",
    "# Plotting\n",
    "plt.figure(figsize=(10, 6))\n",
    "plt.boxplot(values, vert=True, patch_artist=True, labels=labels)\n",
    "plt.title(\"Box Plot\")\n",
    "plt.xlabel(\"Keys\")\n",
    "plt.ylabel(\"Values\")\n",
    "plt.grid(axis='y', linestyle='--', alpha=0.7)\n",
    "plt.show()"
   ]
  },
  {
   "cell_type": "code",
   "execution_count": 13,
   "metadata": {},
   "outputs": [
    {
     "name": "stdout",
     "output_type": "stream",
     "text": [
      "[0.4204 0.4566 0.3873 0.4539 0.4199] [0.783, 0.805, 0.709, 0.815, 0.763]\n",
      "[0.449  0.2849 0.345  0.3642 0.4091] [0.691, 0.635, 0.633, 0.658, 0.671]\n",
      "[0.3519 0.3611 0.3862 0.4051 0.4316] [0.663, 0.648, 0.7, 0.708, 0.736]\n",
      "[0.2797 0.4676 0.2816 0.4022 0.389 ] [0.637, 0.663, 0.619, 0.6, 0.666]\n",
      "[0.4417 0.3543 0.4123 0.396  0.3871] [0.751, 0.649, 0.743, 0.746, 0.733]\n",
      "[0.4189 0.3335 0.3009 0.3627 0.3673] [0.622, 0.689, 0.665, 0.556, 0.573]\n",
      "[0.1163 0.2584 0.4072 0.4744 0.2823] [0.421, 0.572, 0.676, 0.671, 0.639]\n",
      "[0.3726 0.2962 0.4987 0.2607 0.2451] [0.659, 0.653, 0.675, 0.555, 0.631]\n",
      "[0.3661 0.4243 0.348  0.3541 0.326 ] [0.666, 0.69, 0.64, 0.629, 0.609]\n",
      "[0.3659 0.3202 0.3823 0.3959 0.4294] [0.681, 0.712, 0.636, 0.653, 0.68]\n",
      "[0.3133 0.4284 0.2814 0.3468 0.4675] [0.626, 0.747, 0.537, 0.666, 0.779]\n",
      "[0.4156 0.4163 0.4186 0.3011 0.2366] [0.66, 0.649, 0.694, 0.579, 0.563]\n",
      "[0.2708 0.4389 0.3562 0.2283 0.3367] [0.597, 0.643, 0.623, 0.462, 0.625]\n",
      "[0.4322 0.4181 0.3766 0.4146 0.4009] [0.691, 0.69, 0.641, 0.676, 0.675]\n",
      "[0.3121 0.3821 0.3561 0.3813 0.4271] [0.474, 0.688, 0.534, 0.665, 0.656]\n",
      "[0.2815 0.3713 0.3652 0.4314 0.2583] [0.492, 0.602, 0.63, 0.633, 0.585]\n",
      "[0.4348 0.417  0.3804 0.3241 0.4664] [0.711, 0.748, 0.681, 0.732, 0.724]\n",
      "[0.375  0.3861 0.3904 0.4704 0.3458] [0.635, 0.775, 0.791, 0.769, 0.563]\n",
      "[0.3291 0.3593 0.3228 0.299  0.4536] [0.665, 0.646, 0.622, 0.582, 0.691]\n",
      "[0.197  0.3938 0.3621 0.3926 0.4812] [0.662, 0.519, 0.694, 0.661, 0.617]\n",
      "[0.315  0.4531 0.2249 0.4373 0.3068] [0.679, 0.627, 0.576, 0.633, 0.704]\n",
      "[0.3862 0.313  0.3949 0.3912 0.3827] [0.752, 0.697, 0.703, 0.666, 0.658]\n",
      "[0.4268 0.2663 0.4358 0.2072 0.4197] [0.733, 0.652, 0.726, 0.577, 0.718]\n",
      "[0.3022 0.3519 0.3988 0.3037 0.2485] [0.513, 0.674, 0.643, 0.602, 0.567]\n",
      "[0.3395 0.3448 0.4591 0.416  0.347 ] [0.588, 0.638, 0.706, 0.712, 0.684]\n",
      "[0.3592 0.3228 0.3734 0.3811 0.4459] [0.509, 0.604, 0.508, 0.666, 0.648]\n",
      "[0.349  0.3254 0.3703 0.4073 0.4197] [0.619, 0.631, 0.737, 0.675, 0.69]\n",
      "[0.3824 0.3703 0.3292 0.4722 0.2968] [0.502, 0.627, 0.761, 0.587, 0.746]\n",
      "[0.4038 0.4612 0.2331 0.3905 0.3853] [0.74, 0.781, 0.475, 0.706, 0.743]\n",
      "[0.3633 0.3658 0.4018 0.3774 0.3859] [0.603, 0.657, 0.646, 0.639, 0.599]\n",
      "[0.4183 0.2705 0.4297 0.4552 0.4104] [0.678, 0.637, 0.721, 0.707, 0.668]\n",
      "[0.4316 0.383  0.362  0.4069 0.3717] [0.725, 0.717, 0.695, 0.702, 0.698]\n",
      "[0.3937 0.2343 0.1988 0.3087 0.4315] [0.621, 0.599, 0.539, 0.562, 0.612]\n",
      "[0.3895 0.3326 0.2079 0.4418 0.3772] [0.707, 0.602, 0.444, 0.695, 0.65]\n",
      "[0.2525 0.3674 0.4147 0.3835 0.2744] [0.74, 0.593, 0.567, 0.505, 0.689]\n",
      "[0.3824 0.3462 0.3539 0.4515 0.2791] [0.541, 0.564, 0.53, 0.511, 0.582]\n",
      "[0.3856 0.471  0.2622 0.4077 0.2862] [0.756, 0.74, 0.608, 0.681, 0.658]\n",
      "[0.3766 0.4054 0.3575 0.4058 0.4522] [0.673, 0.735, 0.739, 0.758, 0.78]\n",
      "[0.4176 0.4304 0.4412 0.378  0.4151] [0.747, 0.754, 0.767, 0.71, 0.735]\n",
      "[0.4334 0.341  0.3893 0.2884 0.4025] [0.734, 0.72, 0.712, 0.619, 0.672]\n",
      "[0.3992 0.3643 0.4025 0.3639 0.3961] [0.726, 0.681, 0.704, 0.644, 0.69]\n",
      "[0.446  0.3817 0.2854 0.3448 0.368 ] [0.616, 0.572, 0.668, 0.542, 0.594]\n",
      "[0.3091 0.1418 0.3638 0.4304 0.4746] [0.57, 0.427, 0.702, 0.724, 0.698]\n",
      "[0.4136 0.2662 0.3835 0.3775 0.3612] [0.673, 0.519, 0.672, 0.619, 0.661]\n",
      "[0.412  0.3737 0.4242 0.4244 0.3875] [0.666, 0.716, 0.7, 0.687, 0.753]\n",
      "[0.4016 0.4055 0.4001 0.4444 0.394 ] [0.684, 0.749, 0.739, 0.752, 0.693]\n",
      "[0.4445 0.2956 0.4445 0.3962 0.3385] [0.732, 0.606, 0.731, 0.704, 0.61]\n",
      "[0.4195 0.4453 0.4253 0.1506 0.3588] [0.709, 0.732, 0.683, 0.444, 0.638]\n",
      "[0.2391 0.3442 0.4107 0.4474 0.4545] [0.581, 0.744, 0.658, 0.788, 0.753]\n",
      "[0.3828 0.3396 0.3743 0.3603 0.4021] [0.687, 0.653, 0.669, 0.631, 0.663]\n",
      "[0.4303 0.3581 0.347  0.346  0.4434] [0.731, 0.619, 0.649, 0.656, 0.758]\n",
      "[0.4292 0.456  0.357  0.3722 0.435 ] [0.744, 0.757, 0.685, 0.699, 0.79]\n",
      "[0.3251 0.2108 0.2845 0.3566 0.4853] [0.65, 0.661, 0.683, 0.609, 0.574]\n",
      "[0.3861 0.4187 0.2525 0.4134 0.3378] [0.657, 0.703, 0.443, 0.675, 0.644]\n",
      "[0.3661 0.1122 0.3318 0.4671 0.3306] [0.584, 0.613, 0.656, 0.486, 0.598]\n",
      "[0.4162 0.3068 0.3216 0.4175 0.3928] [0.626, 0.702, 0.519, 0.672, 0.736]\n",
      "[0.3999 0.4117 0.3142 0.39   0.4468] [0.658, 0.705, 0.623, 0.629, 0.714]\n",
      "[0.3372 0.0523 0.2121 0.3098 0.3163] [0.449, 0.595, 0.535, 0.472, 0.535]\n",
      "[0.3411 0.4097 0.4051 0.4268 0.3749] [0.558, 0.688, 0.681, 0.703, 0.644]\n",
      "[0.3366 0.404  0.3674 0.4047 0.3816] [0.599, 0.707, 0.664, 0.693, 0.658]\n",
      "[0.4153 0.4005 0.3941 0.4559 0.3558] [0.718, 0.712, 0.676, 0.733, 0.743]\n",
      "[0.3094 0.3772 0.3991 0.3072 0.4733] [0.594, 0.649, 0.667, 0.572, 0.712]\n",
      "[0.3085 0.3691 0.4406 0.146  0.3999] [0.593, 0.641, 0.683, 0.448, 0.6]\n",
      "[0.4667 0.346  0.3099 0.3774 0.3926] [0.763, 0.631, 0.668, 0.747, 0.699]\n",
      "[0.3772 0.4215 0.4217 0.3886 0.44  ] [0.648, 0.747, 0.77, 0.701, 0.752]\n",
      "[0.4233 0.2678 0.4021 0.4002 0.29  ] [0.694, 0.531, 0.713, 0.681, 0.59]\n",
      "[0.3425 0.3841 0.1158 0.4223 0.2411] [0.447, 0.514, 0.639, 0.486, 0.547]\n",
      "[0.3771 0.4146 0.3106 0.3796 0.4352] [0.684, 0.725, 0.656, 0.681, 0.728]\n",
      "[0.4196 0.3183 0.3688 0.4145 0.3734] [0.7, 0.574, 0.698, 0.731, 0.681]\n",
      "[0.4033 0.3701 0.3892 0.4517 0.3999] [0.747, 0.701, 0.685, 0.735, 0.706]\n",
      "[0.3635 0.3745 0.3688 0.4163 0.4434] [0.614, 0.592, 0.6, 0.612, 0.648]\n",
      "[0.4112 0.3126 0.2246 0.451  0.4227] [0.649, 0.685, 0.565, 0.665, 0.706]\n",
      "[0.2233 0.3928 0.4154 0.47   0.2918] [0.504, 0.773, 0.71, 0.751, 0.645]\n",
      "[0.2316 0.4538 0.2113 0.3705 0.3841] [0.627, 0.625, 0.634, 0.47, 0.639]\n",
      "[0.4042 0.4082 0.3405 0.21   0.3422] [0.675, 0.695, 0.623, 0.47, 0.626]\n",
      "[0.3693 0.3893 0.4008 0.4351 0.408 ] [0.715, 0.689, 0.724, 0.777, 0.73]\n",
      "[0.1906 0.3452 0.3291 0.3904 0.4147] [0.498, 0.605, 0.584, 0.613, 0.612]\n",
      "[0.3592 0.3991 0.3541 0.395  0.4119] [0.604, 0.71, 0.645, 0.675, 0.68]\n",
      "[0.3382 0.3115 0.3252 0.4616 0.2003] [0.664, 0.617, 0.619, 0.594, 0.651]\n",
      "[0.331  0.3761 0.3651 0.4271 0.4039] [0.681, 0.633, 0.696, 0.657, 0.65]\n",
      "[0.3853 0.3865 0.3959 0.3641 0.3206] [0.657, 0.675, 0.656, 0.619, 0.615]\n",
      "[0.3449 0.3637 0.1303 0.2526 0.2966] [0.471, 0.496, 0.497, 0.607, 0.581]\n",
      "[0.4188 0.4489 0.4401 0.4081 0.3785] [0.771, 0.777, 0.791, 0.771, 0.703]\n",
      "[0.4315 0.3831 0.3607 0.4096 0.4127] [0.761, 0.729, 0.673, 0.75, 0.757]\n",
      "[0.2829 0.4474 0.4689 0.2586 0.4236] [0.685, 0.676, 0.718, 0.653, 0.716]\n",
      "[0.3034 0.3882 0.3231 0.3355 0.4418] [0.687, 0.619, 0.574, 0.7, 0.691]\n",
      "[0.3657 0.4166 0.4445 0.4352 0.3486] [0.729, 0.766, 0.707, 0.716, 0.689]\n",
      "[0.3698 0.3822 0.401  0.2331 0.3369] [0.613, 0.599, 0.613, 0.589, 0.645]\n",
      "[0.2818 0.3513 0.4386 0.4106 0.3168] [0.677, 0.655, 0.662, 0.619, 0.544]\n",
      "[0.4581 0.4111 0.3874 0.3986 0.3083] [0.737, 0.698, 0.716, 0.669, 0.599]\n",
      "[0.3747 0.4567 0.4208 0.3786 0.4205] [0.734, 0.793, 0.79, 0.676, 0.75]\n",
      "[0.2727 0.3977 0.4684 0.3397 0.3067] [0.515, 0.645, 0.665, 0.63, 0.6]\n",
      "[0.4289 0.4176 0.3044 0.4097 0.3252] [0.641, 0.635, 0.717, 0.73, 0.625]\n",
      "[0.3803 0.317  0.4589 0.4234 0.4096] [0.7, 0.602, 0.777, 0.745, 0.789]\n",
      "[0.4408 0.2746 0.3976 0.357  0.3682] [0.686, 0.589, 0.659, 0.617, 0.726]\n",
      "[0.3872 0.3775 0.2312 0.3986 0.2135] [0.478, 0.564, 0.685, 0.491, 0.577]\n",
      "[0.2826 0.345  0.3491 0.4376 0.3911] [0.571, 0.579, 0.666, 0.642, 0.582]\n",
      "[0.4208 0.4064 0.2771 0.3109 0.4084] [0.708, 0.701, 0.531, 0.631, 0.714]\n",
      "[0.202  0.4321 0.4014 0.4118 0.4366] [0.5, 0.674, 0.677, 0.616, 0.655]\n",
      "[0.3866 0.2814 0.3311 0.3701 0.3533] [0.558, 0.545, 0.563, 0.629, 0.54]\n"
     ]
    }
   ],
   "source": [
    "kend_us = []\n",
    "for sim in range(100):\n",
    "\n",
    "    rankings, predictions_on_N, true_y = simulate_models_and_predictions(num_models=5, N=1000, num_features=5)\n",
    "    accs_only = [tup[1] for tup in rankings]\n",
    "\n",
    "    match_rates = []\n",
    "    for i in range(predictions_on_N.shape[1]):\n",
    "        match_rate = np.mean(predictions_on_N[:, i] == true_y)\n",
    "        match_rates.append(match_rate)\n",
    "\n",
    "\n",
    "    n_examples = predictions_on_N.shape[0]\n",
    "    n_classes = 2\n",
    "    n_models = predictions_on_N.shape[1]\n",
    "\n",
    "    one_hot_predictions = np.zeros((n_examples, n_models, n_classes))\n",
    "\n",
    "    # Loop over both classes\n",
    "    # Loop over both classes\n",
    "    for class_idx in range(n_classes):\n",
    "        # Loop over each model (column)\n",
    "        for i in range(n_models):\n",
    "            one_class_preds = (predictions_on_N[:,i] == class_idx).astype(int)\n",
    "            one_hot_predictions[np.arange(n_examples), i, class_idx] = one_class_preds\n",
    "        \n",
    "\n",
    "    _, _, _, _, prevalence, error_rates, _ = run(one_hot_predictions)\n",
    "    weighted_diagonal_sums = np.array([np.sum(matrix.diagonal() * prevalence)/2 for matrix in error_rates])\n",
    "    print(weighted_diagonal_sums, match_rates)\n",
    "    sp_u = spearmanr(weighted_diagonal_sums, match_rates)[0]\n",
    "    kend_u = kendalltau(weighted_diagonal_sums, match_rates)[0]\n",
    "    kend_us.append(kend_u)\n",
    "\n",
    "# kend_u"
   ]
  },
  {
   "cell_type": "code",
   "execution_count": 14,
   "metadata": {},
   "outputs": [
    {
     "data": {
      "image/png": "[encoded data removed]",
      "text/plain": [
       "<Figure size 1000x600 with 1 Axes>"
      ]
     },
     "metadata": {},
     "output_type": "display_data"
    }
   ],
   "source": [
    "labels = ['0'] + [key for key in kendalls_labeled.keys()]\n",
    "values = [kend_us[:25]] + list(kendalls_labeled.values())\n",
    "\n",
    "# Plotting\n",
    "plt.figure(figsize=(10, 6))\n",
    "plt.boxplot(values, vert=True, patch_artist=True, labels=labels)\n",
    "plt.title(\"Labels vs Ranking Accuracy\")\n",
    "plt.xlabel(\"Number of labeled points (total points = 1000)\")\n",
    "plt.ylabel(\"Kendall Taus\")\n",
    "plt.grid(axis='y', linestyle='--', alpha=0.7)\n",
    "plt.show()"
   ]
  },
  {
   "cell_type": "code",
   "execution_count": null,
   "metadata": {},
   "outputs": [
    {
     "data": {
      "text/plain": [
       "6"
      ]
     },
     "execution_count": 45,
     "metadata": {},
     "output_type": "execute_result"
    }
   ],
   "source": [
    "# len([kend_us] + values)\n",
    "\n",
    "rankings, predictions_on_N, true_y = simulate_models_and_predictions(num_models=5, N=1000, num_features=5)\n",
    "accs_only = [tup[1] for tup in rankings]\n",
    "\n",
    "match_rates = []\n",
    "for i in range(predictions_on_N.shape[1]):\n",
    "    match_rate = np.mean(predictions_on_N[:, i] == true_y)\n",
    "    match_rates.append(match_rate)\n",
    "\n",
    "N=1000\n",
    "label=0\n",
    "indices = observed_indices = torch.randperm(N)[:label]\n",
    "# print(indices)\n",
    "\n",
    "mask = [False for i in range(N)]\n",
    "for index in indices:\n",
    "    mask[index] = True\n",
    "\n",
    "\n",
    "pyro.clear_param_store()\n",
    "logging.getLogger(\"pyro\").setLevel(logging.DEBUG)\n",
    "nuts_kernel = NUTS(corrected_dawid_skene_model_with_observed, jit_compile=True, ignore_jit_warnings=True)\n",
    "mcmc = MCMC(nuts_kernel, num_samples=100, warmup_steps=500)\n",
    "\n",
    "observed_y = torch.full((N,), -1, dtype=torch.int64)\n",
    "observed_y[indices] = torch.tensor(true_y[indices])\n",
    "mcmc.run(torch.tensor(predictions_on_N), observed_y, torch.tensor(mask))\n",
    "\n",
    "posterior_samples_corrected = mcmc.get_samples()\n",
    "\n",
    "theta = posterior_samples_corrected[\"theta\"]\n",
    "pi = posterior_samples_corrected[\"pi\"]\n",
    "# 1. & 3. Take max values from rows 0 and 1 respectively\n",
    "max_row_0 = torch.max(theta[:,:,0,:], dim=2)[0]  # Shape: (500, 5)\n",
    "max_row_1 = torch.max(theta[:,:,1,:], dim=2)[0]  # Shape: (500, 5)\n",
    "\n",
    "# 2. & 4. Multiply with pi values\n",
    "result_row_0 = max_row_0 * pi[:,0].unsqueeze(1)  # Shape: (500, 5)\n",
    "result_row_1 = max_row_1 * pi[:,1].unsqueeze(1)  # Shape: (500, 5)\n",
    "\n",
    "# 5. Sum the results\n",
    "result = result_row_0 + result_row_1  # Shape: (500, 5)"
   ]
  },
  {
   "cell_type": "code",
   "execution_count": null,
   "metadata": {},
   "outputs": [],
   "source": []
  }
 ],
 "metadata": {
  "kernelspec": {
   "display_name": "frank",
   "language": "python",
   "name": "python3"
  },
  "language_info": {
   "codemirror_mode": {
    "name": "ipython",
    "version": 3
   },
   "file_extension": ".py",
   "mimetype": "text/x-python",
   "name": "python",
   "nbconvert_exporter": "python",
   "pygments_lexer": "ipython3",
   "version": "3.9.18"
  },
  "orig_nbformat": 4
 },
 "nbformat": 4,
 "nbformat_minor": 2
}
