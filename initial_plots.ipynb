{
 "cells": [
  {
   "cell_type": "code",
   "execution_count": 3,
   "metadata": {},
   "outputs": [],
   "source": [
    "import pandas as pd\n",
    "from paths import create_results_path, get_config_hash\n",
    "\n",
    "\n",
    "# This run's options\n",
    "n_runs = 3\n",
    "datasets = ['civilcomments']\n",
    "ranking_algs = ['random', 'labeled_global', 'labeled_group_specific', 'oracle']\n",
    "labeled_pcts = [.1, .25, .5, 1.0]\n",
    "\n",
    "# Sorting so that the different orderings of group variables produce the same experiment config\n",
    "list_of_group_vars = [['sex:male',  'race:black', 'religion:muslim'],]\n",
    "list_of_group_vars = [sorted(x) for x in list_of_group_vars]\n",
    "group_definitions = [','.join(x) for x in list_of_group_vars]\n",
    "\n",
    "expt_configs = []\n",
    "for dataset in datasets:\n",
    "    for ranking_alg in ranking_algs:\n",
    "        for group_definition in group_definitions:\n",
    "            for labeled_pct in labeled_pcts:\n",
    "                for run in range(n_runs):\n",
    "\n",
    "                    expt_config = {'dataset': dataset, 'learning_algs': ['ERM', 'IRM', 'GroupDRO', 'CORAL'],\n",
    "                                'group_definition': group_definition,\n",
    "                                'ranking_alg':  ranking_alg, 'labeled_pct': labeled_pct, 'run': run}\n",
    "                                \n",
    "                    expt_configs.append(expt_config)\n",
    "\n",
    "# Load all results\n",
    "results = []\n",
    "for expt_config in expt_configs:\n",
    "    results_dir = create_results_path(expt_config)\n",
    "    results.append(pd.read_csv(results_dir + '/' + get_config_hash(expt_config) + '.csv'))\n",
    "results_df = pd.concat(results)"
   ]
  },
  {
   "cell_type": "code",
   "execution_count": 4,
   "metadata": {},
   "outputs": [
    {
     "ename": "NameError",
     "evalue": "name 'sns' is not defined",
     "output_type": "error",
     "traceback": [
      "\u001b[0;31m---------------------------------------------------------------------------\u001b[0m",
      "\u001b[0;31mNameError\u001b[0m                                 Traceback (most recent call last)",
      "\u001b[1;32m/data/ddmg/frank/divya/model_ranking/initial_plots.ipynb Cell 2\u001b[0m line \u001b[0;36m5\n\u001b[1;32m      <a href='vscode-notebook-cell://ssh-remote%2B7b22686f73744e616d65223a2261686f792e637361696c2e6d69742e656475222c2275736572223a22646976796173227d/data/ddmg/frank/divya/model_ranking/initial_plots.ipynb#W1sdnNjb2RlLXJlbW90ZQ%3D%3D?line=0'>1</a>\u001b[0m \u001b[39m# x-axis is amount of labeled data \u001b[39;00m\n\u001b[1;32m      <a href='vscode-notebook-cell://ssh-remote%2B7b22686f73744e616d65223a2261686f792e637361696c2e6d69742e656475222c2275736572223a22646976796173227d/data/ddmg/frank/divya/model_ranking/initial_plots.ipynb#W1sdnNjb2RlLXJlbW90ZQ%3D%3D?line=1'>2</a>\u001b[0m \u001b[39m# y-axis is avg # of swaps from true ranking across groups? \u001b[39;00m\n\u001b[1;32m      <a href='vscode-notebook-cell://ssh-remote%2B7b22686f73744e616d65223a2261686f792e637361696c2e6d69742e656475222c2275736572223a22646976796173227d/data/ddmg/frank/divya/model_ranking/initial_plots.ipynb#W1sdnNjb2RlLXJlbW90ZQ%3D%3D?line=2'>3</a>\u001b[0m \u001b[39m# color is ranking algorithm (labeled_global, labeled_group_specific, oracle, random)\u001b[39;00m\n\u001b[0;32m----> <a href='vscode-notebook-cell://ssh-remote%2B7b22686f73744e616d65223a2261686f792e637361696c2e6d69742e656475222c2275736572223a22646976796173227d/data/ddmg/frank/divya/model_ranking/initial_plots.ipynb#W1sdnNjb2RlLXJlbW90ZQ%3D%3D?line=4'>5</a>\u001b[0m sns\u001b[39m.\u001b[39mpointplot(x\u001b[39m=\u001b[39m\u001b[39m'\u001b[39m\u001b[39mlabeled_pct\u001b[39m\u001b[39m'\u001b[39m, y\u001b[39m=\u001b[39m\u001b[39m'\u001b[39m\u001b[39mkendalltau\u001b[39m\u001b[39m'\u001b[39m, hue\u001b[39m=\u001b[39m\u001b[39m'\u001b[39m\u001b[39mranking_alg\u001b[39m\u001b[39m'\u001b[39m, data\u001b[39m=\u001b[39mresults_df)\n",
      "\u001b[0;31mNameError\u001b[0m: name 'sns' is not defined"
     ]
    }
   ],
   "source": [
    "import seaborn as sns\n",
    "# x-axis is amount of labeled data \n",
    "# y-axis is avg # of swaps from true ranking across groups? \n",
    "# color is ranking algorithm (labeled_global, labeled_group_specific, oracle, random)\n",
    "\n",
    "sns.pointplot(x='labeled_pct', y='kendalltau', hue='ranking_alg', data=results_df)"
   ]
  },
  {
   "cell_type": "code",
   "execution_count": null,
   "metadata": {},
   "outputs": [],
   "source": [
    "# Plot as a function of group size\n"
   ]
  },
  {
   "cell_type": "code",
   "execution_count": null,
   "metadata": {},
   "outputs": [],
   "source": [
    "# Heterogeneity in group size"
   ]
  }
 ],
 "metadata": {
  "kernelspec": {
   "display_name": "frank",
   "language": "python",
   "name": "python3"
  },
  "language_info": {
   "codemirror_mode": {
    "name": "ipython",
    "version": 3
   },
   "file_extension": ".py",
   "mimetype": "text/x-python",
   "name": "python",
   "nbconvert_exporter": "python",
   "pygments_lexer": "ipython3",
   "version": "3.9.18"
  }
 },
 "nbformat": 4,
 "nbformat_minor": 2
}
